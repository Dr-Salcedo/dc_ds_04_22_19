{
 "cells": [
  {
   "cell_type": "code",
   "execution_count": 1,
   "metadata": {
    "ExecuteTime": {
     "end_time": "2019-05-17T19:52:04.807029Z",
     "start_time": "2019-05-17T19:52:01.107063Z"
    }
   },
   "outputs": [
    {
     "name": "stdout",
     "output_type": "stream",
     "text": [
      "[3.75, 2.75, 3.0, 3.5, 3.5, 2.75, 3.5, 3.5, 3.75, 4.0, 2.75, 3.0, 3.25, 3.75, 2.75, 3.0, 3.25, 4.0, 3.25, 3.5, 4.0, 3.5, 3.75, 3.75, 3.75, 2.75, 3.25, 3.5, 3.5, 2.75, 3.0, 3.0, 3.75, 2.75, 2.75, 2.75, 2.75, 3.0, 2.5, 2.5, 3.5, 3.5, 3.5, 3.5, 2.75, 3.0, 2.5, 2.5, 2.75, 2.5, 3.0, 3.25, 3.0, 3.25, 4.0, 3.75, 4.0, 3.0, 3.0, 2.75, 3.5, 3.0, 3.75, 3.0, 2.75, 2.75, 3.0, 3.25, 3.5, 3.0, 3.25, 3.25, 3.25, 3.25, 3.5, 3.75, 4.0, 4.0, 5.0, 3.0, 3.0, 3.5, 3.75, 4.0, 3.5, 3.5, 5.0, 4.0, 3.25, 2.75, 3.75, 3.75, 4.0, 3.0, 3.5, 3.0, 2.5, 2.75, 3.0, 3.5, 3.75, 3.5, 3.25, 3.25, 3.5, 3.75, 3.5, 4.0, 4.0, 3.75, 3.25, 3.25, 3.5, 3.5, 3.75, 3.5, 3.75, 4.0, 2.75, 3.25, 3.5, 3.25, 3.75, 4.0, 2.75, 1.75, 3.75, 3.25, 3.25, 3.5, 2.5, 2.75, 1.75, 3.0, 3.0, 3.25, 3.75, 2.75, 3.75, 3.75, 3.75, 3.75, 2.5, 3.0, 3.25, 3.5, 3.0, 2.5, 2.5, 2.75, 3.5, 3.5, 4.0, 3.25, 3.5, 3.75, 2.75, 3.5, 3.75, 3.25, 3.0, 3.25, 2.75, 2.75, 2.75, 2.75, 2.75, 2.75, 2.75, 3.5, 3.5, 3.25, 3.5, 2.75, 3.0, 3.5, 3.5, 3.5, 3.5, 4.0, 4.0, 3.75, 2.75, 3.0, 3.0, 3.5, 4.0, 3.25, 3.25, 3.5, 3.5, 2.5, 2.5, 2.5, 3.25, 3.5, 3.25, 3.75, 2.75, 3.0, 3.0, 3.0, 3.5, 3.25, 3.5, 3.0, 3.5, 3.75, 3.0, 2.75, 2.75, 3.0, 2.75, 3.5, 2.75, 3.5, 2.75, 3.5, 3.0, 3.5, 3.75, 3.5, 4.0, 3.25, 3.75, 3.5, 3.25, 3.5, 3.5, 3.5, 3.75, 4.0, 4.0, 3.5, 3.25, 3.0, 2.75, 3.0, 3.0, 4.0, 2.5, 3.75, 4.0, 4.0, 4.0, 1.5, 3.0, 4.0, 3.25, 1.5, 2.75, 2.75, 3.5, 3.75, 3.75, 3.75, 4.0, 3.0, 3.25, 3.5, 3.5, 3.0, 3.25, 3.5, 2.75, 3.25, 3.25, 3.0, 3.0, 3.5, 3.5, 2.75, 3.25, 2.75, 3.25, 3.5, 3.25, 3.25, 2.5, 2.5, 2.5, 2.5, 2.75, 2.25, 3.5, 3.0, 2.0, 2.0, 3.0, 3.5, 3.25, 2.5, 3.25, 3.5, 3.75, 3.25, 3.75, 3.75, 3.75, 3.5, 3.5, 2.75, 3.25, 3.5, 3.75, 3.0, 3.75, 3.25, 3.5, 3.5, 3.75, 4.0, 3.25, 3.5, 3.5, 4.0, 4.0, 3.0, 3.25, 3.5, 3.25, 3.5, 3.5, 2.5, 1.5, 2.75, 1.0, 2.5, 3.0, 3.5, 3.5, 3.0, 2.25, 2.5, 2.5, 2.75, 3.0, 3.0, 3.25, 2.0, 2.5, 2.75, 3.0, 3.25, 3.5, 3.5, 3.75, 3.5, 3.25, 3.5, 3.0, 2.75, 3.0, 3.25, 3.25, 3.5, 3.5, 4.0, 3.5, 3.75, 3.5, 3.5, 3.5, 2.75, 3.0, 3.5, 2.5, 3.25, 3.25, 2.75, 3.0, 2.5, 2.75, 2.75, 3.0, 2.75, 2.75, 3.25, 2.75, 3.0, 3.5, 3.5, 3.25, 3.0, 3.25, 2.75, 3.5, 2.5, 2.75, 2.5, 3.75, 3.75, 2.5, 2.5, 2.5, 2.75, 3.0, 3.0, 3.0, 3.25, 2.75, 2.75, 3.25, 3.5, 3.75, 3.75, 3.75, 3.75, 2.5, 2.75, 3.25, 2.5, 3.0, 3.25, 3.25, 3.5, 3.25, 3.25, 3.5, 2.5, 2.5, 3.0, 2.5, 2.5, 2.5, 2.75, 3.0, 3.0, 3.0, 2.75, 3.25, 3.75, 3.0, 2.75, 3.75, 3.0, 4.0, 1.0, 3.5, 3.0, 3.25, 2.75, 3.25, 3.75, 2.75, 3.5, 2.75, 3.25, 3.5, 1.5, 3.75, 3.5, 3.25, 3.0, 2.5, 3.0, 3.25, 3.25, 3.0, 3.25, 3.5, 3.75, 3.0, 3.0, 3.0, 1.0, 2.5, 2.75, 3.25, 3.25, 3.25, 3.25, 3.5, 3.25, 3.75, 2.75, 3.25, 2.75, 3.0, 3.5, 2.25, 2.75, 3.75, 3.0, 3.5, 3.5, 2.75, 3.75, 2.75, 3.25, 3.5, 3.5, 3.0, 3.25, 3.75, 3.25, 3.25, 3.25, 3.25, 3.0, 3.75, 3.75, 4.0, 3.25, 3.5, 3.0, 3.25, 2.75, 3.0, 3.25, 3.25, 3.0, 3.25, 3.0, 3.25, 2.5, 2.75, 2.75, 3.25, 3.5, 3.5, 2.5, 3.0, 2.5, 3.0, 3.0, 3.0, 3.0, 3.0, 3.0, 3.75, 2.5, 2.75, 3.5, 3.5, 3.75, 3.5, 3.75, 3.5, 3.25, 3.5, 2.75, 2.75, 2.75, 3.0, 2.75, 3.0, 3.25, 3.0, 3.25, 3.25, 3.5, 3.75, 3.0, 1.5, 3.75, 3.75, 3.0, 3.5, 3.75, 3.5, 3.0, 3.0, 3.0, 3.5, 3.75, 4.0, 3.25, 3.25, 3.5, 3.5, 3.75, 4.0, 4.0, 3.0, 3.25, 3.5, 2.75, 2.5, 2.75, 2.75, 4.0, 3.5, 3.75, 3.75, 3.75, 3.5, 3.0, 3.25, 3.5, 3.5, 3.75, 2.5, 3.75, 3.25, 2.75, 3.5, 3.5, 3.25, 3.25, 4.0, 3.25, 3.5, 3.75, 3.25, 3.25, 2.75, 3.0, 3.75, 2.75, 3.75, 2.75, 3.0, 2.5, 2.5, 3.0, 2.75, 2.75, 3.25, 3.0, 3.5, 3.25, 3.25, 3.25, 3.0, 3.25, 2.75, 2.0, 3.5, 2.75, 3.0, 2.5, 2.5, 2.5, 2.75, 2.5, 3.0, 3.5, 3.75, 2.75, 3.0, 2.5, 2.75, 3.5, 2.0, 3.0, 3.0, 3.0, 3.5, 4.0, 2.25, 3.0, 3.25, 2.5, 2.75, 2.75, 2.75, 2.75, 3.5, 3.75, 3.5, 3.75, 3.75, 3.5, 3.5, 3.5, 3.0, 3.5, 3.5, 3.5, 3.5, 3.0, 3.25, 3.5, 2.5, 3.5, 2.0, 3.5, 3.5, 3.0, 3.5, 3.5, 3.5, 3.25, 3.75, 3.75, 4.0, 3.5, 3.5, 4.0, 4.0, 3.0, 2.75, 3.25, 3.5, 3.5, 2.75, 3.25, 3.0, 3.25, 4.0, 2.75, 3.0, 3.25, 3.5, 3.5, 3.0, 3.25, 3.5, 3.25, 3.5, 3.25, 3.25, 3.25, 3.75, 3.25, 3.5, 3.5, 3.75, 4.0, 3.75, 3.0, 3.75, 3.0, 2.5, 3.25, 3.0, 2.5, 3.25, 4.0, 3.5, 3.5, 3.5, 3.5, 3.0, 2.75, 3.25, 3.25, 3.0, 2.5, 3.5, 3.25, 2.75, 2.5, 3.0, 3.0, 3.0, 3.0, 3.25, 3.75, 2.75, 2.75, 3.25, 3.5, 2.75, 3.25, 3.25, 3.0, 3.0, 3.0, 3.5, 3.0, 3.0, 3.5, 3.5, 3.0, 2.5, 3.5, 3.5, 3.5, 3.0, 2.75, 2.75, 3.25, 3.5, 2.75, 3.0, 3.0, 3.25, 2.0, 2.5, 2.75, 3.0, 3.0, 3.25, 3.0, 3.5, 3.5, 2.75, 3.25, 3.5, 3.5, 3.0, 3.75, 3.75, 3.5, 3.5, 3.5, 3.75, 4.0, 2.75, 3.5, 2.75, 3.0, 3.0, 3.25, 3.25, 2.75, 2.75, 3.25, 3.5, 2.0, 2.5, 3.0, 3.25, 3.5, 2.75, 3.5, 3.5, 3.5, 3.5, 2.5, 2.75, 3.5, 3.75, 2.5, 2.75, 4.0, 1.75, 3.0, 3.5, 3.0, 3.0, 3.5, 2.75, 2.5, 2.75, 3.5, 3.0, 3.0, 3.25, 2.75, 3.0, 2.75, 3.0, 2.5, 2.75, 3.0, 3.5, 3.0, 3.0, 3.0, 3.75, 3.5, 3.25, 3.75, 3.75, 3.75, 3.75, 3.25, 3.75, 4.0, 3.5, 4.0, 4.0, 4.0, 2.5, 3.25, 2.75, 3.0, 2.75, 3.0, 3.5, 2.25, 3.25, 3.25, 3.5, 2.75, 2.0, 2.75, 3.5, 3.5, 4.0, 3.5, 3.0, 3.25, 3.25, 2.5, 3.75, 3.0, 3.5, 2.75, 2.5, 2.75, 3.0, 2.5, 3.0, 2.75, 2.75, 3.75, 2.0, 3.0, 2.5, 2.75, 3.0, 3.25, 3.25, 3.25, 3.25, 3.25, 2.75, 3.75, 3.75, 2.5, 3.0, 2.5, 3.0, 3.25, 4.0, 3.75, 3.75, 3.25, 3.75, 3.0, 3.5, 3.0, 2.25, 2.5, 3.0, 3.0, 2.75, 3.25, 3.25, 3.5, 3.5, 3.25, 3.5, 3.0, 3.75, 3.5, 2.5, 3.25, 2.75, 2.75, 3.0, 3.25, 3.0, 3.5, 3.25, 3.75, 2.75, 2.75, 3.5, 2.5, 3.5, 3.0, 3.0, 3.0, 3.5, 3.25, 3.25, 3.25, 3.5, 3.0, 3.25, 3.5, 3.5, 3.5, 3.0, 3.5, 3.5, 3.75, 2.75, 3.0, 3.5, 3.0, 2.5, 3.75, 3.25, 3.75, 3.0, 3.0, 3.5, 2.0, 2.75, 3.0, 3.0, 3.5, 1.5, 2.25, 3.5, 3.75, 4.0, 3.5, 3.5, 2.75, 3.5, 2.75, 2.75, 3.25, 3.25, 3.5, 2.5, 2.75, 2.75, 2.0, 3.0, 3.25, 3.75, 2.0, 2.75, 3.5, 3.5, 3.5, 2.75, 3.0, 2.5, 2.5, 2.75, 3.75, 2.75, 3.5, 3.75, 3.75, 3.25, 2.75, 3.0, 3.25, 3.75, 3.5, 3.75, 3.5, 3.25, 3.5, 3.25, 3.25, 3.5, 3.5, 3.5, 2.75, 3.5, 3.5, 2.75, 3.0, 3.5, 3.0, 2.75, 3.0, 3.25, 3.25, 3.5, 3.75, 3.5, 3.5, 3.5, 3.5, 3.5, 3.0, 3.5, 3.0, 3.0, 3.25, 3.5, 2.25, 2.5, 2.75, 3.0, 3.25, 3.0, 3.25, 3.75, 3.5, 2.5, 2.75, 3.5, 3.0, 3.0, 2.75, 3.5, 2.75, 3.0, 3.25, 3.75, 2.75, 3.0, 3.25, 3.5, 4.0, 4.0, 3.75, 3.25, 3.25, 3.25, 3.5, 3.0, 2.5, 2.75, 3.0, 3.0, 3.5, 2.5, 2.5, 2.75, 3.0, 3.25, 3.5, 3.25, 3.5, 3.0, 3.5, 3.5, 3.75, 3.5, 3.5, 2.0, 2.0, 3.0, 4.0, 4.0, 4.0, 2.0, 3.5, 3.5, 3.75, 3.75, 3.25, 3.5, 2.5, 3.25, 1.5, 2.0, 2.5, 2.5, 3.5, 2.75, 2.75, 3.5, 3.75, 3.5, 2.5, 3.25, 3.0, 2.75, 3.0, 2.75, 3.25, 2.75, 2.75, 3.25, 3.5, 3.25, 3.25, 3.5, 3.5, 3.5, 3.5, 2.75, 2.75, 2.75, 3.0, 2.5, 3.0, 3.75, 3.75, 2.5, 3.25, 2.75, 3.0, 3.5, 2.25, 2.5, 2.5, 3.5, 2.5, 3.75, 1.0, 2.0, 2.75, 3.0, 2.25, 2.75, 3.0, 3.0, 2.75, 3.5, 3.0, 3.0, 3.25, 3.0, 3.0, 3.0, 2.75, 3.25, 3.75, 2.75, 3.0, 3.5, 3.75, 3.5, 2.5, 3.75, 3.75, 3.75, 4.0, 2.75, 3.5, 2.75, 3.0, 3.25, 3.5, 2.75, 3.0, 3.5, 3.0, 3.0, 2.75, 3.0, 2.0, 2.75, 2.75, 3.0, 2.75, 3.75, 3.0, 3.5, 2.75, 2.75, 2.75, 3.0, 3.0, 2.75, 3.25, 3.75, 3.0, 3.0, 3.25, 3.0, 3.0, 3.0, 3.0, 4.0, 3.25, 3.5, 3.75, 4.0, 2.75, 4.0, 3.5, 2.5, 2.75, 3.0, 2.0, 3.5, 2.75, 3.0, 3.25, 3.25, 3.5, 3.75, 2.75, 3.75, 2.75, 3.5, 3.75, 3.0, 3.5, 3.25, 3.5, 3.0, 3.5, 2.5, 2.75, 3.75, 4.0, 3.5, 3.5, 4.0, 4.0, 2.25, 2.75, 3.0, 3.25, 3.0, 3.25, 3.75, 3.0, 3.0, 3.0, 4.0, 3.75, 4.0, 3.5, 4.0, 3.0, 4.0, 2.5, 2.5, 2.75, 2.75, 2.75, 3.25, 3.25, 2.5, 3.25, 3.5, 2.5, 2.75, 3.75, 3.75, 3.5, 3.0, 2.75, 3.5, 3.75, 3.25, 3.25, 3.5, 2.0, 3.0, 3.0, 2.0, 3.5, 4.0, 3.0, 3.5, 3.5, 3.5, 3.75, 3.5, 3.5, 4.0, 3.0, 3.0, 3.25, 3.5, 4.0, 3.0, 3.0, 3.5, 3.5, 3.5, 3.5, 2.75, 2.75, 3.0, 3.25, 2.75, 2.75, 3.25, 3.5, 2.75, 3.25, 3.0, 3.25, 2.75, 3.0, 3.0, 2.75, 3.25, 3.5, 2.75, 3.0, 2.5, 3.25, 3.5, 3.25, 2.5, 3.25, 2.5, 3.0, 3.5, 3.75, 3.75, 3.5, 3.5, 3.75, 3.0, 4.0, 3.25, 3.5, 3.5, 3.25, 3.25, 3.25, 3.25, 3.25, 3.5, 3.75, 3.75, 3.25, 3.75, 3.5, 3.5, 4.0, 3.75, 3.75, 3.0, 3.75, 3.5, 2.75, 2.75, 2.75, 3.0, 2.5, 2.25, 2.5, 3.5, 2.5, 3.5, 2.75, 3.5, 1.5, 3.0, 3.5, 3.5, 2.75, 3.25, 3.5, 3.5, 3.5, 3.5, 2.75, 3.0, 2.0, 3.0, 4.0, 2.75, 4.0, 3.75, 3.5, 3.75, 3.75, 4.0, 3.75, 3.0, 3.0, 3.0, 3.75, 3.0, 2.0, 3.5, 2.0, 2.0, 3.0, 2.75, 2.75, 3.25, 3.5, 2.75, 3.5, 3.0, 3.25, 2.0, 2.5, 3.25, 3.5, 3.25, 3.5, 2.5, 3.0, 3.25, 3.25, 3.0, 3.5, 3.5, 3.75, 3.0, 3.0, 3.0, 3.25, 3.25, 3.75, 3.75, 3.75, 2.75, 3.0, 3.5, 3.75, 4.0, 3.75, 3.0, 3.75, 3.25, 3.25, 3.5, 3.75, 3.75, 4.0, 2.75, 3.5, 3.0, 3.75, 1.5, 3.0, 3.25, 3.5, 3.0, 2.75, 2.75, 3.25, 3.25, 3.0, 3.0, 3.0, 3.25, 3.25, 3.5, 3.5, 3.5, 3.5, 3.75, 3.75, 4.0, 3.25, 3.5, 4.0, 3.5, 3.75, 3.25, 3.5, 3.75, 3.25, 3.75, 3.25, 2.75, 3.75, 3.25, 3.75, 4.0, 4.0, 4.0, 3.25, 4.0, 3.25, 3.75, 4.0, 4.0, 3.5, 3.75, 3.5, 3.5, 2.75, 3.5, 4.0, 4.0, 3.75, 3.5, 3.75, 3.0, 3.5, 3.0, 3.5, 3.75, 3.75, 3.25, 3.5, 3.25, 3.5, 3.5, 3.25, 3.25, 3.5, 3.0, 3.0, 3.25, 3.75, 3.5, 2.75, 3.5, 3.75, 3.75, 2.75, 3.0, 3.0, 2.25, 3.0, 3.0, 3.0, 3.0, 3.0, 2.75, 3.25, 3.5, 3.5, 2.5, 2.5, 2.75, 2.75, 3.25, 2.5, 3.0, 2.75, 3.0, 2.75, 3.25, 3.25, 3.25, 3.75, 3.25, 3.5, 3.5, 3.75, 3.5, 3.5, 3.25, 3.25, 3.25, 3.75, 3.0, 2.75, 2.75, 2.5, 3.0, 3.0, 3.25, 3.25, 2.75, 3.25, 3.0, 3.25, 2.75, 3.0, 2.0, 3.25, 2.75, 3.0, 2.5, 2.5, 2.75, 2.5, 2.75, 3.0, 3.0, 3.5, 3.25, 2.0, 3.25, 2.75, 3.0, 3.25, 2.75, 3.0, 3.25, 3.5, 2.75, 3.75, 3.75, 3.25, 3.5, 3.75, 3.25, 3.75, 3.75, 3.0, 3.25, 3.5, 2.5, 3.0, 2.0, 3.0, 3.25, 3.75, 3.25, 4.0, 3.0, 2.75, 3.0, 3.0, 3.5, 2.75, 3.5, 3.5, 3.25, 2.5, 2.75, 3.0, 3.75, 2.75, 3.0, 3.0, 3.25, 3.25, 4.0, 3.5, 3.5, 4.0, 3.25, 4.0, 3.75, 3.75, 3.5, 3.0, 3.75, 4.0, 1.5, 2.5, 2.75, 3.25, 3.0, 4.0, 2.5, 3.0, 3.5, 2.5, 2.75, 2.75, 2.75, 2.75, 3.0, 3.0, 3.25, 3.25, 3.25, 3.25, 3.5, 3.5, 3.75, 3.25, 3.5, 3.0, 2.0, 2.0, 3.0, 3.0, 2.75, 3.0, 3.0, 3.25, 2.75, 2.5, 2.5, 3.0, 3.5, 3.5, 2.5, 2.5, 2.75, 3.25, 2.75, 4.0, 3.0, 2.25, 3.0, 3.5, 3.75, 3.0, 3.25, 3.0, 3.5, 3.75, 3.0, 3.25, 3.5, 2.5, 3.0, 3.25, 4.0, 3.5, 3.0, 2.75, 2.5, 3.0, 3.25, 3.25, 3.25, 3.5, 3.0, 3.5, 2.75, 2.75, 3.0, 3.5, 3.5, 3.75, 3.25, 3.5, 3.5, 3.75, 2.75, 3.5, 3.5, 3.0, 3.5, 3.75, 3.0, 3.0, 3.25, 3.75, 3.25, 3.5, 3.75, 3.0, 3.5, 3.25, 3.0]\n"
     ]
    },
    {
     "data": {
      "text/plain": [
       "<Figure size 640x480 with 1 Axes>"
      ]
     },
     "metadata": {},
     "output_type": "display_data"
    }
   ],
   "source": [
    "import seaborn as sn\n",
    "from bs4 import BeautifulSoup\n",
    "import requests\n",
    "import pandas as pd\n",
    "import matplotlib.pyplot as plt\n",
    "import numpy as np\n",
    "\n",
    "webpage=requests.get('https://s3.amazonaws.com/codecademy-content/courses/beautifulsoup/cacao/index.html').content\n",
    "\n",
    "soup=BeautifulSoup(webpage, 'html.parser')\n",
    "\n",
    "score=soup.find_all(attrs ={'class': \"Rating\"})\n",
    "\n",
    "# for x in score:\n",
    "#   print(x.get_text())\n",
    "listo=[]\n",
    "number=[listo.append((x.get_text())) for x in score[1:]]\n",
    "\n",
    "# print(listo)\n",
    "final_list=[float(x) for x in listo]\n",
    "print(final_list)\n",
    "\n",
    "plt.hist(final_list)\n",
    "plt.show()"
   ]
  },
  {
   "cell_type": "code",
   "execution_count": 2,
   "metadata": {
    "ExecuteTime": {
     "end_time": "2019-05-17T19:52:05.627482Z",
     "start_time": "2019-05-17T19:52:05.333305Z"
    }
   },
   "outputs": [
    {
     "data": {
      "image/png": "[encoded data removed]",
      "text/plain": [
       "<Figure size 432x288 with 1 Axes>"
      ]
     },
     "metadata": {
      "needs_background": "light"
     },
     "output_type": "display_data"
    }
   ],
   "source": [
    "plt.hist(final_list)\n",
    "plt.show()"
   ]
  },
  {
   "cell_type": "code",
   "execution_count": 3,
   "metadata": {
    "ExecuteTime": {
     "end_time": "2019-05-17T19:52:06.265369Z",
     "start_time": "2019-05-17T19:52:06.176754Z"
    }
   },
   "outputs": [],
   "source": [
    "c=soup.select(\".Company\")\n"
   ]
  },
  {
   "cell_type": "code",
   "execution_count": 4,
   "metadata": {
    "ExecuteTime": {
     "end_time": "2019-05-17T19:52:09.277988Z",
     "start_time": "2019-05-17T19:52:09.263359Z"
    }
   },
   "outputs": [],
   "source": [
    "b=[x.get_text() for x in c[1:]]\n",
    "import numpy as np"
   ]
  },
  {
   "cell_type": "code",
   "execution_count": 11,
   "metadata": {
    "ExecuteTime": {
     "end_time": "2019-05-17T19:54:12.809877Z",
     "start_time": "2019-05-17T19:54:12.667170Z"
    }
   },
   "outputs": [
    {
     "data": {
      "text/html": [
       "<div>\n",
       "<style scoped>\n",
       "    .dataframe tbody tr th:only-of-type {\n",
       "        vertical-align: middle;\n",
       "    }\n",
       "\n",
       "    .dataframe tbody tr th {\n",
       "        vertical-align: top;\n",
       "    }\n",
       "\n",
       "    .dataframe thead th {\n",
       "        text-align: right;\n",
       "    }\n",
       "</style>\n",
       "<table border=\"1\" class=\"dataframe\">\n",
       "  <thead>\n",
       "    <tr style=\"text-align: right;\">\n",
       "      <th></th>\n",
       "      <th>Company</th>\n",
       "      <th>Rating</th>\n",
       "      <th>Rating_squared</th>\n",
       "    </tr>\n",
       "  </thead>\n",
       "  <tbody>\n",
       "    <tr>\n",
       "      <th>0</th>\n",
       "      <td>A. Morin</td>\n",
       "      <td>3.75</td>\n",
       "      <td>14.0625</td>\n",
       "    </tr>\n",
       "    <tr>\n",
       "      <th>1</th>\n",
       "      <td>A. Morin</td>\n",
       "      <td>2.75</td>\n",
       "      <td>7.5625</td>\n",
       "    </tr>\n",
       "    <tr>\n",
       "      <th>2</th>\n",
       "      <td>A. Morin</td>\n",
       "      <td>3</td>\n",
       "      <td>9.0000</td>\n",
       "    </tr>\n",
       "    <tr>\n",
       "      <th>3</th>\n",
       "      <td>A. Morin</td>\n",
       "      <td>3.5</td>\n",
       "      <td>12.2500</td>\n",
       "    </tr>\n",
       "    <tr>\n",
       "      <th>4</th>\n",
       "      <td>A. Morin</td>\n",
       "      <td>3.5</td>\n",
       "      <td>12.2500</td>\n",
       "    </tr>\n",
       "  </tbody>\n",
       "</table>\n",
       "</div>"
      ],
      "text/plain": [
       "    Company Rating  Rating_squared\n",
       "0  A. Morin   3.75         14.0625\n",
       "1  A. Morin   2.75          7.5625\n",
       "2  A. Morin      3          9.0000\n",
       "3  A. Morin    3.5         12.2500\n",
       "4  A. Morin    3.5         12.2500"
      ]
     },
     "execution_count": 11,
     "metadata": {},
     "output_type": "execute_result"
    }
   ],
   "source": [
    "df=pd.DataFrame([b, final_list]).transpose()\n",
    "df.columns=(\"Company\", \"Rating\")\n",
    "df[\"Rating_squared\"]=df[\"Rating\"].apply(lambda x: x**2)\n",
    "df.head()\n",
    "# df[\"average_score\"]=df[\"Rating\"].apply(lambda x: )\n",
    "df.head()"
   ]
  },
  {
   "cell_type": "code",
   "execution_count": 20,
   "metadata": {
    "ExecuteTime": {
     "end_time": "2019-05-17T19:56:16.689200Z",
     "start_time": "2019-05-17T19:56:16.684605Z"
    }
   },
   "outputs": [],
   "source": [
    "df['Rating'] = df['Rating'].astype(float)"
   ]
  },
  {
   "cell_type": "code",
   "execution_count": 24,
   "metadata": {
    "ExecuteTime": {
     "end_time": "2019-05-17T19:58:15.066750Z",
     "start_time": "2019-05-17T19:58:15.053661Z"
    }
   },
   "outputs": [],
   "source": [
    "df_2=df.groupby([\"Company\"]).mean()['Rating'].nlargest(10)"
   ]
  },
  {
   "cell_type": "code",
   "execution_count": 25,
   "metadata": {
    "ExecuteTime": {
     "end_time": "2019-05-17T19:58:22.552775Z",
     "start_time": "2019-05-17T19:58:22.543170Z"
    }
   },
   "outputs": [
    {
     "data": {
      "text/plain": [
       "Company\n",
       "Tobago Estate (Pralus)                  4.000000\n",
       "Heirloom Cacao Preservation (Zokoko)    3.875000\n",
       "Ocelot                                  3.875000\n",
       "Amedei                                  3.846154\n",
       "Matale                                  3.812500\n",
       "Patric                                  3.791667\n",
       "Idilio (Felchlin)                       3.775000\n",
       "Acalli                                  3.750000\n",
       "Chocola'te                              3.750000\n",
       "Christopher Morel (Felchlin)            3.750000\n",
       "Name: Rating, dtype: float64"
      ]
     },
     "execution_count": 25,
     "metadata": {},
     "output_type": "execute_result"
    }
   ],
   "source": [
    "df_2"
   ]
  },
  {
   "cell_type": "code",
   "execution_count": null,
   "metadata": {},
   "outputs": [],
   "source": []
  },
  {
   "cell_type": "code",
   "execution_count": null,
   "metadata": {},
   "outputs": [],
   "source": []
  }
 ],
 "metadata": {
  "kernelspec": {
   "display_name": "Python 3",
   "language": "python",
   "name": "python3"
  },
  "language_info": {
   "codemirror_mode": {
    "name": "ipython",
    "version": 3
   },
   "file_extension": ".py",
   "mimetype": "text/x-python",
   "name": "python",
   "nbconvert_exporter": "python",
   "pygments_lexer": "ipython3",
   "version": "3.7.1"
  },
  "toc": {
   "base_numbering": 1,
   "nav_menu": {},
   "number_sections": true,
   "sideBar": true,
   "skip_h1_title": false,
   "title_cell": "Table of Contents",
   "title_sidebar": "Contents",
   "toc_cell": false,
   "toc_position": {},
   "toc_section_display": true,
   "toc_window_display": false
  },
  "varInspector": {
   "cols": {
    "lenName": 16,
    "lenType": 16,
    "lenVar": 40
   },
   "kernels_config": {
    "python": {
     "delete_cmd_postfix": "",
     "delete_cmd_prefix": "del ",
     "library": "var_list.py",
     "varRefreshCmd": "print(var_dic_list())"
    },
    "r": {
     "delete_cmd_postfix": ") ",
     "delete_cmd_prefix": "rm(",
     "library": "var_list.r",
     "varRefreshCmd": "cat(var_dic_list()) "
    }
   },
   "types_to_exclude": [
    "module",
    "function",
    "builtin_function_or_method",
    "instance",
    "_Feature"
   ],
   "window_display": false
  }
 },
 "nbformat": 4,
 "nbformat_minor": 2
}

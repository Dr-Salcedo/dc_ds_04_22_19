{
 "cells": [
  {
   "cell_type": "code",
   "execution_count": 5,
   "metadata": {},
   "outputs": [
    {
     "name": "stdout",
     "output_type": "stream",
     "text": [
      "{'Pablo': [28, 'Salcedo'], 'Sam': [22, 'Willard'], 'Kev': [32, 'Krown'], 'Chris': [12, 'Grow'], 'Tim': [32, 'Evans']}\n"
     ]
    }
   ],
   "source": [
    "### 1. Create a dictionary where each object contains a list of one float (Age) and one string (Family name) (at least 5 objects)\n",
    "\n",
    "Dictionary={\"Pablo\": [28, \"Salcedo\"], \"Sam\": [22, \"Willard\"], \"Kev\": [32, \"Krown\"], \"Chris\": [12, \"Grow\"], \"Tim\": [32, \"Evans\"]} \n",
    "\n",
    "\n",
    "print(Dictionary)\n",
    "\n",
    "                                       "
   ]
  },
  {
   "cell_type": "code",
   "execution_count": 9,
   "metadata": {},
   "outputs": [
    {
     "name": "stdout",
     "output_type": "stream",
     "text": [
      "{'Pablo': [28, 'Salcedo'], 'Sam': [22, 'Willard'], 'Kev': [32, 'Krown'], 'Chris': [12, 'Grow']}\n"
     ]
    }
   ],
   "source": [
    "### 2. Delete one object from the dictionary\n",
    "\n",
    "del Dictionary['Tim']\n",
    "\n",
    "print(Dictionary)"
   ]
  },
  {
   "cell_type": "code",
   "execution_count": 10,
   "metadata": {},
   "outputs": [
    {
     "name": "stdout",
     "output_type": "stream",
     "text": [
      "{'Pablo': [22, 'Salcedo'], 'Sam': [22, 'Willard'], 'Kev': [32, 'Krown'], 'Chris': [12, 'Grow']}\n"
     ]
    }
   ],
   "source": [
    "### 3. Replace the float number of one of your objects - we are changing a list entry inside a dictionary record! look at Darwin's new age\n",
    "Dictionary['Pablo'][0]=22\n",
    "\n",
    "print(Dictionary)"
   ]
  },
  {
   "cell_type": "code",
   "execution_count": 17,
   "metadata": {},
   "outputs": [
    {
     "name": "stdout",
     "output_type": "stream",
     "text": [
      "[22, 22, 32, 12]\n"
     ]
    }
   ],
   "source": [
    "age=[]\n",
    "for k,v in Dictionary.items():\n",
    "    age.append(v[0])\n",
    "print(age)"
   ]
  },
  {
   "cell_type": "code",
   "execution_count": null,
   "metadata": {},
   "outputs": [],
   "source": []
  }
 ],
 "metadata": {
  "kernelspec": {
   "display_name": "Python 3",
   "language": "python",
   "name": "python3"
  },
  "language_info": {
   "codemirror_mode": {
    "name": "ipython",
    "version": 3
   },
   "file_extension": ".py",
   "mimetype": "text/x-python",
   "name": "python",
   "nbconvert_exporter": "python",
   "pygments_lexer": "ipython3",
   "version": "3.6.6"
  }
 },
 "nbformat": 4,
 "nbformat_minor": 2
}

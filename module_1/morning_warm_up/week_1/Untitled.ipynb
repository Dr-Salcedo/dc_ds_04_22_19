{
 "cells": [
  {
   "cell_type": "code",
<<<<<<< HEAD
   "execution_count": 5,
=======
   "execution_count": 2,
   "metadata": {},
   "outputs": [],
   "source": [
    "# declare a list\n",
    "numbers = [2, 9, 11, 15] "
   ]
  },
  {
   "cell_type": "code",
   "execution_count": 6,
   "metadata": {},
   "outputs": [
    {
     "data": {
      "text/plain": [
       "dict_keys([])"
      ]
     },
     "execution_count": 6,
     "metadata": {},
     "output_type": "execute_result"
    }
   ],
   "source": [
    "# init an empty dictionary \n",
    "dictionary = {}\n",
    "dictionary.keys()\n"
   ]
  },
  {
   "cell_type": "code",
   "execution_count": 15,
>>>>>>> 6d82778b46beb830f53618671791e67139a52d3e
   "metadata": {},
   "outputs": [
    {
     "name": "stdout",
     "output_type": "stream",
     "text": [
<<<<<<< HEAD
      "{'Pablo': [28, 'Salcedo'], 'Sam': [22, 'Willard'], 'Kev': [32, 'Krown'], 'Chris': [12, 'Grow'], 'Tim': [32, 'Evans']}\n"
=======
      "0 2\n",
      "1 9\n",
      "2 11\n",
      "3 15\n"
>>>>>>> 6d82778b46beb830f53618671791e67139a52d3e
     ]
    }
   ],
   "source": [
<<<<<<< HEAD
    "### 1. Create a dictionary where each object contains a list of one float (Age) and one string (Family name) (at least 5 objects)\n",
    "\n",
    "Dictionary={\"Pablo\": [28, \"Salcedo\"], \"Sam\": [22, \"Willard\"], \"Kev\": [32, \"Krown\"], \"Chris\": [12, \"Grow\"], \"Tim\": [32, \"Evans\"]} \n",
    "\n",
    "\n",
    "print(Dictionary)\n",
    "\n",
    "                                       "
=======
    "for idx, num in enumerate(numbers): \n",
    "    print (idx, num)\n",
    "    dictionary[num] = idx\n",
    "    \n",
    "    "
   ]
  },
  {
   "cell_type": "code",
   "execution_count": 10,
   "metadata": {},
   "outputs": [
    {
     "data": {
      "text/plain": [
       "dict_keys([2, 9, 11, 15])"
      ]
     },
     "execution_count": 10,
     "metadata": {},
     "output_type": "execute_result"
    }
   ],
   "source": [
    "dictionary.keys()"
   ]
  },
  {
   "cell_type": "code",
   "execution_count": 11,
   "metadata": {},
   "outputs": [
    {
     "data": {
      "text/plain": [
       "dict_items([(2, 0), (9, 1), (11, 2), (15, 3)])"
      ]
     },
     "execution_count": 11,
     "metadata": {},
     "output_type": "execute_result"
    }
   ],
   "source": [
    "dictionary.items()"
>>>>>>> 6d82778b46beb830f53618671791e67139a52d3e
   ]
  },
  {
   "cell_type": "code",
<<<<<<< HEAD
   "execution_count": 9,
=======
   "execution_count": 17,
>>>>>>> 6d82778b46beb830f53618671791e67139a52d3e
   "metadata": {},
   "outputs": [
    {
     "name": "stdout",
     "output_type": "stream",
     "text": [
<<<<<<< HEAD
      "{'Pablo': [28, 'Salcedo'], 'Sam': [22, 'Willard'], 'Kev': [32, 'Krown'], 'Chris': [12, 'Grow']}\n"
=======
      "1\n"
>>>>>>> 6d82778b46beb830f53618671791e67139a52d3e
     ]
    }
   ],
   "source": [
<<<<<<< HEAD
    "### 2. Delete one object from the dictionary\n",
    "\n",
    "del Dictionary['Tim']\n",
    "\n",
    "print(Dictionary)"
=======
    "\n",
    "for idx, num in enumerate(numbers): \n",
    "    if (num == 9):\n",
    "        print (idx) \n",
    "    "
   ]
  },
  {
   "cell_type": "code",
   "execution_count": 19,
   "metadata": {},
   "outputs": [],
   "source": [
    "nums = [2, 5, 4, 6]"
   ]
  },
  {
   "cell_type": "code",
   "execution_count": 27,
   "metadata": {},
   "outputs": [],
   "source": [
    "ron = [6, 5, 7, 1, 8, 12, 19, 10, 40]"
   ]
  },
  {
   "cell_type": "code",
   "execution_count": 24,
   "metadata": {},
   "outputs": [],
   "source": [
    "david = [1, 2, 5, 12] "
   ]
  },
  {
   "cell_type": "code",
   "execution_count": 28,
   "metadata": {},
   "outputs": [],
   "source": [
    "two_lists = [ron, david]"
   ]
  },
  {
   "cell_type": "code",
   "execution_count": 29,
   "metadata": {},
   "outputs": [
    {
     "data": {
      "text/plain": [
       "[[6, 5, 7, 1, 8, 12, 19, 10, 40], [1, 2, 5, 12]]"
      ]
     },
     "execution_count": 29,
     "metadata": {},
     "output_type": "execute_result"
    }
   ],
   "source": [
    "two_lists"
   ]
  },
  {
   "cell_type": "code",
   "execution_count": 25,
   "metadata": {},
   "outputs": [],
   "source": [
    "def get_idx_of_elem_sum_to_tar(num_list, target):\n",
    "    for idx in range(len(num_list) - 1): \n",
    "        for run_idx in range(idx + 1, len(num_list)):\n",
    "            if ((num_list[idx] + num_list[run_idx]) == target):\n",
    "                print(idx, run_idx)\n",
    "        "
   ]
  },
  {
   "cell_type": "code",
   "execution_count": 26,
   "metadata": {},
   "outputs": [
    {
     "name": "stdout",
     "output_type": "stream",
     "text": [
      "2 3\n"
     ]
    }
   ],
   "source": [
    "get_idx_of_elem_sum_to_tar(david, 17)"
   ]
  },
  {
   "cell_type": "code",
   "execution_count": 30,
   "metadata": {},
   "outputs": [
    {
     "name": "stdout",
     "output_type": "stream",
     "text": [
      "1 5\n",
      "2 7\n",
      "2 3\n"
     ]
    }
   ],
   "source": [
    "for listo in two_lists:\n",
    "    get_idx_of_elem_sum_to_tar(listo, 17)"
>>>>>>> 6d82778b46beb830f53618671791e67139a52d3e
   ]
  },
  {
   "cell_type": "code",
   "execution_count": null,
   "metadata": {},
   "outputs": [],
   "source": [
<<<<<<< HEAD
    "### 3. Replace the float number of one of your objects - we are changing a list entry inside a dictionary record! look at Darwin's new age\n",
    "Dictionary['Pablo'][]\n",
    "Example:\n",
    "`{Charles: [99.73, \"Darwin\"], Alan: [42.5, \"Turing\"]}`\n",
    "\n",
    "\n",
    "### 4. write a for loop that goes through all records in the dictionary, prints the family name and assigns the float numbers into one merged list (see ages)\n",
    "\n",
    "`ages = [23.4, 22.9, 552.9]`\n",
    "\n",
    "### 5. Download your notebbok as a .py (regular python script) save it somewhere you know\n",
    "\n",
    "### 6. Go to terminal, navigate to the folder where you have saved the script and execute it through the terminal\n",
    "\n",
    "`use commandds: \n",
    "cd and \n",
    "python your_script.py`\n",
    "\n",
    "\n",
    "### [optional] Calculate with a for loop the median and mean of the ages list\n",
    "                               "
=======
    "first iteration of outer loop (runs 0 to 3):\n",
    "    idx = 0\n",
    "    run_idx will run from 1 to 3 incl.\n",
    "    first iteration of inner loop:\n",
    "        run_idx = 1\n",
    "        nums[0] + nums[1] is it equal to 9\n",
    "        if it's true --> print 0 and 1\n",
    "    second iteration of inner loop:\n",
    "    idx = 0\n",
    "        run_idx = 2\n",
    "    third... \n",
    "\n",
    "second iteration of outer loop \n",
    "    idx = 1 \n",
    "    inner loop :\n",
    "        run from 2 to 3\n",
    "        \n",
    "        \n",
    "third iteration ...\n",
    "\n",
    "\n",
    "fourth iteration ... \n",
    "    idx = 3\n",
    "    \n",
    "    \n",
    "    \n",
    "    "
   ]
  },
  {
   "cell_type": "code",
   "execution_count": 22,
   "metadata": {},
   "outputs": [
    {
     "data": {
      "text/plain": [
       "[]"
      ]
     },
     "execution_count": 22,
     "metadata": {},
     "output_type": "execute_result"
    }
   ],
   "source": [
    "list(range(4, 4))"
   ]
  },
  {
   "cell_type": "markdown",
   "metadata": {},
   "source": [
    "## common operation for loops running through indices\n",
    "for x in range(len(some_list)):"
   ]
  },
  {
   "cell_type": "code",
   "execution_count": null,
   "metadata": {},
   "outputs": [],
   "source": [
    "for "
>>>>>>> 6d82778b46beb830f53618671791e67139a52d3e
   ]
  },
  {
   "cell_type": "code",
   "execution_count": null,
   "metadata": {},
   "outputs": [],
   "source": []
  }
 ],
 "metadata": {
  "kernelspec": {
   "display_name": "Python 3",
   "language": "python",
   "name": "python3"
  },
  "language_info": {
   "codemirror_mode": {
    "name": "ipython",
    "version": 3
   },
   "file_extension": ".py",
   "mimetype": "text/x-python",
   "name": "python",
   "nbconvert_exporter": "python",
   "pygments_lexer": "ipython3",
<<<<<<< HEAD
   "version": "3.6.6"
=======
   "version": "3.7.1"
>>>>>>> 6d82778b46beb830f53618671791e67139a52d3e
  }
 },
 "nbformat": 4,
 "nbformat_minor": 2
}

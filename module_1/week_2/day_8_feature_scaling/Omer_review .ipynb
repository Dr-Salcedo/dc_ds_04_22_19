{
 "cells": [
  {
   "cell_type": "code",
   "execution_count": null,
   "metadata": {},
   "outputs": [],
   "source": [
    "nums= [2, 9, 11, 15]"
   ]
  },
  {
   "cell_type": "code",
   "execution_count": 35,
   "metadata": {},
   "outputs": [
    {
     "name": "stdout",
     "output_type": "stream",
     "text": [
      "Try again\n",
      "1\n",
      "Try again\n",
      "Try again\n"
     ]
    }
   ],
   "source": [
    "\n",
    "for idx in range(len(nums)):\n",
    "    if (nums[idx] == 9):\n",
    "        print(idx)\n",
    "    else:\n",
    "        print(\"Try again\")"
   ]
  },
  {
   "cell_type": "code",
   "execution_count": 32,
   "metadata": {},
   "outputs": [],
   "source": [
    "nums= [2, 9, 11, 15]   #9"
   ]
  },
  {
   "cell_type": "code",
   "execution_count": 46,
   "metadata": {},
   "outputs": [
    {
     "name": "stdout",
     "output_type": "stream",
     "text": [
      "No number pair equals 9\n",
      "No number pair equals 9\n",
      "No number pair equals 9\n",
      "At index 1 and index 2 our sum is 9\n",
      "No number pair equals 9\n",
      "No number pair equals 9\n"
     ]
    }
   ],
   "source": [
    "nums= [2, 5, 4, 6] \n",
    "for idx in range(len(nums)):\n",
    "    for idx_2 in range(idx+1,len(nums)):\n",
    "        if nums[idx] + nums[idx_2]== 9:\n",
    "            print(f\"At index {idx} and index {idx_2} our sum is 9\")\n",
    "        else:\n",
    "            print(\"No number pair equals 9\")\n",
    "l = ['a', 'b', 'c', 'd', 'e', ' ']\n",
    "d = dict([(k, v) for k,v in zip (nums, David)"
   ]
  },
  {
   "cell_type": "code",
   "execution_count": 63,
   "metadata": {},
   "outputs": [
    {
     "ename": "SyntaxError",
     "evalue": "unexpected EOF while parsing (<ipython-input-63-7426fbbc9068>, line 9)",
     "output_type": "error",
     "traceback": [
      "\u001b[0;36m  File \u001b[0;32m\"<ipython-input-63-7426fbbc9068>\"\u001b[0;36m, line \u001b[0;32m9\u001b[0m\n\u001b[0;31m    #         print(key, value)\u001b[0m\n\u001b[0m                               ^\u001b[0m\n\u001b[0;31mSyntaxError\u001b[0m\u001b[0;31m:\u001b[0m unexpected EOF while parsing\n"
     ]
    }
   ],
   "source": [
    "target=9\n",
    "nums= [2, 5, 4, 6]\n",
    "David=[3, 3, 3, 3]\n",
    "listo=Dict(map(nums,David))\n",
    "print(x)\n",
    "listo= dict([(k, v) for k,v in zip (nums, David)\n",
    "# for key, value in listo\n",
    "#     if key + value == target\n",
    "#         print(key, value)"
   ]
  },
  {
   "cell_type": "code",
   "execution_count": 38,
   "metadata": {},
   "outputs": [
    {
     "name": "stdout",
     "output_type": "stream",
     "text": [
      "0 2\n",
      "1 9\n",
      "2 11\n",
      "3 15\n"
     ]
    }
   ],
   "source": [
    "numbers= [2, 9, 11, 15]\n",
    "for idx, num in enumerate(numbers):\n",
    "    print (idx, num)\n",
    "    dictionary[num]=idx"
   ]
  },
  {
   "cell_type": "code",
   "execution_count": 19,
   "metadata": {},
   "outputs": [
    {
     "data": {
      "text/plain": [
       "dict_items([(0, 2), (1, 9), (2, 0), (3, 15), (9, 1), (11, 2), (15, 3)])"
      ]
     },
     "execution_count": 19,
     "metadata": {},
     "output_type": "execute_result"
    }
   ],
   "source": [
    "dictionary.items()\n"
   ]
  },
  {
   "cell_type": "code",
   "execution_count": 20,
   "metadata": {},
   "outputs": [
    {
     "data": {
      "text/plain": [
       "dict_keys([0, 1, 2, 3, 9, 11, 15])"
      ]
     },
     "execution_count": 20,
     "metadata": {},
     "output_type": "execute_result"
    }
   ],
   "source": [
    "dictionary.keys()"
   ]
  },
  {
   "cell_type": "code",
   "execution_count": null,
   "metadata": {},
   "outputs": [],
   "source": []
  }
 ],
 "metadata": {
  "kernelspec": {
   "display_name": "Python 3",
   "language": "python",
   "name": "python3"
  },
  "language_info": {
   "codemirror_mode": {
    "name": "ipython",
    "version": 3
   },
   "file_extension": ".py",
   "mimetype": "text/x-python",
   "name": "python",
   "nbconvert_exporter": "python",
   "pygments_lexer": "ipython3",
   "version": "3.7.1"
  }
 },
 "nbformat": 4,
 "nbformat_minor": 2
}

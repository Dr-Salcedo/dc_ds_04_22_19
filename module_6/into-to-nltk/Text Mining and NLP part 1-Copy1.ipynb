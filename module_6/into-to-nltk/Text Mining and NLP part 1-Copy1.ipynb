{
 "cells": [
  {
   "cell_type": "markdown",
   "metadata": {},
   "source": [
    "## Text Mining\n",
    "\n",
    "![miners](img/text-miners.jpeg)"
   ]
  },
  {
   "cell_type": "markdown",
   "metadata": {},
   "source": [
    "## Part 1\n",
    "\n",
    "### Situation:\n",
    "\n",
    "![greg](img/thinking.jpeg)\n",
    "\n",
    "Last week we helped Greg build a model to sort through articles, but we rushed through the pre-processing of it all. This lesson we will go through it step by step."
   ]
  },
  {
   "cell_type": "markdown",
   "metadata": {},
   "source": [
    "### Discussion\n",
    "\n",
    "- What type of problem is this?\n",
    "- What are we trying to do?\n",
    "- What steps do you think might be involved? (big picture steps)\n",
    "\n",
    "![talk](https://media.giphy.com/media/l2SpQRuCQzY1RXHqM/giphy.gif)"
   ]
  },
  {
   "cell_type": "markdown",
   "metadata": {},
   "source": [
    "### **Goal**: to internalize the steps, challenges, and methodology of text mining\n",
    "- explore text analysis by hand\n",
    "- apply text mining steps in Jupyter with Python libraries NLTK\n",
    "- classify documents correctly"
   ]
  },
  {
   "cell_type": "markdown",
   "metadata": {},
   "source": [
    "#### How is text mining different? What is text?\n",
    "\n",
    "- Order the words from **SMALLEST** to **LARGEST** units\n",
    " - character\n",
    " - corpora\n",
    " - sentence\n",
    " - word\n",
    " - corpus\n",
    " - paragraph\n",
    " - document\n",
    "\n",
    "(after it is all organized)\n",
    "\n",
    "- Any disagreements about the terms used?"
   ]
  },
  {
   "cell_type": "markdown",
   "metadata": {},
   "source": [
    "### Steps with articles:\n",
    "\n",
    "https://github.com/aapeebles/text_examples \n",
    "\n",
    "1. Create list of words\n",
    "2. tally how many times words are used\n",
    "3. order the words by frequency\n",
    "4. try to find similar articles in the group using only your frequencies \n",
    "\n",
    "\n",
    "Yes, the list might might be long.\n",
    "![list](https://media.giphy.com/media/YLHwkqayc1j7a/giphy.gif)\n",
    "\n",
    "DISCUSS!"
   ]
  },
  {
   "cell_type": "markdown",
   "metadata": {},
   "source": [
    "### Bag of Words Steps\n",
    "\n",
    "<img style=\"float: left\" src=\"./img/bag_of_word.jpg\" width=\"200\">\n",
    "\n",
    "![step by step](https://i.gifer.com/VxbJ.gif)\n",
    "\n",
    "1. make all lower case\n",
    "2. Remove punctuation, numbers, symbols, etc\n",
    "3. Remove stop words, perhaps develop custom stop words list\n",
    "4. Stemming/Lemmatization\n",
    "\n",
    "\n",
    "But what about tokenization? when's the best time to tokenize?"
   ]
  },
  {
   "cell_type": "code",
   "execution_count": 21,
   "metadata": {
    "ExecuteTime": {
     "end_time": "2019-07-09T17:42:32.124118Z",
     "start_time": "2019-07-09T17:42:32.118613Z"
    }
   },
   "outputs": [],
   "source": [
    "s=\"BNP leader Nick Griffin arrested The leader of the British National Party has been arrested as part of a police inquiry following the screening of a BBC documentary. A party spokesman said Nick Griffin was arrested on Tuesday morning on suspicion of incitement to commit racial hatred. West Yorkshire police confirmed they had arrested a 45-year-old man from outside their area. BNP founding chairman John Tyndall was arrested on Sunday on the same charge. In July, the BBC documentary Secret Agent featured covertly-filmed footage of BNP activists. Mr Griffin is the twelfth man to be arrested following the documentary. Nine men from West Yorkshire and another man from Leicester have been arrested and freed on bail. Seven of the men had been held variously in connection with suspected racially aggravated public order offences, conspiracy to commit criminal damage and possession of a firearm. Two men, both from Keighley, were arrested in September on suspicion of conspiracy to commit criminal damage. A 24-year-old man from Leicester was detained on Monday on suspicion of incitement to commit racial hatred. A BNP spokesperson said Mr Tyndall, from Brighton, was arrested following a speech he made in Burnley, Lancashire, and was released on police bail.\""
   ]
  },
  {
   "cell_type": "code",
   "execution_count": 22,
   "metadata": {
    "ExecuteTime": {
     "end_time": "2019-07-09T17:42:33.459541Z",
     "start_time": "2019-07-09T17:42:33.446124Z"
    }
   },
   "outputs": [
    {
     "name": "stdout",
     "output_type": "stream",
     "text": [
      "{'BNP': 4, 'leader': 2, 'Nick': 2, 'Griffin': 3, 'arrested': 9, 'The': 1, 'of': 9, 'the': 7, 'British': 1, 'National': 1, 'Party': 1, 'has': 1, 'been': 3, 'as': 1, 'part': 1, 'a': 5, 'police': 3, 'inquiry': 1, 'following': 3, 'screening': 1, 'BBC': 2, 'documentary.': 2, 'A': 3, 'party': 1, 'spokesman': 1, 'said': 2, 'was': 5, 'on': 9, 'Tuesday': 1, 'morning': 1, 'suspicion': 3, 'incitement': 2, 'to': 5, 'commit': 4, 'racial': 2, 'hatred.': 2, 'West': 2, 'Yorkshire': 2, 'confirmed': 1, 'they': 1, 'had': 2, '45-year-old': 1, 'man': 4, 'from': 6, 'outside': 1, 'their': 1, 'area.': 1, 'founding': 1, 'chairman': 1, 'John': 1, 'Tyndall': 1, 'Sunday': 1, 'same': 1, 'charge.': 1, 'In': 1, 'July,': 1, 'documentary': 1, 'Secret': 1, 'Agent': 1, 'featured': 1, 'covertly-filmed': 1, 'footage': 1, 'activists.': 1, 'Mr': 2, 'is': 1, 'twelfth': 1, 'be': 1, 'Nine': 1, 'men': 2, 'and': 4, 'another': 1, 'Leicester': 2, 'have': 1, 'freed': 1, 'bail.': 2, 'Seven': 1, 'held': 1, 'variously': 1, 'in': 3, 'connection': 1, 'with': 1, 'suspected': 1, 'racially': 1, 'aggravated': 1, 'public': 1, 'order': 1, 'offences,': 1, 'conspiracy': 2, 'criminal': 2, 'damage': 1, 'possession': 1, 'firearm.': 1, 'Two': 1, 'men,': 1, 'both': 1, 'Keighley,': 1, 'were': 1, 'September': 1, 'damage.': 1, '24-year-old': 1, 'detained': 1, 'Monday': 1, 'spokesperson': 1, 'Tyndall,': 1, 'Brighton,': 1, 'speech': 1, 'he': 1, 'made': 1, 'Burnley,': 1, 'Lancashire,': 1, 'released': 1}\n"
     ]
    }
   ],
   "source": [
    "def word_count(str):\n",
    "    counts = dict()\n",
    "    words = str.split()\n",
    "\n",
    "    for word in words:\n",
    "        if word in counts:\n",
    "            counts[word] += 1\n",
    "        else:\n",
    "            counts[word] = 1\n",
    "\n",
    "    return counts\n",
    "\n",
    "print( word_count(s))\n"
   ]
  },
  {
   "cell_type": "code",
   "execution_count": 23,
   "metadata": {
    "ExecuteTime": {
     "end_time": "2019-07-09T17:42:34.381795Z",
     "start_time": "2019-07-09T17:42:34.370425Z"
    }
   },
   "outputs": [
    {
     "data": {
      "text/plain": [
       "{'BNP': 4,\n",
       " 'leader': 2,\n",
       " 'Nick': 2,\n",
       " 'Griffin': 3,\n",
       " 'arrested': 9,\n",
       " 'The': 1,\n",
       " 'of': 9,\n",
       " 'the': 7,\n",
       " 'British': 1,\n",
       " 'National': 1,\n",
       " 'Party': 1,\n",
       " 'has': 1,\n",
       " 'been': 3,\n",
       " 'as': 1,\n",
       " 'part': 1,\n",
       " 'a': 5,\n",
       " 'police': 3,\n",
       " 'inquiry': 1,\n",
       " 'following': 3,\n",
       " 'screening': 1,\n",
       " 'BBC': 2,\n",
       " 'documentary.': 2,\n",
       " 'A': 3,\n",
       " 'party': 1,\n",
       " 'spokesman': 1,\n",
       " 'said': 2,\n",
       " 'was': 5,\n",
       " 'on': 9,\n",
       " 'Tuesday': 1,\n",
       " 'morning': 1,\n",
       " 'suspicion': 3,\n",
       " 'incitement': 2,\n",
       " 'to': 5,\n",
       " 'commit': 4,\n",
       " 'racial': 2,\n",
       " 'hatred.': 2,\n",
       " 'West': 2,\n",
       " 'Yorkshire': 2,\n",
       " 'confirmed': 1,\n",
       " 'they': 1,\n",
       " 'had': 2,\n",
       " '45-year-old': 1,\n",
       " 'man': 4,\n",
       " 'from': 6,\n",
       " 'outside': 1,\n",
       " 'their': 1,\n",
       " 'area.': 1,\n",
       " 'founding': 1,\n",
       " 'chairman': 1,\n",
       " 'John': 1,\n",
       " 'Tyndall': 1,\n",
       " 'Sunday': 1,\n",
       " 'same': 1,\n",
       " 'charge.': 1,\n",
       " 'In': 1,\n",
       " 'July,': 1,\n",
       " 'documentary': 1,\n",
       " 'Secret': 1,\n",
       " 'Agent': 1,\n",
       " 'featured': 1,\n",
       " 'covertly-filmed': 1,\n",
       " 'footage': 1,\n",
       " 'activists.': 1,\n",
       " 'Mr': 2,\n",
       " 'is': 1,\n",
       " 'twelfth': 1,\n",
       " 'be': 1,\n",
       " 'Nine': 1,\n",
       " 'men': 2,\n",
       " 'and': 4,\n",
       " 'another': 1,\n",
       " 'Leicester': 2,\n",
       " 'have': 1,\n",
       " 'freed': 1,\n",
       " 'bail.': 2,\n",
       " 'Seven': 1,\n",
       " 'held': 1,\n",
       " 'variously': 1,\n",
       " 'in': 3,\n",
       " 'connection': 1,\n",
       " 'with': 1,\n",
       " 'suspected': 1,\n",
       " 'racially': 1,\n",
       " 'aggravated': 1,\n",
       " 'public': 1,\n",
       " 'order': 1,\n",
       " 'offences,': 1,\n",
       " 'conspiracy': 2,\n",
       " 'criminal': 2,\n",
       " 'damage': 1,\n",
       " 'possession': 1,\n",
       " 'firearm.': 1,\n",
       " 'Two': 1,\n",
       " 'men,': 1,\n",
       " 'both': 1,\n",
       " 'Keighley,': 1,\n",
       " 'were': 1,\n",
       " 'September': 1,\n",
       " 'damage.': 1,\n",
       " '24-year-old': 1,\n",
       " 'detained': 1,\n",
       " 'Monday': 1,\n",
       " 'spokesperson': 1,\n",
       " 'Tyndall,': 1,\n",
       " 'Brighton,': 1,\n",
       " 'speech': 1,\n",
       " 'he': 1,\n",
       " 'made': 1,\n",
       " 'Burnley,': 1,\n",
       " 'Lancashire,': 1,\n",
       " 'released': 1}"
      ]
     },
     "execution_count": 23,
     "metadata": {},
     "output_type": "execute_result"
    }
   ],
   "source": [
    "key_value=word_count(s)\n",
    "key_value"
   ]
  },
  {
   "cell_type": "code",
   "execution_count": 24,
   "metadata": {
    "ExecuteTime": {
     "end_time": "2019-07-09T17:42:35.015573Z",
     "start_time": "2019-07-09T17:42:34.992226Z"
    },
    "scrolled": true
   },
   "outputs": [
    {
     "data": {
      "text/html": [
       "<div>\n",
       "<style scoped>\n",
       "    .dataframe tbody tr th:only-of-type {\n",
       "        vertical-align: middle;\n",
       "    }\n",
       "\n",
       "    .dataframe tbody tr th {\n",
       "        vertical-align: top;\n",
       "    }\n",
       "\n",
       "    .dataframe thead th {\n",
       "        text-align: right;\n",
       "    }\n",
       "</style>\n",
       "<table border=\"1\" class=\"dataframe\">\n",
       "  <thead>\n",
       "    <tr style=\"text-align: right;\">\n",
       "      <th></th>\n",
       "      <th>Count</th>\n",
       "    </tr>\n",
       "    <tr>\n",
       "      <th>Word</th>\n",
       "      <th></th>\n",
       "    </tr>\n",
       "  </thead>\n",
       "  <tbody>\n",
       "    <tr>\n",
       "      <th>on</th>\n",
       "      <td>9</td>\n",
       "    </tr>\n",
       "    <tr>\n",
       "      <th>of</th>\n",
       "      <td>9</td>\n",
       "    </tr>\n",
       "    <tr>\n",
       "      <th>arrested</th>\n",
       "      <td>9</td>\n",
       "    </tr>\n",
       "    <tr>\n",
       "      <th>the</th>\n",
       "      <td>7</td>\n",
       "    </tr>\n",
       "    <tr>\n",
       "      <th>from</th>\n",
       "      <td>6</td>\n",
       "    </tr>\n",
       "    <tr>\n",
       "      <th>was</th>\n",
       "      <td>5</td>\n",
       "    </tr>\n",
       "    <tr>\n",
       "      <th>to</th>\n",
       "      <td>5</td>\n",
       "    </tr>\n",
       "    <tr>\n",
       "      <th>a</th>\n",
       "      <td>5</td>\n",
       "    </tr>\n",
       "    <tr>\n",
       "      <th>man</th>\n",
       "      <td>4</td>\n",
       "    </tr>\n",
       "    <tr>\n",
       "      <th>commit</th>\n",
       "      <td>4</td>\n",
       "    </tr>\n",
       "    <tr>\n",
       "      <th>and</th>\n",
       "      <td>4</td>\n",
       "    </tr>\n",
       "    <tr>\n",
       "      <th>BNP</th>\n",
       "      <td>4</td>\n",
       "    </tr>\n",
       "    <tr>\n",
       "      <th>suspicion</th>\n",
       "      <td>3</td>\n",
       "    </tr>\n",
       "    <tr>\n",
       "      <th>police</th>\n",
       "      <td>3</td>\n",
       "    </tr>\n",
       "    <tr>\n",
       "      <th>in</th>\n",
       "      <td>3</td>\n",
       "    </tr>\n",
       "    <tr>\n",
       "      <th>following</th>\n",
       "      <td>3</td>\n",
       "    </tr>\n",
       "    <tr>\n",
       "      <th>been</th>\n",
       "      <td>3</td>\n",
       "    </tr>\n",
       "    <tr>\n",
       "      <th>Griffin</th>\n",
       "      <td>3</td>\n",
       "    </tr>\n",
       "    <tr>\n",
       "      <th>A</th>\n",
       "      <td>3</td>\n",
       "    </tr>\n",
       "    <tr>\n",
       "      <th>said</th>\n",
       "      <td>2</td>\n",
       "    </tr>\n",
       "    <tr>\n",
       "      <th>racial</th>\n",
       "      <td>2</td>\n",
       "    </tr>\n",
       "    <tr>\n",
       "      <th>men</th>\n",
       "      <td>2</td>\n",
       "    </tr>\n",
       "    <tr>\n",
       "      <th>leader</th>\n",
       "      <td>2</td>\n",
       "    </tr>\n",
       "    <tr>\n",
       "      <th>incitement</th>\n",
       "      <td>2</td>\n",
       "    </tr>\n",
       "    <tr>\n",
       "      <th>hatred.</th>\n",
       "      <td>2</td>\n",
       "    </tr>\n",
       "    <tr>\n",
       "      <th>had</th>\n",
       "      <td>2</td>\n",
       "    </tr>\n",
       "    <tr>\n",
       "      <th>documentary.</th>\n",
       "      <td>2</td>\n",
       "    </tr>\n",
       "    <tr>\n",
       "      <th>criminal</th>\n",
       "      <td>2</td>\n",
       "    </tr>\n",
       "    <tr>\n",
       "      <th>conspiracy</th>\n",
       "      <td>2</td>\n",
       "    </tr>\n",
       "    <tr>\n",
       "      <th>bail.</th>\n",
       "      <td>2</td>\n",
       "    </tr>\n",
       "    <tr>\n",
       "      <th>...</th>\n",
       "      <td>...</td>\n",
       "    </tr>\n",
       "    <tr>\n",
       "      <th>be</th>\n",
       "      <td>1</td>\n",
       "    </tr>\n",
       "    <tr>\n",
       "      <th>as</th>\n",
       "      <td>1</td>\n",
       "    </tr>\n",
       "    <tr>\n",
       "      <th>area.</th>\n",
       "      <td>1</td>\n",
       "    </tr>\n",
       "    <tr>\n",
       "      <th>another</th>\n",
       "      <td>1</td>\n",
       "    </tr>\n",
       "    <tr>\n",
       "      <th>aggravated</th>\n",
       "      <td>1</td>\n",
       "    </tr>\n",
       "    <tr>\n",
       "      <th>activists.</th>\n",
       "      <td>1</td>\n",
       "    </tr>\n",
       "    <tr>\n",
       "      <th>Tyndall,</th>\n",
       "      <td>1</td>\n",
       "    </tr>\n",
       "    <tr>\n",
       "      <th>Tyndall</th>\n",
       "      <td>1</td>\n",
       "    </tr>\n",
       "    <tr>\n",
       "      <th>Two</th>\n",
       "      <td>1</td>\n",
       "    </tr>\n",
       "    <tr>\n",
       "      <th>Tuesday</th>\n",
       "      <td>1</td>\n",
       "    </tr>\n",
       "    <tr>\n",
       "      <th>The</th>\n",
       "      <td>1</td>\n",
       "    </tr>\n",
       "    <tr>\n",
       "      <th>Sunday</th>\n",
       "      <td>1</td>\n",
       "    </tr>\n",
       "    <tr>\n",
       "      <th>Seven</th>\n",
       "      <td>1</td>\n",
       "    </tr>\n",
       "    <tr>\n",
       "      <th>September</th>\n",
       "      <td>1</td>\n",
       "    </tr>\n",
       "    <tr>\n",
       "      <th>Secret</th>\n",
       "      <td>1</td>\n",
       "    </tr>\n",
       "    <tr>\n",
       "      <th>Party</th>\n",
       "      <td>1</td>\n",
       "    </tr>\n",
       "    <tr>\n",
       "      <th>Nine</th>\n",
       "      <td>1</td>\n",
       "    </tr>\n",
       "    <tr>\n",
       "      <th>National</th>\n",
       "      <td>1</td>\n",
       "    </tr>\n",
       "    <tr>\n",
       "      <th>Monday</th>\n",
       "      <td>1</td>\n",
       "    </tr>\n",
       "    <tr>\n",
       "      <th>Lancashire,</th>\n",
       "      <td>1</td>\n",
       "    </tr>\n",
       "    <tr>\n",
       "      <th>Keighley,</th>\n",
       "      <td>1</td>\n",
       "    </tr>\n",
       "    <tr>\n",
       "      <th>July,</th>\n",
       "      <td>1</td>\n",
       "    </tr>\n",
       "    <tr>\n",
       "      <th>John</th>\n",
       "      <td>1</td>\n",
       "    </tr>\n",
       "    <tr>\n",
       "      <th>In</th>\n",
       "      <td>1</td>\n",
       "    </tr>\n",
       "    <tr>\n",
       "      <th>Burnley,</th>\n",
       "      <td>1</td>\n",
       "    </tr>\n",
       "    <tr>\n",
       "      <th>British</th>\n",
       "      <td>1</td>\n",
       "    </tr>\n",
       "    <tr>\n",
       "      <th>Brighton,</th>\n",
       "      <td>1</td>\n",
       "    </tr>\n",
       "    <tr>\n",
       "      <th>Agent</th>\n",
       "      <td>1</td>\n",
       "    </tr>\n",
       "    <tr>\n",
       "      <th>45-year-old</th>\n",
       "      <td>1</td>\n",
       "    </tr>\n",
       "    <tr>\n",
       "      <th>24-year-old</th>\n",
       "      <td>1</td>\n",
       "    </tr>\n",
       "  </tbody>\n",
       "</table>\n",
       "<p>111 rows × 1 columns</p>\n",
       "</div>"
      ],
      "text/plain": [
       "              Count\n",
       "Word               \n",
       "on                9\n",
       "of                9\n",
       "arrested          9\n",
       "the               7\n",
       "from              6\n",
       "was               5\n",
       "to                5\n",
       "a                 5\n",
       "man               4\n",
       "commit            4\n",
       "and               4\n",
       "BNP               4\n",
       "suspicion         3\n",
       "police            3\n",
       "in                3\n",
       "following         3\n",
       "been              3\n",
       "Griffin           3\n",
       "A                 3\n",
       "said              2\n",
       "racial            2\n",
       "men               2\n",
       "leader            2\n",
       "incitement        2\n",
       "hatred.           2\n",
       "had               2\n",
       "documentary.      2\n",
       "criminal          2\n",
       "conspiracy        2\n",
       "bail.             2\n",
       "...             ...\n",
       "be                1\n",
       "as                1\n",
       "area.             1\n",
       "another           1\n",
       "aggravated        1\n",
       "activists.        1\n",
       "Tyndall,          1\n",
       "Tyndall           1\n",
       "Two               1\n",
       "Tuesday           1\n",
       "The               1\n",
       "Sunday            1\n",
       "Seven             1\n",
       "September         1\n",
       "Secret            1\n",
       "Party             1\n",
       "Nine              1\n",
       "National          1\n",
       "Monday            1\n",
       "Lancashire,       1\n",
       "Keighley,         1\n",
       "July,             1\n",
       "John              1\n",
       "In                1\n",
       "Burnley,          1\n",
       "British           1\n",
       "Brighton,         1\n",
       "Agent             1\n",
       "45-year-old       1\n",
       "24-year-old       1\n",
       "\n",
       "[111 rows x 1 columns]"
      ]
     },
     "execution_count": 24,
     "metadata": {},
     "output_type": "execute_result"
    }
   ],
   "source": [
    "BoW = sorted(key_value.items(), key =\n",
    "           lambda kv:(kv[1], kv[0]), reverse=True)\n",
    "\n",
    "import pandas as pd\n",
    "\n",
    "df = pd.DataFrame(BoW, columns=['Word','Count'])\n",
    "df.set_index('Word')"
   ]
  },
  {
   "cell_type": "code",
   "execution_count": 25,
   "metadata": {
    "ExecuteTime": {
     "end_time": "2019-07-09T17:42:36.325566Z",
     "start_time": "2019-07-09T17:42:35.908600Z"
    }
   },
   "outputs": [
    {
     "data": {
      "text/plain": [
       "<BarContainer object of 111 artists>"
      ]
     },
     "execution_count": 25,
     "metadata": {},
     "output_type": "execute_result"
    },
    {
     "data": {
      "image/png": "[encoded data removed]",
      "text/plain": [
       "<Figure size 432x288 with 1 Axes>"
      ]
     },
     "metadata": {
      "needs_background": "light"
     },
     "output_type": "display_data"
    }
   ],
   "source": [
    "import matplotlib.pyplot as plt\n",
    "%matplotlib inline\n",
    "\n",
    "plt.bar(df.index, df[\"Count\"])"
   ]
  },
  {
   "cell_type": "code",
   "execution_count": 29,
   "metadata": {
    "ExecuteTime": {
     "end_time": "2019-07-09T17:42:50.440490Z",
     "start_time": "2019-07-09T17:42:50.433043Z"
    }
   },
   "outputs": [
    {
     "data": {
      "text/plain": [
       "0"
      ]
     },
     "execution_count": 29,
     "metadata": {},
     "output_type": "execute_result"
    }
   ],
   "source": [
    "s.count(\"this\")"
   ]
  },
  {
   "cell_type": "code",
   "execution_count": 30,
   "metadata": {
    "ExecuteTime": {
     "end_time": "2019-07-09T17:43:00.338484Z",
     "start_time": "2019-07-09T17:43:00.333975Z"
    }
   },
   "outputs": [],
   "source": [
    "s=s.lower()"
   ]
  },
  {
   "cell_type": "code",
   "execution_count": 32,
   "metadata": {
    "ExecuteTime": {
     "end_time": "2019-07-09T17:43:07.311012Z",
     "start_time": "2019-07-09T17:43:07.303320Z"
    }
   },
   "outputs": [
    {
     "data": {
      "text/plain": [
       "'bnp leader nick griffin arrested the leader of the british national party has been arrested as part of a police inquiry following the screening of a bbc documentary a party spokesman said nick griffin was arrested on tuesday morning on suspicion of incitement to commit racial hatred west yorkshire police confirmed they had arrested a 45yearold man from outside their area bnp founding chairman john tyndall was arrested on sunday on the same charge in july the bbc documentary secret agent featured covertlyfilmed footage of bnp activists mr griffin is the twelfth man to be arrested following the documentary nine men from west yorkshire and another man from leicester have been arrested and freed on bail seven of the men had been held variously in connection with suspected racially aggravated public order offences conspiracy to commit criminal damage and possession of a firearm two men both from keighley were arrested in september on suspicion of conspiracy to commit criminal damage a 24yearold man from leicester was detained on monday on suspicion of incitement to commit racial hatred a bnp spokesperson said mr tyndall from brighton was arrested following a speech he made in burnley lancashire and was released on police bail'"
      ]
     },
     "execution_count": 32,
     "metadata": {},
     "output_type": "execute_result"
    }
   ],
   "source": [
    "s=s.replace(\".\",\"\").replace(\",\",\"\").replace(\"-\",\"\")\n",
    "s"
   ]
  },
  {
   "cell_type": "markdown",
   "metadata": {},
   "source": [
    "## New library!\n",
    "\n",
    "while we have seen language processing tools in spark, NLTK is its own python library. And of course, it has its own [documentation](https://www.nltk.org/)"
   ]
  },
  {
   "cell_type": "code",
   "execution_count": 33,
   "metadata": {
    "ExecuteTime": {
     "end_time": "2019-07-09T17:43:08.767886Z",
     "start_time": "2019-07-09T17:43:08.763335Z"
    }
   },
   "outputs": [],
   "source": [
    "from __future__ import print_function\n",
    "import nltk\n",
    "import sklearn\n"
   ]
  },
  {
   "cell_type": "code",
   "execution_count": 34,
   "metadata": {
    "ExecuteTime": {
     "end_time": "2019-07-09T17:43:09.222000Z",
     "start_time": "2019-07-09T17:43:09.218406Z"
    }
   },
   "outputs": [],
   "source": [
    "# nltk.download() #for when you are bringing in files from gutenburg, etf"
   ]
  },
  {
   "cell_type": "code",
   "execution_count": 35,
   "metadata": {
    "ExecuteTime": {
     "end_time": "2019-07-09T17:43:09.624562Z",
     "start_time": "2019-07-09T17:43:09.620349Z"
    }
   },
   "outputs": [],
   "source": [
    "from nltk.collocations import *\n",
    "from nltk import FreqDist, word_tokenize\n",
    "import string, re\n",
    "import urllib"
   ]
  },
  {
   "cell_type": "code",
   "execution_count": 36,
   "metadata": {
    "ExecuteTime": {
     "end_time": "2019-07-09T17:43:10.991282Z",
     "start_time": "2019-07-09T17:43:10.987452Z"
    }
   },
   "outputs": [],
   "source": [
    "# print(tokens[:100])"
   ]
  },
  {
   "cell_type": "code",
   "execution_count": 37,
   "metadata": {
    "ExecuteTime": {
     "end_time": "2019-07-09T17:43:12.755882Z",
     "start_time": "2019-07-09T17:43:11.369274Z"
    }
   },
   "outputs": [],
   "source": [
    "metamorph = urllib.request.urlopen('http://www.gutenberg.org/cache/epub/5200/pg5200.txt').read()\n",
    "#print(x.read())\n"
   ]
  },
  {
   "cell_type": "code",
   "execution_count": 38,
   "metadata": {
    "ExecuteTime": {
     "end_time": "2019-07-09T17:43:12.893154Z",
     "start_time": "2019-07-09T17:43:12.873426Z"
    }
   },
   "outputs": [
    {
     "ename": "AttributeError",
     "evalue": "'str' object has no attribute 'decode'",
     "output_type": "error",
     "traceback": [
      "\u001b[0;31m---------------------------------------------------------------------------\u001b[0m",
      "\u001b[0;31mAttributeError\u001b[0m                            Traceback (most recent call last)",
      "\u001b[0;32m<ipython-input-38-4cb2f251bcff>\u001b[0m in \u001b[0;36m<module>\u001b[0;34m\u001b[0m\n\u001b[0;32m----> 1\u001b[0;31m \u001b[0ms\u001b[0m \u001b[0;34m=\u001b[0m \u001b[0ms\u001b[0m\u001b[0;34m.\u001b[0m\u001b[0mdecode\u001b[0m\u001b[0;34m(\u001b[0m\u001b[0;34m\"utf-8\"\u001b[0m\u001b[0;34m)\u001b[0m\u001b[0;34m\u001b[0m\u001b[0;34m\u001b[0m\u001b[0m\n\u001b[0m",
      "\u001b[0;31mAttributeError\u001b[0m: 'str' object has no attribute 'decode'"
     ]
    }
   ],
   "source": [
    "s = s.decode(\"utf-8\") "
   ]
  },
  {
   "cell_type": "code",
   "execution_count": 39,
   "metadata": {
    "ExecuteTime": {
     "end_time": "2019-07-09T17:43:44.850332Z",
     "start_time": "2019-07-09T17:43:44.843104Z"
    }
   },
   "outputs": [
    {
     "name": "stdout",
     "output_type": "stream",
     "text": [
      "bnp leader nick griffin arrested the leader of the british national party has been arrested as part of a police inquiry following the screening of a bbc documentary a party spokesman said nick griffin was arrested on tuesday morning on suspicion of incitement to commit racial hatred west yorkshire police confirmed they had arrested a 45yearold man from outside their area bnp founding chairman john tyndall was arrested on sunday on the same charge in july the bbc documentary secret agent featured covertlyfilmed footage of bnp activists mr griffin is the twelfth man to be arrested following the documentary nine men from west yorkshire and another man from leicester have been arrested and freed on bail seven of the men had been held variously in connection with suspected racially aggravated public order offences conspiracy to commit criminal damage and possession of a firearm two men both from keighley were arrested in september on suspicion of conspiracy to commit criminal damage a 24yearold man from leicester was detained on monday on suspicion of incitement to commit racial hatred a bnp spokesperson said mr tyndall from brighton was arrested following a speech he made in burnley lancashire and was released on police bail\n"
     ]
    }
   ],
   "source": [
    "print(s)"
   ]
  },
  {
   "cell_type": "markdown",
   "metadata": {},
   "source": [
    "Load your article here"
   ]
  },
  {
   "cell_type": "code",
   "execution_count": 40,
   "metadata": {
    "ExecuteTime": {
     "end_time": "2019-07-09T17:43:56.756605Z",
     "start_time": "2019-07-09T17:43:56.749333Z"
    }
   },
   "outputs": [
    {
     "name": "stdout",
     "output_type": "stream",
     "text": [
      "['bnp', 'leader', 'nick', 'griffin', 'arrested', 'the', 'leader', 'of', 'the', 'british', 'national', 'party', 'has', 'been', 'arrested', 'as', 'part', 'of', 'a', 'police', 'inquiry', 'following', 'the', 'screening', 'of', 'a', 'bbc', 'documentary', 'a', 'party', 'spokesman', 'said', 'nick', 'griffin', 'was', 'arrested', 'on', 'tuesday', 'morning', 'on', 'suspicion', 'of', 'incitement', 'to', 'commit', 'racial', 'hatred', 'west', 'yorkshire', 'police', 'confirmed', 'they', 'had', 'arrested', 'a', 'yearold', 'man', 'from', 'outside', 'their', 'area', 'bnp', 'founding', 'chairman', 'john', 'tyndall', 'was', 'arrested', 'on', 'sunday', 'on', 'the', 'same', 'charge', 'in', 'july', 'the', 'bbc', 'documentary', 'secret', 'agent', 'featured', 'covertlyfilmed', 'footage', 'of', 'bnp', 'activists', 'mr', 'griffin', 'is', 'the', 'twelfth', 'man', 'to', 'be', 'arrested', 'following', 'the', 'documentary', 'nine']\n"
     ]
    }
   ],
   "source": [
    "pattern = \"([a-zA-Z]+(?:'[a-z]+)?)\"\n",
    "metamorph_tokens_raw = nltk.regexp_tokenize(s, pattern)\n",
    "print(metamorph_tokens_raw[:100])"
   ]
  },
  {
   "cell_type": "code",
   "execution_count": 43,
   "metadata": {
    "ExecuteTime": {
     "end_time": "2019-07-09T17:44:42.093603Z",
     "start_time": "2019-07-09T17:44:42.087704Z"
    }
   },
   "outputs": [
    {
     "name": "stdout",
     "output_type": "stream",
     "text": [
      "['bnp', 'leader', 'nick', 'griffin', 'arrested', 'the', 'leader', 'of', 'the', 'british', 'national', 'party', 'has', 'been', 'arrested', 'as', 'part', 'of', 'a', 'police', 'inquiry', 'following', 'the', 'screening', 'of', 'a', 'bbc', 'documentary', 'a', 'party', 'spokesman', 'said', 'nick', 'griffin', 'was', 'arrested', 'on', 'tuesday', 'morning', 'on', 'suspicion', 'of', 'incitement', 'to', 'commit', 'racial', 'hatred', 'west', 'yorkshire', 'police', 'confirmed', 'they', 'had', 'arrested', 'a', 'yearold', 'man', 'from', 'outside', 'their', 'area', 'bnp', 'founding', 'chairman', 'john', 'tyndall', 'was', 'arrested', 'on', 'sunday', 'on', 'the', 'same', 'charge', 'in', 'july', 'the', 'bbc', 'documentary', 'secret', 'agent', 'featured', 'covertlyfilmed', 'footage', 'of', 'bnp', 'activists', 'mr', 'griffin', 'is', 'the', 'twelfth', 'man', 'to', 'be', 'arrested', 'following', 'the', 'documentary', 'nine']\n"
     ]
    }
   ],
   "source": [
    "metamorph_tokens = [i.lower() for i in metamorph_tokens_raw]\n",
    "print(metamorph_tokens[:100])\n"
   ]
  },
  {
   "cell_type": "code",
   "execution_count": 44,
   "metadata": {
    "ExecuteTime": {
     "end_time": "2019-07-09T17:44:43.026319Z",
     "start_time": "2019-07-09T17:44:43.015441Z"
    }
   },
   "outputs": [
    {
     "name": "stderr",
     "output_type": "stream",
     "text": [
      "[nltk_data] Downloading package stopwords to\n",
      "[nltk_data]     /Users/buddy4732/nltk_data...\n",
      "[nltk_data]   Package stopwords is already up-to-date!\n"
     ]
    },
    {
     "data": {
      "text/plain": [
       "['i',\n",
       " 'me',\n",
       " 'my',\n",
       " 'myself',\n",
       " 'we',\n",
       " 'our',\n",
       " 'ours',\n",
       " 'ourselves',\n",
       " 'you',\n",
       " \"you're\",\n",
       " \"you've\",\n",
       " \"you'll\",\n",
       " \"you'd\",\n",
       " 'your',\n",
       " 'yours',\n",
       " 'yourself',\n",
       " 'yourselves',\n",
       " 'he',\n",
       " 'him',\n",
       " 'his',\n",
       " 'himself',\n",
       " 'she',\n",
       " \"she's\",\n",
       " 'her',\n",
       " 'hers',\n",
       " 'herself',\n",
       " 'it',\n",
       " \"it's\",\n",
       " 'its',\n",
       " 'itself',\n",
       " 'they',\n",
       " 'them',\n",
       " 'their',\n",
       " 'theirs',\n",
       " 'themselves',\n",
       " 'what',\n",
       " 'which',\n",
       " 'who',\n",
       " 'whom',\n",
       " 'this',\n",
       " 'that',\n",
       " \"that'll\",\n",
       " 'these',\n",
       " 'those',\n",
       " 'am',\n",
       " 'is',\n",
       " 'are',\n",
       " 'was',\n",
       " 'were',\n",
       " 'be',\n",
       " 'been',\n",
       " 'being',\n",
       " 'have',\n",
       " 'has',\n",
       " 'had',\n",
       " 'having',\n",
       " 'do',\n",
       " 'does',\n",
       " 'did',\n",
       " 'doing',\n",
       " 'a',\n",
       " 'an',\n",
       " 'the',\n",
       " 'and',\n",
       " 'but',\n",
       " 'if',\n",
       " 'or',\n",
       " 'because',\n",
       " 'as',\n",
       " 'until',\n",
       " 'while',\n",
       " 'of',\n",
       " 'at',\n",
       " 'by',\n",
       " 'for',\n",
       " 'with',\n",
       " 'about',\n",
       " 'against',\n",
       " 'between',\n",
       " 'into',\n",
       " 'through',\n",
       " 'during',\n",
       " 'before',\n",
       " 'after',\n",
       " 'above',\n",
       " 'below',\n",
       " 'to',\n",
       " 'from',\n",
       " 'up',\n",
       " 'down',\n",
       " 'in',\n",
       " 'out',\n",
       " 'on',\n",
       " 'off',\n",
       " 'over',\n",
       " 'under',\n",
       " 'again',\n",
       " 'further',\n",
       " 'then',\n",
       " 'once',\n",
       " 'here',\n",
       " 'there',\n",
       " 'when',\n",
       " 'where',\n",
       " 'why',\n",
       " 'how',\n",
       " 'all',\n",
       " 'any',\n",
       " 'both',\n",
       " 'each',\n",
       " 'few',\n",
       " 'more',\n",
       " 'most',\n",
       " 'other',\n",
       " 'some',\n",
       " 'such',\n",
       " 'no',\n",
       " 'nor',\n",
       " 'not',\n",
       " 'only',\n",
       " 'own',\n",
       " 'same',\n",
       " 'so',\n",
       " 'than',\n",
       " 'too',\n",
       " 'very',\n",
       " 's',\n",
       " 't',\n",
       " 'can',\n",
       " 'will',\n",
       " 'just',\n",
       " 'don',\n",
       " \"don't\",\n",
       " 'should',\n",
       " \"should've\",\n",
       " 'now',\n",
       " 'd',\n",
       " 'll',\n",
       " 'm',\n",
       " 'o',\n",
       " 're',\n",
       " 've',\n",
       " 'y',\n",
       " 'ain',\n",
       " 'aren',\n",
       " \"aren't\",\n",
       " 'couldn',\n",
       " \"couldn't\",\n",
       " 'didn',\n",
       " \"didn't\",\n",
       " 'doesn',\n",
       " \"doesn't\",\n",
       " 'hadn',\n",
       " \"hadn't\",\n",
       " 'hasn',\n",
       " \"hasn't\",\n",
       " 'haven',\n",
       " \"haven't\",\n",
       " 'isn',\n",
       " \"isn't\",\n",
       " 'ma',\n",
       " 'mightn',\n",
       " \"mightn't\",\n",
       " 'mustn',\n",
       " \"mustn't\",\n",
       " 'needn',\n",
       " \"needn't\",\n",
       " 'shan',\n",
       " \"shan't\",\n",
       " 'shouldn',\n",
       " \"shouldn't\",\n",
       " 'wasn',\n",
       " \"wasn't\",\n",
       " 'weren',\n",
       " \"weren't\",\n",
       " 'won',\n",
       " \"won't\",\n",
       " 'wouldn',\n",
       " \"wouldn't\"]"
      ]
     },
     "execution_count": 44,
     "metadata": {},
     "output_type": "execute_result"
    }
   ],
   "source": [
    "import nltk\n",
    "nltk.download('stopwords')\n",
    "from nltk.corpus import stopwords\n",
    "stopwords.words(\"english\")"
   ]
  },
  {
   "cell_type": "code",
   "execution_count": 58,
   "metadata": {
    "ExecuteTime": {
     "end_time": "2019-07-09T17:46:30.858687Z",
     "start_time": "2019-07-09T17:46:30.850060Z"
    },
    "scrolled": true
   },
   "outputs": [
    {
     "name": "stdout",
     "output_type": "stream",
     "text": [
      "['bnp', 'leader', 'nick', 'griffin', 'arrested', 'leader', 'british', 'national', 'party', 'arrested', 'part', 'police', 'inquiry', 'following', 'screening', 'bbc', 'documentary', 'party', 'spokesman', 'said', 'nick', 'griffin', 'arrested', 'tuesday', 'morning', 'suspicion', 'incitement', 'commit', 'racial', 'hatred', 'west', 'yorkshire', 'police', 'confirmed', 'arrested', 'yearold', 'man', 'outside', 'area', 'bnp', 'founding', 'chairman', 'john', 'tyndall', 'arrested', 'sunday', 'charge', 'july', 'bbc', 'documentary', 'secret', 'agent', 'featured', 'covertlyfilmed', 'footage', 'bnp', 'activists', 'mr', 'griffin', 'twelfth', 'man', 'arrested', 'following', 'documentary', 'nine', 'men', 'west', 'yorkshire', 'another', 'man', 'leicester', 'arrested', 'freed', 'bail', 'seven', 'men', 'held', 'variously', 'connection', 'suspected', 'racially', 'aggravated', 'public', 'order', 'offences', 'conspiracy', 'commit', 'criminal', 'damage', 'possession', 'firearm', 'two', 'men', 'keighley', 'arrested', 'september', 'suspicion', 'conspiracy', 'commit', 'criminal']\n"
     ]
    }
   ],
   "source": [
    "stop_words = set(stopwords.words('english'))\n",
    "metamorph_tokens_stopped = [w for w in metamorph_tokens if not w in stop_words]\n",
    "print(metamorph_tokens_stopped[:100])"
   ]
  },
  {
   "cell_type": "markdown",
   "metadata": {},
   "source": [
    "## Stemming / Lemming"
   ]
  },
  {
   "cell_type": "markdown",
   "metadata": {},
   "source": [
    "### Stemming - Porter Stemmer \n",
    "![porter](https://cdn.homebrewersassociation.org/wp-content/uploads/Baltic_Porter_Feature-600x800.jpg)"
   ]
  },
  {
   "cell_type": "code",
   "execution_count": 59,
   "metadata": {
    "ExecuteTime": {
     "end_time": "2019-07-09T17:46:32.942623Z",
     "start_time": "2019-07-09T17:46:32.936873Z"
    }
   },
   "outputs": [],
   "source": [
    "from nltk.stem import *\n",
    "stemmer = PorterStemmer()\n",
    "plurals = ['caresses', 'flies', 'dies', 'mules', 'denied',\n",
    "           'died', 'agreed', 'owned', 'humbled', 'sized',\n",
    "           'meeting', 'stating', 'siezing', 'itemization',\n",
    "           'sensational', 'traditional', 'reference', 'colonizer',\n",
    "          'plotted']"
   ]
  },
  {
   "cell_type": "code",
   "execution_count": 60,
   "metadata": {
    "ExecuteTime": {
     "end_time": "2019-07-09T17:46:33.646347Z",
     "start_time": "2019-07-09T17:46:33.639539Z"
    }
   },
   "outputs": [
    {
     "name": "stdout",
     "output_type": "stream",
     "text": [
      "caress fli die mule deni die agre own humbl size meet state siez item sensat tradit refer colon plot\n"
     ]
    }
   ],
   "source": [
    "singles = [stemmer.stem(plural) for plural in plurals]\n",
    "print(' '.join(singles))"
   ]
  },
  {
   "cell_type": "markdown",
   "metadata": {},
   "source": [
    "### Stemming - Snowball Stemmer\n",
    "![snowball](https://localtvwiti.files.wordpress.com/2018/08/gettyimages-936380496.jpg?quality=85&strip=all)"
   ]
  },
  {
   "cell_type": "code",
   "execution_count": 61,
   "metadata": {
    "ExecuteTime": {
     "end_time": "2019-07-09T17:46:34.837085Z",
     "start_time": "2019-07-09T17:46:34.831608Z"
    }
   },
   "outputs": [
    {
     "name": "stdout",
     "output_type": "stream",
     "text": [
      "arabic danish dutch english finnish french german hungarian italian norwegian porter portuguese romanian russian spanish swedish\n"
     ]
    }
   ],
   "source": [
    "print(\" \".join(SnowballStemmer.languages))"
   ]
  },
  {
   "cell_type": "code",
   "execution_count": 62,
   "metadata": {
    "ExecuteTime": {
     "end_time": "2019-07-09T17:46:35.452372Z",
     "start_time": "2019-07-09T17:46:35.446890Z"
    }
   },
   "outputs": [
    {
     "name": "stdout",
     "output_type": "stream",
     "text": [
      "run\n"
     ]
    }
   ],
   "source": [
    "stemmer = SnowballStemmer(\"english\")\n",
    "print(stemmer.stem(\"running\"))"
   ]
  },
  {
   "cell_type": "markdown",
   "metadata": {},
   "source": [
    "### Porter vs Snowball"
   ]
  },
  {
   "cell_type": "code",
   "execution_count": 63,
   "metadata": {
    "ExecuteTime": {
     "end_time": "2019-07-09T17:46:36.419108Z",
     "start_time": "2019-07-09T17:46:36.412483Z"
    },
    "scrolled": true
   },
   "outputs": [
    {
     "name": "stdout",
     "output_type": "stream",
     "text": [
      "generous\n",
      "gener\n"
     ]
    }
   ],
   "source": [
    "print(SnowballStemmer(\"english\").stem(\"generously\"))\n",
    "print(SnowballStemmer(\"porter\").stem(\"generously\"))\n",
    "\n"
   ]
  },
  {
   "cell_type": "markdown",
   "metadata": {},
   "source": [
    "### Use Snowball on metamorphesis"
   ]
  },
  {
   "cell_type": "code",
   "execution_count": 64,
   "metadata": {
    "ExecuteTime": {
     "end_time": "2019-07-09T17:46:37.307920Z",
     "start_time": "2019-07-09T17:46:37.298694Z"
    }
   },
   "outputs": [
    {
     "name": "stdout",
     "output_type": "stream",
     "text": [
      "['bnp', 'leader', 'nick', 'griffin', 'arrest', 'leader', 'british', 'nation', 'parti', 'arrest', 'part', 'polic', 'inquiri', 'follow', 'screen', 'bbc', 'documentari', 'parti', 'spokesman', 'said', 'nick', 'griffin', 'arrest', 'tuesday', 'morn', 'suspicion', 'incit', 'commit', 'racial', 'hatr', 'west', 'yorkshir', 'polic', 'confirm', 'arrest', 'yearold', 'man', 'outsid', 'area', 'bnp', 'found', 'chairman', 'john', 'tyndal', 'arrest', 'sunday', 'charg', 'juli', 'bbc', 'documentari', 'secret', 'agent', 'featur', 'covertlyfilm', 'footag', 'bnp', 'activist', 'mr', 'griffin', 'twelfth', 'man', 'arrest', 'follow', 'documentari', 'nine', 'men', 'west', 'yorkshir', 'anoth', 'man', 'leicest', 'arrest', 'freed', 'bail', 'seven', 'men', 'held', 'various', 'connect', 'suspect', 'racial', 'aggrav', 'public', 'order', 'offenc', 'conspiraci', 'commit', 'crimin', 'damag', 'possess', 'firearm', 'two', 'men', 'keighley', 'arrest', 'septemb', 'suspicion', 'conspiraci', 'commit', 'crimin']\n"
     ]
    }
   ],
   "source": [
    "meta_stemmed = [stemmer.stem(word) for word in metamorph_tokens_stopped]\n",
    "print(meta_stemmed[:100])"
   ]
  },
  {
   "cell_type": "markdown",
   "metadata": {},
   "source": [
    "### Lemmatization\n",
    "\n",
    "Uses a corpus of words \"WordNet\"\n",
    "\n",
    "`from nltk.stem import WordNetLemmatizer\n",
    "wordnet_lemmatizer = WordNetLemmatizer()`\n",
    "\n",
    "\n",
    "Challenge of lemmatization:\n",
    "\n",
    "`wordnet_lemmatizer.lemmatize(word, pos=\"v\")`"
   ]
  },
  {
   "cell_type": "markdown",
   "metadata": {},
   "source": [
    "## Here is a short list of additional considerations when cleaning text:\n",
    "\n",
    "- Handling large documents and large collections of text documents that do not fit into memory.\n",
    "- Extracting text from markup like HTML, PDF, or other structured document formats.\n",
    "- Transliteration of characters from other languages into English.\n",
    "- Decoding Unicode characters into a normalized form, such as UTF8.\n",
    "- Handling of domain specific words, phrases, and acronyms.\n",
    "- Handling or removing numbers, such as dates and amounts.\n",
    "- Locating and correcting common typos and misspellings."
   ]
  },
  {
   "cell_type": "markdown",
   "metadata": {},
   "source": [
    "### Document statistics"
   ]
  },
  {
   "cell_type": "markdown",
   "metadata": {},
   "source": [
    "Average word length in document"
   ]
  },
  {
   "cell_type": "code",
   "execution_count": 65,
   "metadata": {
    "ExecuteTime": {
     "end_time": "2019-07-09T17:46:40.088491Z",
     "start_time": "2019-07-09T17:46:40.080740Z"
    }
   },
   "outputs": [
    {
     "data": {
      "text/plain": [
       "5.833333333333333"
      ]
     },
     "execution_count": 65,
     "metadata": {},
     "output_type": "execute_result"
    }
   ],
   "source": [
    "float(sum(map(len, meta_stemmed))) / len(meta_stemmed)"
   ]
  },
  {
   "cell_type": "markdown",
   "metadata": {},
   "source": [
    "Number of words in document"
   ]
  },
  {
   "cell_type": "code",
   "execution_count": 66,
   "metadata": {
    "ExecuteTime": {
     "end_time": "2019-07-09T17:46:40.926062Z",
     "start_time": "2019-07-09T17:46:40.918756Z"
    }
   },
   "outputs": [
    {
     "data": {
      "text/plain": [
       "126"
      ]
     },
     "execution_count": 66,
     "metadata": {},
     "output_type": "execute_result"
    }
   ],
   "source": [
    "len(meta_stemmed)"
   ]
  },
  {
   "cell_type": "markdown",
   "metadata": {},
   "source": [
    "## What you've all been waiting for \n",
    "\n",
    "![big deal](http://reddebtedstepchild.com/wp-content/uploads/2013/04/Big-deal-gif.gif)\n",
    "\n",
    "\n",
    "## Frequency distributions"
   ]
  },
  {
   "cell_type": "code",
   "execution_count": 67,
   "metadata": {
    "ExecuteTime": {
     "end_time": "2019-07-09T17:46:41.827692Z",
     "start_time": "2019-07-09T17:46:41.808670Z"
    }
   },
   "outputs": [],
   "source": [
    "meta_freqdist = FreqDist(meta_stemmed)"
   ]
  },
  {
   "cell_type": "code",
   "execution_count": 68,
   "metadata": {
    "ExecuteTime": {
     "end_time": "2019-07-09T17:46:42.210662Z",
     "start_time": "2019-07-09T17:46:42.200248Z"
    }
   },
   "outputs": [
    {
     "data": {
      "text/plain": [
       "[('arrest', 9),\n",
       " ('bnp', 4),\n",
       " ('commit', 4),\n",
       " ('man', 4),\n",
       " ('griffin', 3),\n",
       " ('polic', 3),\n",
       " ('follow', 3),\n",
       " ('documentari', 3),\n",
       " ('suspicion', 3),\n",
       " ('racial', 3),\n",
       " ('men', 3),\n",
       " ('leader', 2),\n",
       " ('nick', 2),\n",
       " ('parti', 2),\n",
       " ('bbc', 2),\n",
       " ('said', 2),\n",
       " ('incit', 2),\n",
       " ('hatr', 2),\n",
       " ('west', 2),\n",
       " ('yorkshir', 2),\n",
       " ('yearold', 2),\n",
       " ('tyndal', 2),\n",
       " ('mr', 2),\n",
       " ('leicest', 2),\n",
       " ('bail', 2),\n",
       " ('conspiraci', 2),\n",
       " ('crimin', 2),\n",
       " ('damag', 2),\n",
       " ('british', 1),\n",
       " ('nation', 1),\n",
       " ('part', 1),\n",
       " ('inquiri', 1),\n",
       " ('screen', 1),\n",
       " ('spokesman', 1),\n",
       " ('tuesday', 1),\n",
       " ('morn', 1),\n",
       " ('confirm', 1),\n",
       " ('outsid', 1),\n",
       " ('area', 1),\n",
       " ('found', 1),\n",
       " ('chairman', 1),\n",
       " ('john', 1),\n",
       " ('sunday', 1),\n",
       " ('charg', 1),\n",
       " ('juli', 1),\n",
       " ('secret', 1),\n",
       " ('agent', 1),\n",
       " ('featur', 1),\n",
       " ('covertlyfilm', 1),\n",
       " ('footag', 1)]"
      ]
     },
     "execution_count": 68,
     "metadata": {},
     "output_type": "execute_result"
    }
   ],
   "source": [
    "meta_freqdist.most_common(50)"
   ]
  },
  {
   "cell_type": "code",
   "execution_count": 69,
   "metadata": {
    "ExecuteTime": {
     "end_time": "2019-07-09T17:46:43.671400Z",
     "start_time": "2019-07-09T17:46:43.418157Z"
    },
    "scrolled": true
   },
   "outputs": [
    {
     "data": {
      "image/png": "[encoded data removed]",
      "text/plain": [
       "<Figure size 432x288 with 1 Axes>"
      ]
     },
     "metadata": {
      "needs_background": "light"
     },
     "output_type": "display_data"
    }
   ],
   "source": [
    "meta_freqdist.plot(30,cumulative=False)\n",
    "plt.show()"
   ]
  },
  {
   "cell_type": "markdown",
   "metadata": {},
   "source": [
    "**TASK**: Create word frequency plot for your article\n",
    "\n",
    "Question:  Should any more stop words be added to the list given your plot results?"
   ]
  },
  {
   "cell_type": "code",
   "execution_count": 129,
   "metadata": {
    "ExecuteTime": {
     "end_time": "2019-07-09T15:52:06.925007Z",
     "start_time": "2019-07-09T15:52:06.873851Z"
    }
   },
   "outputs": [],
   "source": [
    "meta_finder = BigramCollocationFinder.from_words(meta_stemmed)\n"
   ]
  },
  {
   "cell_type": "markdown",
   "metadata": {},
   "source": [
    "## Creating a Data frame that compares the documents\n",
    "\n",
    "**Puzzle**: how could you adapt the code below to allow you to compare documents and word counts?"
   ]
  },
  {
   "cell_type": "code",
   "execution_count": 130,
   "metadata": {
    "ExecuteTime": {
     "end_time": "2019-07-09T15:52:11.697127Z",
     "start_time": "2019-07-09T15:52:11.667202Z"
    }
   },
   "outputs": [
    {
     "name": "stdout",
     "output_type": "stream",
     "text": [
      "   hello  omg  pony  she  there  went  why\n",
      "0      1    0     0    0      1     0    1\n",
      "1      1    1     1    0      0     0    0\n",
      "2      0    1     0    1      1     1    0\n"
     ]
    }
   ],
   "source": [
    "import pandas as pd\n",
    "from sklearn.feature_extraction.text import CountVectorizer\n",
    "\n",
    "docs = ['why hello there', 'omg hello pony', 'she went there? omg']\n",
    "vec = CountVectorizer()\n",
    "X = vec.fit_transform(docs)\n",
    "df = pd.DataFrame(X.toarray(), columns=vec.get_feature_names())\n",
    "print(df)"
   ]
  },
  {
   "cell_type": "code",
   "execution_count": null,
   "metadata": {},
   "outputs": [],
   "source": []
  }
 ],
 "metadata": {
  "kernelspec": {
   "display_name": "Python 3",
   "language": "python",
   "name": "python3"
  },
  "toc": {
   "base_numbering": 1,
   "nav_menu": {},
   "number_sections": true,
   "sideBar": true,
   "skip_h1_title": false,
   "title_cell": "Table of Contents",
   "title_sidebar": "Contents",
   "toc_cell": false,
   "toc_position": {},
   "toc_section_display": true,
   "toc_window_display": false
  },
  "varInspector": {
   "cols": {
    "lenName": 16,
    "lenType": 16,
    "lenVar": 40
   },
   "kernels_config": {
    "python": {
     "delete_cmd_postfix": "",
     "delete_cmd_prefix": "del ",
     "library": "var_list.py",
     "varRefreshCmd": "print(var_dic_list())"
    },
    "r": {
     "delete_cmd_postfix": ") ",
     "delete_cmd_prefix": "rm(",
     "library": "var_list.r",
     "varRefreshCmd": "cat(var_dic_list()) "
    }
   },
   "types_to_exclude": [
    "module",
    "function",
    "builtin_function_or_method",
    "instance",
    "_Feature"
   ],
   "window_display": false
  }
 },
 "nbformat": 4,
 "nbformat_minor": 2
}

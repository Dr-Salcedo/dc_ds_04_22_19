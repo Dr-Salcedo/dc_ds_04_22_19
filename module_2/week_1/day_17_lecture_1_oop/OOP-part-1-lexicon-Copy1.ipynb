{
 "cells": [
  {
   "cell_type": "markdown",
   "metadata": {
    "slideshow": {
     "slide_type": "slide"
    }
   },
   "source": [
    "# Object Oriented Programing - Part 1\n",
    "## Or why a data scientist should care about classes"
   ]
  },
  {
   "cell_type": "markdown",
   "metadata": {
    "slideshow": {
     "slide_type": "slide"
    }
   },
   "source": [
    "## Scenario\n",
    "\n",
    "You want to build an automated datascience pipeline to monitor and predict stock performance.\n",
    "What would you do?\n",
    "\n",
    "![stocks](img/stocks.jpeg)"
   ]
  },
  {
   "cell_type": "markdown",
   "metadata": {
    "slideshow": {
     "slide_type": "slide"
    }
   },
   "source": [
    "While we won't complete this today, in order to build that you'd need to:\n",
    "\n",
    "- describe the limits of custom functions\n",
    "- identify and paraphrase the vocabulary of Object Oriented Programming\n",
    "- build a new small sample class\n",
    "- map out the blueprint of a class for the stock monitoring data science pipeline"
   ]
  },
  {
   "cell_type": "markdown",
   "metadata": {
    "slideshow": {
     "slide_type": "slide"
    }
   },
   "source": [
    "### Let's start with the familiar: functions, why do we care about them?"
   ]
  },
  {
   "cell_type": "markdown",
   "metadata": {
    "slideshow": {
     "slide_type": "slide"
    }
   },
   "source": [
    "But, how is a function like a pipe?"
   ]
  },
  {
   "cell_type": "markdown",
   "metadata": {
    "slideshow": {
     "slide_type": "fragment"
    }
   },
   "source": [
    "![pipes](img/funtions-pipe.jpeg)"
   ]
  },
  {
   "cell_type": "markdown",
   "metadata": {
    "slideshow": {
     "slide_type": "slide"
    }
   },
   "source": [
    "**What if** there was a way to bundle your input data, output data, and a bunch of functions _all together_ in a repeatable fashion?"
   ]
  },
  {
   "cell_type": "markdown",
   "metadata": {
    "slideshow": {
     "slide_type": "fragment"
    }
   },
   "source": [
    "Well, _**there is**_."
   ]
  },
  {
   "cell_type": "markdown",
   "metadata": {
    "slideshow": {
     "slide_type": "fragment"
    }
   },
   "source": [
    "Or to put it differently:"
   ]
  },
  {
   "cell_type": "markdown",
   "metadata": {
    "slideshow": {
     "slide_type": "slide"
    }
   },
   "source": [
    "#### HI BILLY MAYS HERE"
   ]
  },
  {
   "cell_type": "markdown",
   "metadata": {
    "slideshow": {
     "slide_type": "fragment"
    }
   },
   "source": [
    "![mayes](img/mayes.png)"
   ]
  },
  {
   "cell_type": "markdown",
   "metadata": {
    "slideshow": {
     "slide_type": "slide"
    }
   },
   "source": [
    "#### Example 1\n",
    "When we use `type()` what are we checking?\n",
    "\n",
    "```\n",
    "example = [\"one\", \"two\", 3]\n",
    "type(example)\n",
    "type(example[-1])\n",
    "```"
   ]
  },
  {
   "cell_type": "markdown",
   "metadata": {
    "slideshow": {
     "slide_type": "fragment"
    }
   },
   "source": [
    "`example` is an _object_ of _class type_ **list**"
   ]
  },
  {
   "cell_type": "markdown",
   "metadata": {
    "slideshow": {
     "slide_type": "fragment"
    }
   },
   "source": [
    "What can we know about `example` now that we know it is a **list** ?"
   ]
  },
  {
   "cell_type": "markdown",
   "metadata": {
    "slideshow": {
     "slide_type": "slide"
    }
   },
   "source": [
    "#### Example 2\n",
    "\n",
    "```\n",
    "import pandas as pd\n",
    "\n",
    "sampledf = pd.Dataframe()\n",
    "\n",
    "```"
   ]
  },
  {
   "cell_type": "code",
   "execution_count": 1,
   "metadata": {
    "slideshow": {
     "slide_type": "slide"
    }
   },
   "outputs": [],
   "source": [
    "import pandas as pd\n",
    "\n",
    "sampledf = pd.DataFrame()"
   ]
  },
  {
   "cell_type": "markdown",
   "metadata": {
    "slideshow": {
     "slide_type": "fragment"
    }
   },
   "source": [
    "When we create an \"object\", using the blue-print of a _class_, even when it is **empty** that is called _initializing_ the object. "
   ]
  },
  {
   "cell_type": "markdown",
   "metadata": {
    "slideshow": {
     "slide_type": "slide"
    }
   },
   "source": [
    "Even though it is empty, it is still an _object_ of _class_ pandas DataFrame."
   ]
  },
  {
   "cell_type": "code",
   "execution_count": 2,
   "metadata": {
    "slideshow": {
     "slide_type": "-"
    }
   },
   "outputs": [
    {
     "data": {
      "text/plain": [
       "pandas.core.frame.DataFrame"
      ]
     },
     "execution_count": 2,
     "metadata": {},
     "output_type": "execute_result"
    }
   ],
   "source": [
    "type(sampledf)"
   ]
  },
  {
   "cell_type": "markdown",
   "metadata": {
    "slideshow": {
     "slide_type": "slide"
    }
   },
   "source": [
    "What do we know we can ask about this object?\n",
    "What are its _attributes_ ?"
   ]
  },
  {
   "cell_type": "code",
   "execution_count": 4,
   "metadata": {
    "slideshow": {
     "slide_type": "fragment"
    }
   },
   "outputs": [
    {
     "data": {
      "text/plain": [
       "Index([], dtype='object')"
      ]
     },
     "execution_count": 4,
     "metadata": {},
     "output_type": "execute_result"
    }
   ],
   "source": [
    "sampledf.columns"
   ]
  },
  {
   "cell_type": "markdown",
   "metadata": {
    "slideshow": {
     "slide_type": "slide"
    }
   },
   "source": [
    "What about _methods_ ? What methods are available for data frames?"
   ]
  },
  {
   "cell_type": "code",
   "execution_count": 3,
   "metadata": {
    "slideshow": {
     "slide_type": "fragment"
    }
   },
   "outputs": [
    {
     "data": {
      "text/plain": [
       "<bound method NDFrame.describe of Empty DataFrame\n",
       "Columns: []\n",
       "Index: []>"
      ]
     },
     "execution_count": 3,
     "metadata": {},
     "output_type": "execute_result"
    }
   ],
   "source": [
    "sampledf.describe"
   ]
  },
  {
   "cell_type": "markdown",
   "metadata": {},
   "source": []
  },
  {
   "cell_type": "code",
   "execution_count": null,
   "metadata": {},
   "outputs": [],
   "source": []
  },
  {
   "cell_type": "markdown",
   "metadata": {
    "slideshow": {
     "slide_type": "slide"
    }
   },
   "source": [
    "What other attributes and methods can you use on a dataframe? Try them on `sampledf`<br>\n",
    "The methods and attributes for dataframes are found [here](https://pandas.pydata.org/pandas-docs/stable/reference/api/pandas.DataFrame.html)"
   ]
  },
  {
   "cell_type": "markdown",
   "metadata": {
    "slideshow": {
     "slide_type": "slide"
    }
   },
   "source": [
    "**Task**: Try working with the methods and attributes of data frames on the `airports.csv` dataset"
   ]
  },
  {
   "cell_type": "code",
   "execution_count": 4,
   "metadata": {},
   "outputs": [],
   "source": [
    "airports = pd.read_csv('airports.csv')"
   ]
  },
  {
   "cell_type": "code",
   "execution_count": 5,
   "metadata": {
    "slideshow": {
     "slide_type": "skip"
    }
   },
   "outputs": [
    {
     "data": {
      "text/plain": [
       "Index(['IATA_CODE', 'AIRPORT', 'CITY', 'STATE', 'COUNTRY', 'LATITUDE',\n",
       "       'LONGITUDE'],\n",
       "      dtype='object')"
      ]
     },
     "execution_count": 5,
     "metadata": {},
     "output_type": "execute_result"
    }
   ],
   "source": [
    "airports.columns"
   ]
  },
  {
   "cell_type": "code",
   "execution_count": 6,
   "metadata": {
    "slideshow": {
     "slide_type": "skip"
    }
   },
   "outputs": [
    {
     "data": {
      "text/plain": [
       "(322, 7)"
      ]
     },
     "execution_count": 6,
     "metadata": {},
     "output_type": "execute_result"
    }
   ],
   "source": [
    "airports.shape"
   ]
  },
  {
   "cell_type": "code",
   "execution_count": 7,
   "metadata": {
    "scrolled": true,
    "slideshow": {
     "slide_type": "skip"
    }
   },
   "outputs": [
    {
     "data": {
      "text/plain": [
       "IATA_CODE     object\n",
       "AIRPORT       object\n",
       "CITY          object\n",
       "STATE         object\n",
       "COUNTRY       object\n",
       "LATITUDE     float64\n",
       "LONGITUDE    float64\n",
       "dtype: object"
      ]
     },
     "execution_count": 7,
     "metadata": {},
     "output_type": "execute_result"
    }
   ],
   "source": [
    "airports.dtypes"
   ]
  },
  {
   "cell_type": "code",
   "execution_count": 8,
   "metadata": {},
   "outputs": [
    {
     "data": {
      "text/plain": [
       "<bound method NDFrame.describe of     IATA_CODE                                            AIRPORT  \\\n",
       "0         ABE                Lehigh Valley International Airport   \n",
       "1         ABI                           Abilene Regional Airport   \n",
       "2         ABQ                  Albuquerque International Sunport   \n",
       "3         ABR                          Aberdeen Regional Airport   \n",
       "4         ABY                 Southwest Georgia Regional Airport   \n",
       "5         ACK                         Nantucket Memorial Airport   \n",
       "6         ACT                              Waco Regional Airport   \n",
       "7         ACV                                     Arcata Airport   \n",
       "8         ACY                Atlantic City International Airport   \n",
       "9         ADK                                       Adak Airport   \n",
       "10        ADQ                                     Kodiak Airport   \n",
       "11        AEX                   Alexandria International Airport   \n",
       "12        AGS              Augusta Regional Airport (Bush Field)   \n",
       "13        AKN                                King Salmon Airport   \n",
       "14        ALB                       Albany International Airport   \n",
       "15        ALO                          Waterloo Regional Airport   \n",
       "16        AMA        Rick Husband Amarillo International Airport   \n",
       "17        ANC        Ted Stevens Anchorage International Airport   \n",
       "18        APN                     Alpena County Regional Airport   \n",
       "19        ASE                        Aspen-Pitkin County Airport   \n",
       "20        ATL   Hartsfield-Jackson Atlanta International Airport   \n",
       "21        ATW                     Appleton International Airport   \n",
       "22        AUS             Austin-Bergstrom International Airport   \n",
       "23        AVL                         Asheville Regional Airport   \n",
       "24        AVP        Wilkes-Barre/Scranton International Airport   \n",
       "25        AZO       Kalamazoo/Battle Creek International Airport   \n",
       "26        BDL                      Bradley International Airport   \n",
       "27        BET                                     Bethel Airport   \n",
       "28        BFL                                      Meadows Field   \n",
       "29        BGM                         Greater Binghamton Airport   \n",
       "..        ...                                                ...   \n",
       "292       SRQ           Sarasota-Bradenton International Airport   \n",
       "293       STC                         St. Cloud Regional Airport   \n",
       "294       STL   St. Louis International Airport at Lambert Field   \n",
       "295       STT                              Cyril E. King Airport   \n",
       "296       STX                           Henry E. Rohlsen Airport   \n",
       "297       SUN                          Friedman Memorial Airport   \n",
       "298       SUX                              Sioux Gateway Airport   \n",
       "299       SWF                      Stewart International Airport   \n",
       "300       SYR             Syracuse Hancock International Airport   \n",
       "301       TLH                  Tallahassee International Airport   \n",
       "302       TOL                             Toledo Express Airport   \n",
       "303       TPA                        Tampa International Airport   \n",
       "304       TRI                        Tri-Cities Regional Airport   \n",
       "305       TTN                             Trenton Mercer Airport   \n",
       "306       TUL                        Tulsa International Airport   \n",
       "307       TUS                       Tucson International Airport   \n",
       "308       TVC                             Cherry Capital Airport   \n",
       "309       TWF       Magic Valley Regional Airport (Joslin Field)   \n",
       "310       TXK            Texarkana Regional Airport (Webb Field)   \n",
       "311       TYR                      Tyler Pounds Regional Airport   \n",
       "312       TYS                               McGhee Tyson Airport   \n",
       "313       UST  Northeast Florida Regional Airport (St. August...   \n",
       "314       VEL                                     Valdez Airport   \n",
       "315       VLD                          Valdosta Regional Airport   \n",
       "316       VPS         Destin-Fort Walton Beach Airport/Eglin AFB   \n",
       "317       WRG                                   Wrangell Airport   \n",
       "318       WYS                             Westerly State Airport   \n",
       "319       XNA                Northwest Arkansas Regional Airport   \n",
       "320       YAK                                    Yakutat Airport   \n",
       "321       YUM                         Yuma International Airport   \n",
       "\n",
       "                               CITY STATE COUNTRY  LATITUDE  LONGITUDE  \n",
       "0                         Allentown    PA     USA  40.65236  -75.44040  \n",
       "1                           Abilene    TX     USA  32.41132  -99.68190  \n",
       "2                       Albuquerque    NM     USA  35.04022 -106.60919  \n",
       "3                          Aberdeen    SD     USA  45.44906  -98.42183  \n",
       "4                            Albany    GA     USA  31.53552  -84.19447  \n",
       "5                         Nantucket    MA     USA  41.25305  -70.06018  \n",
       "6                              Waco    TX     USA  31.61129  -97.23052  \n",
       "7                     Arcata/Eureka    CA     USA  40.97812 -124.10862  \n",
       "8                     Atlantic City    NJ     USA  39.45758  -74.57717  \n",
       "9                              Adak    AK     USA  51.87796 -176.64603  \n",
       "10                           Kodiak    AK     USA  57.74997 -152.49386  \n",
       "11                       Alexandria    LA     USA  31.32737  -92.54856  \n",
       "12                          Augusta    GA     USA  33.36996  -81.96450  \n",
       "13                      King Salmon    AK     USA  58.67680 -156.64922  \n",
       "14                           Albany    NY     USA  42.74812  -73.80298  \n",
       "15                         Waterloo    IA     USA  42.55708  -92.40034  \n",
       "16                         Amarillo    TX     USA  35.21937 -101.70593  \n",
       "17                        Anchorage    AK     USA  61.17432 -149.99619  \n",
       "18                           Alpena    MI     USA  45.07807  -83.56029  \n",
       "19                            Aspen    CO     USA  39.22316 -106.86885  \n",
       "20                          Atlanta    GA     USA  33.64044  -84.42694  \n",
       "21                         Appleton    WI     USA  44.25741  -88.51948  \n",
       "22                           Austin    TX     USA  30.19453  -97.66987  \n",
       "23                        Asheville    NC     USA  35.43619  -82.54181  \n",
       "24            Wilkes-Barre/Scranton    PA     USA  41.33815  -75.72427  \n",
       "25                        Kalamazoo    MI     USA  42.23488  -85.55206  \n",
       "26                    Windsor Locks    CT     USA  41.93887  -72.68323  \n",
       "27                           Bethel    AK     USA  60.77978 -161.83800  \n",
       "28                      Bakersfield    CA     USA  35.43360 -119.05677  \n",
       "29                       Binghamton    NY     USA  42.20848  -75.97961  \n",
       "..                              ...   ...     ...       ...        ...  \n",
       "292                        Sarasota    FL     USA  27.39533  -82.55411  \n",
       "293                        St Cloud    MN     USA  45.54532  -94.05834  \n",
       "294                        St Louis    MO     USA  38.74769  -90.35999  \n",
       "295                Charlotte Amalie    VI     USA  18.33731  -64.97336  \n",
       "296                   Christiansted    VI     USA  17.70189  -64.79856  \n",
       "297                          Hailey    ID     USA  43.50484 -114.29659  \n",
       "298                      Sioux City    IA     USA  42.40260  -96.38437  \n",
       "299                        Newburgh    NY     USA  41.50409  -74.10484  \n",
       "300                        Syracuse    NY     USA  43.11119  -76.10631  \n",
       "301                     Tallahassee    FL     USA  30.39653  -84.35033  \n",
       "302                          Toledo    OH     USA  41.58681  -83.80783  \n",
       "303                           Tampa    FL     USA  27.97547  -82.53325  \n",
       "304                         Bristol    TN     USA  36.47521  -82.40742  \n",
       "305                         Trenton    NJ     USA  40.27669  -74.81347  \n",
       "306                           Tulsa    OK     USA  36.19837  -95.88824  \n",
       "307                          Tucson    AZ     USA  32.11608 -110.94103  \n",
       "308                   Traverse City    MI     USA  44.74144  -85.58224  \n",
       "309                      Twin Falls    ID     USA  42.48180 -114.48774  \n",
       "310                       Texarkana    AR     USA  33.45371  -93.99102  \n",
       "311                           Tyler    TX     USA  32.35414  -95.40239  \n",
       "312                       Knoxville    TN     USA  35.81249  -83.99286  \n",
       "313                   St. Augustine    FL     USA       NaN        NaN  \n",
       "314                          Vernal    UT     USA  40.44090 -109.50992  \n",
       "315                        Valdosta    GA     USA  30.78250  -83.27672  \n",
       "316                      Valparaiso    FL     USA  30.48325  -86.52540  \n",
       "317                        Wrangell    AK     USA  56.48433 -132.36982  \n",
       "318                West Yellowstone    MT     USA  44.68840 -111.11764  \n",
       "319  Fayetteville/Springdale/Rogers    AR     USA  36.28187  -94.30681  \n",
       "320                         Yakutat    AK     USA  59.50336 -139.66023  \n",
       "321                            Yuma    AZ     USA  32.65658 -114.60597  \n",
       "\n",
       "[322 rows x 7 columns]>"
      ]
     },
     "execution_count": 8,
     "metadata": {},
     "output_type": "execute_result"
    }
   ],
   "source": [
    "airports.describe\n"
   ]
  },
  {
   "cell_type": "code",
   "execution_count": null,
   "metadata": {},
   "outputs": [],
   "source": []
  },
  {
   "cell_type": "code",
   "execution_count": null,
   "metadata": {},
   "outputs": [],
   "source": []
  },
  {
   "cell_type": "code",
   "execution_count": 12,
   "metadata": {},
   "outputs": [
    {
     "data": {
      "text/html": [
       "<div>\n",
       "<style scoped>\n",
       "    .dataframe tbody tr th:only-of-type {\n",
       "        vertical-align: middle;\n",
       "    }\n",
       "\n",
       "    .dataframe tbody tr th {\n",
       "        vertical-align: top;\n",
       "    }\n",
       "\n",
       "    .dataframe thead th {\n",
       "        text-align: right;\n",
       "    }\n",
       "</style>\n",
       "<table border=\"1\" class=\"dataframe\">\n",
       "  <thead>\n",
       "    <tr style=\"text-align: right;\">\n",
       "      <th></th>\n",
       "      <th>IATA_CODE</th>\n",
       "      <th>AIRPORT</th>\n",
       "      <th>CITY</th>\n",
       "      <th>STATE</th>\n",
       "      <th>COUNTRY</th>\n",
       "      <th>LATITUDE</th>\n",
       "      <th>LONGITUDE</th>\n",
       "    </tr>\n",
       "  </thead>\n",
       "  <tbody>\n",
       "    <tr>\n",
       "      <th>0</th>\n",
       "      <td>ABE</td>\n",
       "      <td>Lehigh Valley International Airport</td>\n",
       "      <td>Allentown</td>\n",
       "      <td>PA</td>\n",
       "      <td>USA</td>\n",
       "      <td>40.65236</td>\n",
       "      <td>-75.44040</td>\n",
       "    </tr>\n",
       "    <tr>\n",
       "      <th>1</th>\n",
       "      <td>ABI</td>\n",
       "      <td>Abilene Regional Airport</td>\n",
       "      <td>Abilene</td>\n",
       "      <td>TX</td>\n",
       "      <td>USA</td>\n",
       "      <td>32.41132</td>\n",
       "      <td>-99.68190</td>\n",
       "    </tr>\n",
       "    <tr>\n",
       "      <th>2</th>\n",
       "      <td>ABQ</td>\n",
       "      <td>Albuquerque International Sunport</td>\n",
       "      <td>Albuquerque</td>\n",
       "      <td>NM</td>\n",
       "      <td>USA</td>\n",
       "      <td>35.04022</td>\n",
       "      <td>-106.60919</td>\n",
       "    </tr>\n",
       "    <tr>\n",
       "      <th>3</th>\n",
       "      <td>ABR</td>\n",
       "      <td>Aberdeen Regional Airport</td>\n",
       "      <td>Aberdeen</td>\n",
       "      <td>SD</td>\n",
       "      <td>USA</td>\n",
       "      <td>45.44906</td>\n",
       "      <td>-98.42183</td>\n",
       "    </tr>\n",
       "    <tr>\n",
       "      <th>4</th>\n",
       "      <td>ABY</td>\n",
       "      <td>Southwest Georgia Regional Airport</td>\n",
       "      <td>Albany</td>\n",
       "      <td>GA</td>\n",
       "      <td>USA</td>\n",
       "      <td>31.53552</td>\n",
       "      <td>-84.19447</td>\n",
       "    </tr>\n",
       "  </tbody>\n",
       "</table>\n",
       "</div>"
      ],
      "text/plain": [
       "  IATA_CODE                              AIRPORT         CITY STATE COUNTRY  \\\n",
       "0       ABE  Lehigh Valley International Airport    Allentown    PA     USA   \n",
       "1       ABI             Abilene Regional Airport      Abilene    TX     USA   \n",
       "2       ABQ    Albuquerque International Sunport  Albuquerque    NM     USA   \n",
       "3       ABR            Aberdeen Regional Airport     Aberdeen    SD     USA   \n",
       "4       ABY   Southwest Georgia Regional Airport       Albany    GA     USA   \n",
       "\n",
       "   LATITUDE  LONGITUDE  \n",
       "0  40.65236  -75.44040  \n",
       "1  32.41132  -99.68190  \n",
       "2  35.04022 -106.60919  \n",
       "3  45.44906  -98.42183  \n",
       "4  31.53552  -84.19447  "
      ]
     },
     "execution_count": 12,
     "metadata": {},
     "output_type": "execute_result"
    }
   ],
   "source": [
    "airports.infer_objects().head()"
   ]
  },
  {
   "cell_type": "code",
   "execution_count": 9,
   "metadata": {},
   "outputs": [
    {
     "ename": "SyntaxError",
     "evalue": "invalid syntax (<ipython-input-9-bbbb0883b569>, line 1)",
     "output_type": "error",
     "traceback": [
      "\u001b[0;36m  File \u001b[0;32m\"<ipython-input-9-bbbb0883b569>\"\u001b[0;36m, line \u001b[0;32m1\u001b[0m\n\u001b[0;31m    class.info()\u001b[0m\n\u001b[0m         ^\u001b[0m\n\u001b[0;31mSyntaxError\u001b[0m\u001b[0;31m:\u001b[0m invalid syntax\n"
     ]
    }
   ],
   "source": []
  },
  {
   "cell_type": "markdown",
   "metadata": {
    "slideshow": {
     "slide_type": "slide"
    }
   },
   "source": [
    "### Quick knowledge check:"
   ]
  },
  {
   "cell_type": "markdown",
   "metadata": {
    "slideshow": {
     "slide_type": "fragment"
    }
   },
   "source": [
    "- Where can you find the list of available attributes and methods for a pre-created class?"
   ]
  },
  {
   "cell_type": "markdown",
   "metadata": {
    "slideshow": {
     "slide_type": "fragment"
    }
   },
   "source": [
    "- what's the key difference between an attribute and a method?"
   ]
  },
  {
   "cell_type": "markdown",
   "metadata": {
    "slideshow": {
     "slide_type": "fragment"
    }
   },
   "source": [
    "- What is the appropriate sequence of these words?  A variable becomes an _______ when you _______ a _______ .\n",
    " - A: Initialize\n",
    " - B: Class\n",
    " - C: Object"
   ]
  },
  {
   "cell_type": "markdown",
   "metadata": {
    "slideshow": {
     "slide_type": "slide"
    }
   },
   "source": [
    "### So creating a _class_ is essentially creating a _blueprint_ for how you want to store and manipulate data.\n",
    "\n",
    "![blueprint](img/blueprint.jpeg)"
   ]
  },
  {
   "cell_type": "markdown",
   "metadata": {
    "slideshow": {
     "slide_type": "slide"
    }
   },
   "source": [
    "### Let's start by making a car `class` and giving it some `attributes`"
   ]
  },
  {
   "cell_type": "code",
   "execution_count": 36,
   "metadata": {
    "slideshow": {
     "slide_type": "fragment"
    }
   },
   "outputs": [],
   "source": [
    "class Car():\n",
    "    def __init__(self,make=None, origin=None, owner=None):\n",
    "        self.make=make\n",
    "        self.origin=origin\n",
    "        self.owner=owner"
   ]
  },
  {
   "cell_type": "code",
   "execution_count": 37,
   "metadata": {},
   "outputs": [],
   "source": []
  },
  {
   "cell_type": "code",
   "execution_count": 51,
   "metadata": {
    "slideshow": {
     "slide_type": "fragment"
    }
   },
   "outputs": [
    {
     "ename": "TypeError",
     "evalue": "__init__() takes 3 positional arguments but 4 were given",
     "output_type": "error",
     "traceback": [
      "\u001b[0;31m---------------------------------------------------------------------------\u001b[0m",
      "\u001b[0;31mTypeError\u001b[0m                                 Traceback (most recent call last)",
      "\u001b[0;32m<ipython-input-51-e3e0b2f06b2e>\u001b[0m in \u001b[0;36m<module>\u001b[0;34m\u001b[0m\n\u001b[0;32m----> 1\u001b[0;31m \u001b[0mlambo\u001b[0m\u001b[0;34m=\u001b[0m \u001b[0mCar\u001b[0m\u001b[0;34m(\u001b[0m\u001b[0;34m\"GM\"\u001b[0m\u001b[0;34m,\u001b[0m \u001b[0;34m\"USA\"\u001b[0m\u001b[0;34m,\u001b[0m \u001b[0;34m\"Buddy\"\u001b[0m\u001b[0;34m)\u001b[0m\u001b[0;34m\u001b[0m\u001b[0;34m\u001b[0m\u001b[0m\n\u001b[0m",
      "\u001b[0;31mTypeError\u001b[0m: __init__() takes 3 positional arguments but 4 were given"
     ]
    }
   ],
   "source": [
    "lambo= Car(\"GM\", \"USA\", \"Buddy\")"
   ]
  },
  {
   "cell_type": "code",
   "execution_count": 52,
   "metadata": {},
   "outputs": [
    {
     "data": {
      "text/plain": [
       "'Buddy'"
      ]
     },
     "execution_count": 52,
     "metadata": {},
     "output_type": "execute_result"
    }
   ],
   "source": [
    "ferrari.owner"
   ]
  },
  {
   "cell_type": "markdown",
   "metadata": {
    "slideshow": {
     "slide_type": "slide"
    }
   },
   "source": [
    "#### Check the class of lambo"
   ]
  },
  {
   "cell_type": "code",
   "execution_count": 53,
   "metadata": {
    "slideshow": {
     "slide_type": "fragment"
    }
   },
   "outputs": [
    {
     "data": {
      "text/plain": [
       "__main__.Car"
      ]
     },
     "execution_count": 53,
     "metadata": {},
     "output_type": "execute_result"
    }
   ],
   "source": [
    "type(lambo)"
   ]
  },
  {
   "cell_type": "markdown",
   "metadata": {
    "slideshow": {
     "slide_type": "slide"
    }
   },
   "source": [
    "#### Can assign attributes to a class object after it's been defined and intitialized"
   ]
  },
  {
   "cell_type": "code",
   "execution_count": 54,
   "metadata": {
    "slideshow": {
     "slide_type": "fragment"
    }
   },
   "outputs": [
    {
     "data": {
      "text/plain": [
       "200"
      ]
     },
     "execution_count": 54,
     "metadata": {},
     "output_type": "execute_result"
    }
   ],
   "source": [
    "ferrari.max_speed = 200\n",
    "ferrari.max_speed"
   ]
  },
  {
   "cell_type": "markdown",
   "metadata": {
    "slideshow": {
     "slide_type": "slide"
    }
   },
   "source": [
    "#### But what if we try to return the `max_speed` of lambo?"
   ]
  },
  {
   "cell_type": "code",
   "execution_count": 55,
   "metadata": {
    "slideshow": {
     "slide_type": "fragment"
    }
   },
   "outputs": [
    {
     "data": {
      "text/plain": [
       "200"
      ]
     },
     "execution_count": 55,
     "metadata": {},
     "output_type": "execute_result"
    }
   ],
   "source": [
    "lambo.max_speed"
   ]
  },
  {
   "cell_type": "markdown",
   "metadata": {
    "slideshow": {
     "slide_type": "slide"
    }
   },
   "source": [
    "#### Let's update our car class so it has more attributes"
   ]
  },
  {
   "cell_type": "code",
   "execution_count": 56,
   "metadata": {
    "slideshow": {
     "slide_type": "fragment"
    }
   },
   "outputs": [],
   "source": [
    "class Car():\n",
    "    wheels = 4"
   ]
  },
  {
   "cell_type": "code",
   "execution_count": 57,
   "metadata": {
    "slideshow": {
     "slide_type": "fragment"
    }
   },
   "outputs": [
    {
     "data": {
      "text/plain": [
       "4"
      ]
     },
     "execution_count": 57,
     "metadata": {},
     "output_type": "execute_result"
    }
   ],
   "source": [
    "ford = Car()\n",
    "ford.wheels"
   ]
  },
  {
   "cell_type": "markdown",
   "metadata": {
    "slideshow": {
     "slide_type": "slide"
    }
   },
   "source": [
    "#### What if we wanted to set some parameters when we initialize the object?"
   ]
  },
  {
   "cell_type": "code",
   "execution_count": 58,
   "metadata": {},
   "outputs": [],
   "source": [
    "class Car():\n",
    "    wheels = 4\n",
    "    def __init__(self, max_speed, c_type):\n",
    "        self.max_speed = max_speed\n",
    "        self.c_type = c_type"
   ]
  },
  {
   "cell_type": "code",
   "execution_count": 59,
   "metadata": {},
   "outputs": [],
   "source": [
    "lambo = Car(200, 'sport')"
   ]
  },
  {
   "cell_type": "markdown",
   "metadata": {
    "slideshow": {
     "slide_type": "slide"
    }
   },
   "source": [
    "#### Confirm our assignment worked"
   ]
  },
  {
   "cell_type": "code",
   "execution_count": 60,
   "metadata": {},
   "outputs": [
    {
     "name": "stdout",
     "output_type": "stream",
     "text": [
      "4\n",
      "200\n",
      "sport\n"
     ]
    }
   ],
   "source": [
    "print(lambo.wheels)\n",
    "print(lambo.max_speed)\n",
    "print(lambo.c_type)"
   ]
  },
  {
   "cell_type": "markdown",
   "metadata": {},
   "source": [
    "#### What if you try to initialize it without one of the terms?"
   ]
  },
  {
   "cell_type": "code",
   "execution_count": 61,
   "metadata": {},
   "outputs": [
    {
     "ename": "TypeError",
     "evalue": "__init__() missing 1 required positional argument: 'c_type'",
     "output_type": "error",
     "traceback": [
      "\u001b[0;31m---------------------------------------------------------------------------\u001b[0m",
      "\u001b[0;31mTypeError\u001b[0m                                 Traceback (most recent call last)",
      "\u001b[0;32m<ipython-input-61-4d3a40aca94d>\u001b[0m in \u001b[0;36m<module>\u001b[0;34m\u001b[0m\n\u001b[0;32m----> 1\u001b[0;31m \u001b[0mtest\u001b[0m \u001b[0;34m=\u001b[0m \u001b[0mCar\u001b[0m\u001b[0;34m(\u001b[0m\u001b[0;36m55\u001b[0m\u001b[0;34m)\u001b[0m\u001b[0;34m\u001b[0m\u001b[0;34m\u001b[0m\u001b[0m\n\u001b[0m",
      "\u001b[0;31mTypeError\u001b[0m: __init__() missing 1 required positional argument: 'c_type'"
     ]
    }
   ],
   "source": [
    "test = Car(55)"
   ]
  },
  {
   "cell_type": "markdown",
   "metadata": {
    "slideshow": {
     "slide_type": "slide"
    }
   },
   "source": [
    "## Now let's create a method for our car class"
   ]
  },
  {
   "cell_type": "code",
   "execution_count": 62,
   "metadata": {
    "slideshow": {
     "slide_type": "fragment"
    }
   },
   "outputs": [],
   "source": [
    "class Car():\n",
    "    wheels = 4\n",
    "    def __init__(self, max_speed, c_type):\n",
    "        self.max_speed = max_speed\n",
    "        self.c_type = c_type\n",
    "    def go(self):\n",
    "        print('going')\n",
    "        self.moving = True\n"
   ]
  },
  {
   "cell_type": "code",
   "execution_count": 65,
   "metadata": {
    "slideshow": {
     "slide_type": "skip"
    }
   },
   "outputs": [],
   "source": [
    "scion=Car(120, \"normal\")"
   ]
  },
  {
   "cell_type": "code",
   "execution_count": 66,
   "metadata": {},
   "outputs": [
    {
     "name": "stdout",
     "output_type": "stream",
     "text": [
      "going\n"
     ]
    }
   ],
   "source": [
    "scion.go()"
   ]
  },
  {
   "cell_type": "markdown",
   "metadata": {
    "slideshow": {
     "slide_type": "slide"
    }
   },
   "source": [
    "#### **Task** create another method for car `stop`\n",
    "\n",
    "- stop should print 'stopped'\n",
    "- stop should set the attribute `moving` to `False`"
   ]
  },
  {
   "cell_type": "code",
   "execution_count": 70,
   "metadata": {
    "slideshow": {
     "slide_type": "skip"
    }
   },
   "outputs": [],
   "source": [
    "class Car():\n",
    "    wheels = 4\n",
    "    def __init__(self, max_speed, c_type):\n",
    "        self.max_speed = max_speed\n",
    "        self.c_type = c_type\n",
    "    def go(self):\n",
    "        print('going')\n",
    "        self.moving = True\n",
    "    def stop(self):\n",
    "        print('stopped')\n",
    "        self.moving = False"
   ]
  },
  {
   "cell_type": "code",
   "execution_count": 74,
   "metadata": {},
   "outputs": [
    {
     "name": "stdout",
     "output_type": "stream",
     "text": [
      "stopped\n"
     ]
    }
   ],
   "source": [
    "scion=Car(111, \"normal\")\n",
    "scion.stop()"
   ]
  },
  {
   "cell_type": "code",
   "execution_count": 75,
   "metadata": {},
   "outputs": [
    {
     "data": {
      "text/plain": [
       "False"
      ]
     },
     "execution_count": 75,
     "metadata": {},
     "output_type": "execute_result"
    }
   ],
   "source": [
    "scion.moving"
   ]
  },
  {
   "cell_type": "code",
   "execution_count": 77,
   "metadata": {},
   "outputs": [
    {
     "data": {
      "text/plain": [
       "'normal'"
      ]
     },
     "execution_count": 77,
     "metadata": {},
     "output_type": "execute_result"
    }
   ],
   "source": [
    "scion.c_type"
   ]
  },
  {
   "cell_type": "markdown",
   "metadata": {
    "slideshow": {
     "slide_type": "slide"
    }
   },
   "source": [
    "**Task**: Make a pizza class<br>\n",
    "\n",
    "- Pizza should take one topping and the size of the pizza when instantiated\n",
    "- Pizza should have an attribute `toppings` that stores toppings in a list\n",
    "- Pizza should have methods `.add_topping`, `print_toppings`, and `remove_topping`"
   ]
  },
  {
   "cell_type": "code",
   "execution_count": 112,
   "metadata": {},
   "outputs": [],
   "source": [
    "class Pizza():\n",
    "\n",
    "    def __init__(self,first_topping,size):\n",
    "        self.first_topping=first_topping\n",
    "        self.size=size\n",
    "        self.toppings=[first_topping]\n",
    "\n",
    "    \n",
    "    def add_topping(self,topping):\n",
    "        self.toppings.append(topping)\n",
    "        \n",
    "    def print_toppings():\n",
    "        print(toppings)\n",
    "        \n",
    "    def remove_topping():\n",
    "        toppings.pop()"
   ]
  },
  {
   "cell_type": "code",
   "execution_count": 113,
   "metadata": {},
   "outputs": [],
   "source": [
    "Pepperoni=Pizza(\"chicken\", \"medium\")"
   ]
  },
  {
   "cell_type": "code",
   "execution_count": 114,
   "metadata": {},
   "outputs": [],
   "source": [
    "Pepperoni.add_topping(\"mushroom\")"
   ]
  },
  {
   "cell_type": "code",
   "execution_count": 115,
   "metadata": {},
   "outputs": [
    {
     "data": {
      "text/plain": [
       "['chicken', 'mushroom']"
      ]
     },
     "execution_count": 115,
     "metadata": {},
     "output_type": "execute_result"
    }
   ],
   "source": [
    "Pepperoni.toppings"
   ]
  },
  {
   "cell_type": "code",
   "execution_count": null,
   "metadata": {},
   "outputs": [],
   "source": []
  },
  {
   "cell_type": "markdown",
   "metadata": {
    "slideshow": {
     "slide_type": "slide"
    }
   },
   "source": [
    "**Extra Credit**\n",
    "\n",
    "- Pizza should have an attribute \"order_status\" that starts as equaling `none`. order_status should change depending on the methods:\n",
    " - `done_adjusting_order`\n",
    " - `preparing`\n",
    " - `delivering`\n",
    " - `delivered` \n",
    "- order_status, when called, should return in the form of a sentence. "
   ]
  },
  {
   "cell_type": "markdown",
   "metadata": {
    "slideshow": {
     "slide_type": "slide"
    }
   },
   "source": [
    "### Integration\n",
    "Make a plan for a stock class\n",
    "\n",
    "- What would you want it to take when instantiated?\n",
    "- what methods would you want it to have?\n",
    "- for predicting, would you want it to default to one modeling technique? or would you be able to specify?\n",
    "- What input data would it take?\n",
    "- What attributes would you want to be able to reference?"
   ]
  },
  {
   "cell_type": "code",
   "execution_count": null,
   "metadata": {},
   "outputs": [],
   "source": [
    "__init__(self, Exchange_listing, category, ticker, current_price, volume, number_shares, years_trading, country_origin, pe_ratio, dividend, dividend_yield, analyst_rec, one_year_performance, ten_year, lifetime):"
   ]
  },
  {
   "cell_type": "code",
   "execution_count": null,
   "metadata": {},
   "outputs": [],
   "source": []
  },
  {
   "cell_type": "markdown",
   "metadata": {
    "slideshow": {
     "slide_type": "slide"
    }
   },
   "source": [
    "## Assessment:\n",
    "\n",
    "![greg](img/thinking.jpeg)\n",
    "\n",
    "It's Greg again. <br>\n",
    "You overhear him talking to his peers about how OOB is irrelevant to the data science skill set. <br>\n",
    "When Greg meets with you for his one-on-one, how would you correct him?"
   ]
  },
  {
   "cell_type": "markdown",
   "metadata": {
    "slideshow": {
     "slide_type": "slide"
    }
   },
   "source": [
    "## Reflection\n",
    "\n",
    "![traffic](img/stoplight.jpeg)\n",
    "\n",
    "- One item you feel green -  ready to go on\n",
    "- One item you feel yellow - kind of get but not quite\n",
    "- One item you feel red - absolutely do not get"
   ]
  },
  {
   "cell_type": "markdown",
   "metadata": {},
   "source": [
    "## Part 2 - The simulation lab from learn.co\n",
    "Later today."
   ]
  }
 ],
 "metadata": {
  "kernelspec": {
   "display_name": "Python 3",
   "language": "python",
   "name": "python3"
  },
  "language_info": {
   "codemirror_mode": {
    "name": "ipython",
    "version": 3
   },
   "file_extension": ".py",
   "mimetype": "text/x-python",
   "name": "python",
   "nbconvert_exporter": "python",
   "pygments_lexer": "ipython3",
   "version": "3.7.1"
  }
 },
 "nbformat": 4,
 "nbformat_minor": 2
}

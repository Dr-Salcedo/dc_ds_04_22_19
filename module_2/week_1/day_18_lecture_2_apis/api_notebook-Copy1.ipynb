{
 "cells": [
  {
   "cell_type": "markdown",
   "metadata": {
    "slideshow": {
     "slide_type": "slide"
    }
   },
   "source": [
    "# APIs and Python"
   ]
  },
  {
   "cell_type": "markdown",
   "metadata": {
    "slideshow": {
     "slide_type": "slide"
    }
   },
   "source": [
    "## The Many Use Cases for APIs\n",
    "APIs can actually be used for many things - not just for retrieving information. Twilio has an API that allows you to write a script to call their API to send text messages to people. GitHub has an API for creating new repositories. Many services have an API allowing a computer to automate a task that a person might otherwise have to do through a website - whether uploading a photo to Flickr, searching for a company name in a state database or getting a list of garbage collection times for a municipality."
   ]
  },
  {
   "cell_type": "markdown",
   "metadata": {
    "slideshow": {
     "slide_type": "slide"
    }
   },
   "source": [
    "### _Learning Goals:_<br/>\n",
    "  - Identify and discuss APIs\n",
    "  - Discuss and explain different request (GET, POST, PUT, DELETE) and CRUD operations\n",
    "  - Explore the attributes of a response object\n",
    "  - Check the status of a request and interpret status codes\n",
    "  - Access data from an API using the requests library\n",
    "  - Create a pandas dataframe from the data returned from an API and visualize the data\n",
    "  - If time, target an API of their own!!!"
   ]
  },
  {
   "cell_type": "markdown",
   "metadata": {
    "slideshow": {
     "slide_type": "slide"
    }
   },
   "source": [
    "## Limitations of APIs\n",
    "When working with APIs, there are some limitations you have to be aware of - especially relating to scope and scale."
   ]
  },
  {
   "cell_type": "markdown",
   "metadata": {
    "slideshow": {
     "slide_type": "fragment"
    }
   },
   "source": [
    "* **Scope** - Just because a company has an API and has information, it doesn't mean you can get all of the information through their API. "
   ]
  },
  {
   "cell_type": "markdown",
   "metadata": {
    "slideshow": {
     "slide_type": "fragment"
    }
   },
   "source": [
    "* **Scale** - Some APIs are provided for free as a public service. Others you have to pay for, or allow you to perform activities (like sending a text message) that you pay for. Make sure that you know what the rate limits are and that your use case isn't going to need more API calls than you will be able to make."
   ]
  },
  {
   "cell_type": "markdown",
   "metadata": {
    "slideshow": {
     "slide_type": "fragment"
    }
   },
   "source": [
    "Let's take a look at the `requests` library and it's uses."
   ]
  },
  {
   "cell_type": "markdown",
   "metadata": {
    "slideshow": {
     "slide_type": "slide"
    }
   },
   "source": [
    "### \"Requests is the only Non-GMO HTTP library for Python, safe for human consumption.\"\n",
    "\n",
    "![img-req](requests-pic.jpeg)\n",
    "\n",
    "Straight from the `requests` [documentation](https://pypi.org/project/requests/)"
   ]
  },
  {
   "cell_type": "markdown",
   "metadata": {
    "slideshow": {
     "slide_type": "slide"
    }
   },
   "source": [
    "![nongmao](requests_med.png)\n",
    "\n",
    "\"Requests allows you to send organic, grass-fed HTTP/1.1 requests, without the need for manual labor. \"<br>\n",
    "[More requests documentation](https://2.python-requests.org//en/v0.10.6/api/)"
   ]
  },
  {
   "cell_type": "markdown",
   "metadata": {},
   "source": [
    "### Let's get started!"
   ]
  },
  {
   "cell_type": "code",
   "execution_count": 1,
   "metadata": {
    "ExecuteTime": {
     "end_time": "2019-05-15T18:42:34.405518Z",
     "start_time": "2019-05-15T18:42:34.120039Z"
    },
    "slideshow": {
     "slide_type": "slide"
    }
   },
   "outputs": [],
   "source": [
    "import requests"
   ]
  },
  {
   "cell_type": "code",
   "execution_count": null,
   "metadata": {},
   "outputs": [],
   "source": [
    "#!pip install requests"
   ]
  },
  {
   "cell_type": "markdown",
   "metadata": {},
   "source": [
    "### Types of requests\n",
    "\n",
    "We will mostly use GET, but there are other options\n",
    "\n",
    "Let's say you are looking at an API for a car rental company like Hertz, or maybe even Zipcar.\n",
    "\n",
    "The following different requests will generate these different responses.\n",
    "\n",
    "|Request        | Result        |\n",
    "|-------------|-------------|\n",
    "|GET /stores/   | User sees the list of stores|\n",
    "|GET /rentals/  | User sees the history of car rentals|\n",
    "|POST /rentals/ | User rents a car|\n",
    "|PUT /rentals/{id}/| User changes destination store|\n",
    "|DELETE /rentals/{id}/| User cancels the active car rental|\n",
    "\n",
    "\n"
   ]
  },
  {
   "cell_type": "code",
   "execution_count": 14,
   "metadata": {
    "ExecuteTime": {
     "end_time": "2019-05-15T18:48:33.876905Z",
     "start_time": "2019-05-15T18:48:33.866305Z"
    },
    "slideshow": {
     "slide_type": "slide"
    }
   },
   "outputs": [],
   "source": [
    "rental_json = [{\n",
    "    \"id\": 1,\n",
    "    \"name\": \"John St\",\n",
    "    \"location\": [29, 95],\n",
    "    \"available_cars_quantity\": 10\n",
    "},\n",
    "{\n",
    "    \"id\": 2,\n",
    "    \"name\": \"Scott St.\",\n",
    "    \"location\": [29.5, 95.7],\n",
    "    \"available_cars_quantity\": 2\n",
    "}]"
   ]
  },
  {
   "cell_type": "code",
   "execution_count": 4,
   "metadata": {
    "ExecuteTime": {
     "end_time": "2019-05-15T18:43:43.292068Z",
     "start_time": "2019-05-15T18:43:42.999811Z"
    }
   },
   "outputs": [
    {
     "data": {
      "text/plain": [
       "{'args': {},\n",
       " 'data': '',\n",
       " 'files': {},\n",
       " 'form': {},\n",
       " 'headers': {'Accept': '*/*',\n",
       "  'Accept-Encoding': 'gzip, deflate',\n",
       "  'Content-Length': '0',\n",
       "  'Host': 'httpbin.org',\n",
       "  'User-Agent': 'python-requests/2.21.0'},\n",
       " 'json': None,\n",
       " 'origin': '65.207.79.74, 65.207.79.74',\n",
       " 'url': 'https://httpbin.org/post'}"
      ]
     },
     "execution_count": 4,
     "metadata": {},
     "output_type": "execute_result"
    }
   ],
   "source": [
    "#create a post request from https://httpbin.org/post and view it in json format\n",
    "\n",
    "r = requests.post(\"https://httpbin.org/post\") #put url and data = {'key':'value'} format here in the bananas!\n",
    "r.json()"
   ]
  },
  {
   "cell_type": "markdown",
   "metadata": {
    "slideshow": {
     "slide_type": "slide"
    }
   },
   "source": [
    "### Request Class and Attributes"
   ]
  },
  {
   "cell_type": "code",
   "execution_count": 12,
   "metadata": {
    "ExecuteTime": {
     "end_time": "2019-05-15T18:48:19.151942Z",
     "start_time": "2019-05-15T18:48:18.646990Z"
    }
   },
   "outputs": [
    {
     "data": {
      "text/plain": [
       "requests.models.Response"
      ]
     },
     "execution_count": 12,
     "metadata": {},
     "output_type": "execute_result"
    }
   ],
   "source": [
    "#create a GET request from https://api.github.com/events and view it in json format\n",
    "\n",
    "r = requests.get('https://api.github.com/events') #put url here in the bananas!\n",
    "type(r)"
   ]
  },
  {
   "cell_type": "markdown",
   "metadata": {
    "slideshow": {
     "slide_type": "slide"
    }
   },
   "source": [
    "Let's check the `attributes` of a `Response` object. <br>\n",
    "https://2.python-requests.org//en/v0.10.6/api/\n",
    "\n",
    "Some key attributes:\n",
    "\n",
    "- url\n",
    "- text\n",
    "- status_code\n",
    "- headers\n",
    "- error"
   ]
  },
  {
   "cell_type": "markdown",
   "metadata": {
    "slideshow": {
     "slide_type": "slide"
    }
   },
   "source": [
    "### Checking out the status of your request"
   ]
  },
  {
   "cell_type": "code",
   "execution_count": 13,
   "metadata": {
    "ExecuteTime": {
     "end_time": "2019-05-15T18:48:26.734832Z",
     "start_time": "2019-05-15T18:48:26.727950Z"
    }
   },
   "outputs": [
    {
     "data": {
      "text/plain": [
       "'{\"message\":\"API rate limit exceeded for 65.207.79.74. (But here\\'s the good news: Authenticated requests get a higher rate limit. Check out the documentation for more details.)\",\"documentation_url\":\"https://developer.github.com/v3/#rate-limiting\"}'"
      ]
     },
     "execution_count": 13,
     "metadata": {},
     "output_type": "execute_result"
    }
   ],
   "source": [
    "#get the status of your post request\n",
    "r.text"
   ]
  },
  {
   "cell_type": "markdown",
   "metadata": {
    "slideshow": {
     "slide_type": "slide"
    }
   },
   "source": [
    "#### Types of status codes\n",
    "1xx - Informational responses\n",
    "\n",
    "2xx - Success\n",
    "- 200 OK\n",
    "- 201 Created\n",
    "- 204 No Content\n",
    "\n",
    "3xx - Redirection\n",
    "\n",
    "- 301 Moved Permanently (permanent URL redirection)\n",
    "- 304 Not Modified (A conditional GET or HEAD request has been received and would have resulted in a 200 OK response if it were not for the fact that the condition evaluated to false.)"
   ]
  },
  {
   "cell_type": "markdown",
   "metadata": {
    "slideshow": {
     "slide_type": "slide"
    }
   },
   "source": [
    "4xx - Client errors\n",
    "\n",
    "- 400 Bad Request\n",
    "- 401 Unauthorized\n",
    "- 403 Forbidden\n",
    "- 404 Not Found\n",
    "\n",
    "5xx - Server errors\n",
    "\n",
    "- 500 Internal Server Error"
   ]
  },
  {
   "cell_type": "markdown",
   "metadata": {
    "slideshow": {
     "slide_type": "slide"
    }
   },
   "source": [
    "https://http.cat"
   ]
  },
  {
   "cell_type": "code",
   "execution_count": 7,
   "metadata": {
    "ExecuteTime": {
     "end_time": "2019-05-15T18:47:25.404695Z",
     "start_time": "2019-05-15T18:47:25.150625Z"
    },
    "slideshow": {
     "slide_type": "slide"
    }
   },
   "outputs": [
    {
     "data": {
      "text/plain": [
       "403"
      ]
     },
     "execution_count": 7,
     "metadata": {},
     "output_type": "execute_result"
    }
   ],
   "source": [
    "#get status code for a \"broken\" link\n",
    "\n",
    "r = requests.get('https://api.github.com/fake-ending')\n",
    "r.status_code"
   ]
  },
  {
   "cell_type": "code",
   "execution_count": 17,
   "metadata": {
    "ExecuteTime": {
     "end_time": "2019-05-15T18:58:25.688575Z",
     "start_time": "2019-05-15T18:58:25.669761Z"
    }
   },
   "outputs": [
    {
     "data": {
      "text/plain": [
       "403"
      ]
     },
     "execution_count": 17,
     "metadata": {},
     "output_type": "execute_result"
    }
   ],
   "source": [
    "r.text\n",
    "r.status_code"
   ]
  },
  {
   "cell_type": "markdown",
   "metadata": {
    "slideshow": {
     "slide_type": "slide"
    }
   },
   "source": [
    "Can also explictly ask for the returned format to be json as a method."
   ]
  },
  {
   "cell_type": "code",
   "execution_count": 10,
   "metadata": {
    "ExecuteTime": {
     "end_time": "2019-05-15T18:47:52.553583Z",
     "start_time": "2019-05-15T18:47:52.545638Z"
    }
   },
   "outputs": [
    {
     "data": {
      "text/plain": [
       "{'message': \"API rate limit exceeded for 65.207.79.74. (But here's the good news: Authenticated requests get a higher rate limit. Check out the documentation for more details.)\",\n",
       " 'documentation_url': 'https://developer.github.com/v3/#rate-limiting'}"
      ]
     },
     "execution_count": 10,
     "metadata": {},
     "output_type": "execute_result"
    }
   ],
   "source": [
    "r.json()"
   ]
  },
  {
   "cell_type": "markdown",
   "metadata": {
    "slideshow": {
     "slide_type": "slide"
    }
   },
   "source": [
    "#### A note on errors and exceptions with the Requests library\n",
    "\n",
    "There are a number of exceptions and error codes you need to be familiar with when using the Requests library in Python.\n",
    "\n",
    "- The Requests library will raise a ConnectionError exception if there is a network problem like a DNS failure, or refused connection.\n",
    "- These are rare, but with invalid HTTP responses, Requests will also raise an HTTPError exception. \n",
    "- A Timeout exception will be raised if a request times out.\n",
    "- If and when a request exceeds the preconfigured number of maximum redirections, then a TooManyRedirects exception will be raised"
   ]
  },
  {
   "cell_type": "markdown",
   "metadata": {},
   "source": [
    "Now that we know a bit more about APIs and how to interact with them in python, let's actually investigate an API from scratch. \n",
    "\n",
    "To start, go over to the API documentation at: \n",
    "\n",
    "https://dev.socrata.com/foundry/data.cityofnewyork.us/fhrw-4uyv\n",
    "\n",
    "\n",
    "<img src=\"311_api_docs.png\">"
   ]
  },
  {
   "cell_type": "markdown",
   "metadata": {
    "slideshow": {
     "slide_type": "slide"
    }
   },
   "source": [
    "## Make an initial API call to retrieve 311 complaints from a neighborhood or zip code of your choice in New York City."
   ]
  },
  {
   "cell_type": "markdown",
   "metadata": {
    "slideshow": {
     "slide_type": "slide"
    }
   },
   "source": [
    "### Using Requests"
   ]
  },
  {
   "cell_type": "code",
   "execution_count": 22,
   "metadata": {
    "ExecuteTime": {
     "end_time": "2019-05-15T19:09:50.263375Z",
     "start_time": "2019-05-15T19:09:48.594440Z"
    },
    "slideshow": {
     "slide_type": "-"
    }
   },
   "outputs": [],
   "source": [
    "import requests\n",
    "import pandas as pd\n",
    "\n",
    "zip_code = '11004'\n",
    "\n",
    "# can't figure out date ranges at the moment...\n",
    "start_date = '2018-01-01T12:00:00'\n",
    "end_date = '2018-02-01T12:00:00'\n",
    "\n",
    "# create pull request based on parameters\n",
    "# https://data.cityofnewyork.us/Social-Services/311-Service-Requests-from-2010-to-Present/erm2-nwe9 click API\n",
    "\n",
    "url = \"https://data.cityofnewyork.us/resource/fhrw-4uyv.json?incident_zip={}\".format(zip_code)\n",
    "\n",
    "# do the pull\n",
    "response = requests.get(url)\n",
    "if response.status_code == 200:\n",
    "    data = response.json()\n",
    "else:\n",
    "    print('Hit an error.')"
   ]
  },
  {
   "cell_type": "code",
   "execution_count": 24,
   "metadata": {
    "ExecuteTime": {
     "end_time": "2019-05-15T19:09:50.446110Z",
     "start_time": "2019-05-15T19:09:50.435270Z"
    }
   },
   "outputs": [
    {
     "data": {
      "text/plain": [
       "1000"
      ]
     },
     "execution_count": 24,
     "metadata": {},
     "output_type": "execute_result"
    }
   ],
   "source": [
    "len(data)"
   ]
  },
  {
   "cell_type": "markdown",
   "metadata": {
    "slideshow": {
     "slide_type": "slide"
    }
   },
   "source": [
    "## Briefly Explore the Structure of the Response You Received."
   ]
  },
  {
   "cell_type": "markdown",
   "metadata": {},
   "source": [
    "### Let's look at the output of our API call to NYC 311"
   ]
  },
  {
   "cell_type": "code",
   "execution_count": 25,
   "metadata": {
    "ExecuteTime": {
     "end_time": "2019-05-15T19:09:53.390121Z",
     "start_time": "2019-05-15T19:09:53.375925Z"
    },
    "slideshow": {
     "slide_type": "-"
    }
   },
   "outputs": [
    {
     "name": "stdout",
     "output_type": "stream",
     "text": [
      "<class 'list'>\n"
     ]
    }
   ],
   "source": [
    "print(type(data))"
   ]
  },
  {
   "cell_type": "code",
   "execution_count": 26,
   "metadata": {
    "ExecuteTime": {
     "end_time": "2019-05-15T19:09:54.425484Z",
     "start_time": "2019-05-15T19:09:54.392234Z"
    },
    "slideshow": {
     "slide_type": "-"
    }
   },
   "outputs": [
    {
     "data": {
      "text/plain": [
       "1000"
      ]
     },
     "execution_count": 26,
     "metadata": {},
     "output_type": "execute_result"
    }
   ],
   "source": [
    "len(data)"
   ]
  },
  {
   "cell_type": "code",
   "execution_count": 27,
   "metadata": {
    "ExecuteTime": {
     "end_time": "2019-05-15T19:09:55.339714Z",
     "start_time": "2019-05-15T19:09:55.329922Z"
    },
    "slideshow": {
     "slide_type": "fragment"
    }
   },
   "outputs": [
    {
     "data": {
      "text/plain": [
       "{'address_type': 'INTERSECTION',\n",
       " 'agency': 'DOT',\n",
       " 'agency_name': 'Department of Transportation',\n",
       " 'borough': 'QUEENS',\n",
       " 'city': 'GLEN OAKS',\n",
       " 'community_board': '13 QUEENS',\n",
       " 'complaint_type': 'Street Condition',\n",
       " 'created_date': '2019-05-11T12:28:27.000',\n",
       " 'descriptor': 'Blocked - Construction',\n",
       " 'due_date': '2019-05-21T12:28:27.000',\n",
       " 'facility_type': 'N/A',\n",
       " 'incident_zip': '11004',\n",
       " 'intersection_street_1': '259 STREET',\n",
       " 'intersection_street_2': '80 AVENUE',\n",
       " 'latitude': '40.74466683606835',\n",
       " 'location': {'type': 'Point',\n",
       "  'coordinates': [-73.712018878375, 40.744666836068]},\n",
       " 'location_type': 'Street',\n",
       " 'longitude': '-73.71201887837508',\n",
       " 'open_data_channel_type': 'PHONE',\n",
       " 'park_borough': 'QUEENS',\n",
       " 'park_facility_name': 'Unspecified',\n",
       " 'resolution_action_updated_date': '2019-05-13T16:32:56.000',\n",
       " 'resolution_description': 'The Department of Transportation will inspect the condition and will determine the next action.',\n",
       " 'status': 'Assigned',\n",
       " 'unique_key': '42649512',\n",
       " 'x_coordinate_state_plane': '1064048',\n",
       " 'y_coordinate_state_plane': '210710'}"
      ]
     },
     "execution_count": 27,
     "metadata": {},
     "output_type": "execute_result"
    }
   ],
   "source": [
    "data[0]"
   ]
  },
  {
   "cell_type": "markdown",
   "metadata": {
    "slideshow": {
     "slide_type": "slide"
    }
   },
   "source": [
    "### Libraries for company-specific APIs\n",
    "\n",
    "Google has its own libraries you can import to access their apis. <br>\n",
    "NYC also uses the `sodapy` library, Socrata, to manage their open data. \n"
   ]
  },
  {
   "cell_type": "markdown",
   "metadata": {
    "slideshow": {
     "slide_type": "slide"
    }
   },
   "source": [
    "#### Extra credit for later if you want to play with it"
   ]
  },
  {
   "cell_type": "code",
   "execution_count": null,
   "metadata": {},
   "outputs": [],
   "source": [
    "# Install before running \n",
    "!pip install sodapy"
   ]
  },
  {
   "cell_type": "markdown",
   "metadata": {
    "slideshow": {
     "slide_type": "-"
    }
   },
   "source": [
    "#### Tokenize yourself, B!\n",
    "\n",
    "https://dev.socrata.com/foundry/data.cityofnewyork.us/fhrw-4uyv\n",
    "\n",
    "Scroll down and click to sign up for an app token! This is instantaneous and simple. No credit cards required!\n"
   ]
  },
  {
   "cell_type": "code",
   "execution_count": 28,
   "metadata": {
    "ExecuteTime": {
     "end_time": "2019-05-15T19:12:15.415762Z",
     "start_time": "2019-05-15T19:12:15.316180Z"
    }
   },
   "outputs": [
    {
     "ename": "ModuleNotFoundError",
     "evalue": "No module named 'sodapy'",
     "output_type": "error",
     "traceback": [
      "\u001b[0;31m---------------------------------------------------------------------------\u001b[0m",
      "\u001b[0;31mModuleNotFoundError\u001b[0m                       Traceback (most recent call last)",
      "\u001b[0;32m<ipython-input-28-e9b76693deae>\u001b[0m in \u001b[0;36m<module>\u001b[0;34m\u001b[0m\n\u001b[1;32m      2\u001b[0m \u001b[0;34m\u001b[0m\u001b[0m\n\u001b[1;32m      3\u001b[0m \u001b[0;32mimport\u001b[0m \u001b[0mpandas\u001b[0m \u001b[0;32mas\u001b[0m \u001b[0mpd\u001b[0m\u001b[0;34m\u001b[0m\u001b[0;34m\u001b[0m\u001b[0m\n\u001b[0;32m----> 4\u001b[0;31m \u001b[0;32mfrom\u001b[0m \u001b[0msodapy\u001b[0m \u001b[0;32mimport\u001b[0m \u001b[0mSocrata\u001b[0m\u001b[0;34m\u001b[0m\u001b[0;34m\u001b[0m\u001b[0m\n\u001b[0m\u001b[1;32m      5\u001b[0m \u001b[0;34m\u001b[0m\u001b[0m\n\u001b[1;32m      6\u001b[0m \u001b[0;31m# Unauthenticated client only works with public data sets. Note 'None'\u001b[0m\u001b[0;34m\u001b[0m\u001b[0;34m\u001b[0m\u001b[0;34m\u001b[0m\u001b[0m\n",
      "\u001b[0;31mModuleNotFoundError\u001b[0m: No module named 'sodapy'"
     ]
    }
   ],
   "source": [
    "token = '' \n",
    "\n",
    "import pandas as pd\n",
    "from sodapy import Socrata\n",
    "\n",
    "# Unauthenticated client only works with public data sets. Note 'None'\n",
    "# in place of application token, and no username or password:\n",
    "client = Socrata(\"data.cityofnewyork.us\", token)\n",
    "\n",
    "# Example authenticated client (needed for non-public datasets):\n",
    "# client = Socrata(data.cityofnewyork.us,\n",
    "#                  MyAppToken,\n",
    "#                  userame=\"user@example.com\",\n",
    "#                  password=\"AFakePassword\")\n",
    "\n",
    "# First 2000 results, returned as JSON from API / converted to Python list of\n",
    "# dictionaries by sodapy.\n",
    "results = client.get(\"fhrw-4uyv\", incident_zip = '11004', limit=1000)"
   ]
  },
  {
   "cell_type": "code",
   "execution_count": 13,
   "metadata": {
    "slideshow": {
     "slide_type": "-"
    }
   },
   "outputs": [
    {
     "data": {
      "text/plain": [
       "requests.models.Response"
      ]
     },
     "execution_count": 13,
     "metadata": {},
     "output_type": "execute_result"
    }
   ],
   "source": [
    "type(results)"
   ]
  },
  {
   "cell_type": "code",
   "execution_count": null,
   "metadata": {
    "slideshow": {
     "slide_type": "-"
    }
   },
   "outputs": [],
   "source": [
    "len(results)"
   ]
  },
  {
   "cell_type": "code",
   "execution_count": null,
   "metadata": {
    "slideshow": {
     "slide_type": "-"
    }
   },
   "outputs": [],
   "source": [
    "results[0]"
   ]
  },
  {
   "cell_type": "code",
   "execution_count": null,
   "metadata": {
    "slideshow": {
     "slide_type": "-"
    }
   },
   "outputs": [],
   "source": [
    "\n",
    "df_1 = pd.DataFrame(results)\n",
    "\n",
    "print(len(df_1))\n",
    "print(df_1.columns)\n",
    "df_1.head()"
   ]
  },
  {
   "cell_type": "markdown",
   "metadata": {
    "slideshow": {
     "slide_type": "slide"
    }
   },
   "source": [
    "## Create a Pandas DataFrame of the Data From the Response"
   ]
  },
  {
   "cell_type": "code",
   "execution_count": 34,
   "metadata": {
    "ExecuteTime": {
     "end_time": "2019-05-15T19:17:11.567716Z",
     "start_time": "2019-05-15T19:17:11.520664Z"
    },
    "slideshow": {
     "slide_type": "-"
    }
   },
   "outputs": [
    {
     "name": "stdout",
     "output_type": "stream",
     "text": [
      "1000\n",
      "Index(['address_type', 'agency', 'agency_name', 'bbl', 'borough', 'city',\n",
      "       'closed_date', 'community_board', 'complaint_type', 'created_date',\n",
      "       'cross_street_1', 'cross_street_2', 'descriptor', 'due_date',\n",
      "       'facility_type', 'incident_address', 'incident_zip',\n",
      "       'intersection_street_1', 'intersection_street_2', 'latitude',\n",
      "       'location', 'location_type', 'longitude', 'open_data_channel_type',\n",
      "       'park_borough', 'park_facility_name', 'resolution_action_updated_date',\n",
      "       'resolution_description', 'status', 'street_name',\n",
      "       'taxi_pick_up_location', 'unique_key', 'x_coordinate_state_plane',\n",
      "       'y_coordinate_state_plane'],\n",
      "      dtype='object')\n"
     ]
    },
    {
     "data": {
      "text/html": [
       "<div>\n",
       "<style scoped>\n",
       "    .dataframe tbody tr th:only-of-type {\n",
       "        vertical-align: middle;\n",
       "    }\n",
       "\n",
       "    .dataframe tbody tr th {\n",
       "        vertical-align: top;\n",
       "    }\n",
       "\n",
       "    .dataframe thead th {\n",
       "        text-align: right;\n",
       "    }\n",
       "</style>\n",
       "<table border=\"1\" class=\"dataframe\">\n",
       "  <thead>\n",
       "    <tr style=\"text-align: right;\">\n",
       "      <th></th>\n",
       "      <th>address_type</th>\n",
       "      <th>agency</th>\n",
       "      <th>agency_name</th>\n",
       "      <th>bbl</th>\n",
       "      <th>borough</th>\n",
       "      <th>city</th>\n",
       "      <th>closed_date</th>\n",
       "      <th>community_board</th>\n",
       "      <th>complaint_type</th>\n",
       "      <th>created_date</th>\n",
       "      <th>...</th>\n",
       "      <th>park_borough</th>\n",
       "      <th>park_facility_name</th>\n",
       "      <th>resolution_action_updated_date</th>\n",
       "      <th>resolution_description</th>\n",
       "      <th>status</th>\n",
       "      <th>street_name</th>\n",
       "      <th>taxi_pick_up_location</th>\n",
       "      <th>unique_key</th>\n",
       "      <th>x_coordinate_state_plane</th>\n",
       "      <th>y_coordinate_state_plane</th>\n",
       "    </tr>\n",
       "  </thead>\n",
       "  <tbody>\n",
       "    <tr>\n",
       "      <th>0</th>\n",
       "      <td>INTERSECTION</td>\n",
       "      <td>DOT</td>\n",
       "      <td>Department of Transportation</td>\n",
       "      <td>NaN</td>\n",
       "      <td>QUEENS</td>\n",
       "      <td>GLEN OAKS</td>\n",
       "      <td>NaN</td>\n",
       "      <td>13 QUEENS</td>\n",
       "      <td>Street Condition</td>\n",
       "      <td>2019-05-11T12:28:27.000</td>\n",
       "      <td>...</td>\n",
       "      <td>QUEENS</td>\n",
       "      <td>Unspecified</td>\n",
       "      <td>2019-05-13T16:32:56.000</td>\n",
       "      <td>The Department of Transportation will inspect ...</td>\n",
       "      <td>Assigned</td>\n",
       "      <td>NaN</td>\n",
       "      <td>NaN</td>\n",
       "      <td>42649512</td>\n",
       "      <td>1064048</td>\n",
       "      <td>210710</td>\n",
       "    </tr>\n",
       "    <tr>\n",
       "      <th>1</th>\n",
       "      <td>ADDRESS</td>\n",
       "      <td>DPR</td>\n",
       "      <td>Department of Parks and Recreation</td>\n",
       "      <td>4087710037</td>\n",
       "      <td>QUEENS</td>\n",
       "      <td>GLEN OAKS</td>\n",
       "      <td>NaN</td>\n",
       "      <td>13 QUEENS</td>\n",
       "      <td>Damaged Tree</td>\n",
       "      <td>2019-05-11T11:54:50.000</td>\n",
       "      <td>...</td>\n",
       "      <td>QUEENS</td>\n",
       "      <td>Unspecified</td>\n",
       "      <td>2019-05-13T16:00:12.000</td>\n",
       "      <td>The Department of Parks and Recreation has ins...</td>\n",
       "      <td>Assigned</td>\n",
       "      <td>260 STREET</td>\n",
       "      <td>NaN</td>\n",
       "      <td>42646495</td>\n",
       "      <td>1064925</td>\n",
       "      <td>208582</td>\n",
       "    </tr>\n",
       "    <tr>\n",
       "      <th>2</th>\n",
       "      <td>ADDRESS</td>\n",
       "      <td>DPR</td>\n",
       "      <td>Department of Parks and Recreation</td>\n",
       "      <td>4087340057</td>\n",
       "      <td>QUEENS</td>\n",
       "      <td>GLEN OAKS</td>\n",
       "      <td>2019-05-13T16:00:18.000</td>\n",
       "      <td>13 QUEENS</td>\n",
       "      <td>Dead/Dying Tree</td>\n",
       "      <td>2019-05-11T09:35:40.000</td>\n",
       "      <td>...</td>\n",
       "      <td>QUEENS</td>\n",
       "      <td>Unspecified</td>\n",
       "      <td>2019-05-13T16:00:18.000</td>\n",
       "      <td>The Department of Parks and Recreation visited...</td>\n",
       "      <td>Closed</td>\n",
       "      <td>260 STREET</td>\n",
       "      <td>NaN</td>\n",
       "      <td>42644569</td>\n",
       "      <td>1064576</td>\n",
       "      <td>209801</td>\n",
       "    </tr>\n",
       "    <tr>\n",
       "      <th>3</th>\n",
       "      <td>INTERSECTION</td>\n",
       "      <td>DOT</td>\n",
       "      <td>Department of Transportation</td>\n",
       "      <td>NaN</td>\n",
       "      <td>QUEENS</td>\n",
       "      <td>GLEN OAKS</td>\n",
       "      <td>NaN</td>\n",
       "      <td>13 QUEENS</td>\n",
       "      <td>Street Condition</td>\n",
       "      <td>2019-05-09T11:15:25.000</td>\n",
       "      <td>...</td>\n",
       "      <td>QUEENS</td>\n",
       "      <td>Unspecified</td>\n",
       "      <td>2019-05-13T10:28:58.000</td>\n",
       "      <td>The Department of Transportation inspected the...</td>\n",
       "      <td>Assigned</td>\n",
       "      <td>NaN</td>\n",
       "      <td>NaN</td>\n",
       "      <td>42629285</td>\n",
       "      <td>1061862</td>\n",
       "      <td>212416</td>\n",
       "    </tr>\n",
       "    <tr>\n",
       "      <th>4</th>\n",
       "      <td>ADDRESS</td>\n",
       "      <td>DPR</td>\n",
       "      <td>Department of Parks and Recreation</td>\n",
       "      <td>4086840051</td>\n",
       "      <td>QUEENS</td>\n",
       "      <td>GLEN OAKS</td>\n",
       "      <td>2019-05-13T17:00:38.000</td>\n",
       "      <td>13 QUEENS</td>\n",
       "      <td>Root/Sewer/Sidewalk Condition</td>\n",
       "      <td>2019-05-09T07:51:15.000</td>\n",
       "      <td>...</td>\n",
       "      <td>QUEENS</td>\n",
       "      <td>Unspecified</td>\n",
       "      <td>2019-05-13T17:00:39.000</td>\n",
       "      <td>The Department of Parks and Recreation inspect...</td>\n",
       "      <td>Closed</td>\n",
       "      <td>267 STREET</td>\n",
       "      <td>NaN</td>\n",
       "      <td>42627253</td>\n",
       "      <td>1065766</td>\n",
       "      <td>212363</td>\n",
       "    </tr>\n",
       "  </tbody>\n",
       "</table>\n",
       "<p>5 rows × 34 columns</p>\n",
       "</div>"
      ],
      "text/plain": [
       "   address_type agency                         agency_name         bbl  \\\n",
       "0  INTERSECTION    DOT        Department of Transportation         NaN   \n",
       "1       ADDRESS    DPR  Department of Parks and Recreation  4087710037   \n",
       "2       ADDRESS    DPR  Department of Parks and Recreation  4087340057   \n",
       "3  INTERSECTION    DOT        Department of Transportation         NaN   \n",
       "4       ADDRESS    DPR  Department of Parks and Recreation  4086840051   \n",
       "\n",
       "  borough       city              closed_date community_board  \\\n",
       "0  QUEENS  GLEN OAKS                      NaN       13 QUEENS   \n",
       "1  QUEENS  GLEN OAKS                      NaN       13 QUEENS   \n",
       "2  QUEENS  GLEN OAKS  2019-05-13T16:00:18.000       13 QUEENS   \n",
       "3  QUEENS  GLEN OAKS                      NaN       13 QUEENS   \n",
       "4  QUEENS  GLEN OAKS  2019-05-13T17:00:38.000       13 QUEENS   \n",
       "\n",
       "                  complaint_type             created_date  \\\n",
       "0               Street Condition  2019-05-11T12:28:27.000   \n",
       "1                   Damaged Tree  2019-05-11T11:54:50.000   \n",
       "2                Dead/Dying Tree  2019-05-11T09:35:40.000   \n",
       "3               Street Condition  2019-05-09T11:15:25.000   \n",
       "4  Root/Sewer/Sidewalk Condition  2019-05-09T07:51:15.000   \n",
       "\n",
       "            ...            park_borough park_facility_name  \\\n",
       "0           ...                  QUEENS        Unspecified   \n",
       "1           ...                  QUEENS        Unspecified   \n",
       "2           ...                  QUEENS        Unspecified   \n",
       "3           ...                  QUEENS        Unspecified   \n",
       "4           ...                  QUEENS        Unspecified   \n",
       "\n",
       "  resolution_action_updated_date  \\\n",
       "0        2019-05-13T16:32:56.000   \n",
       "1        2019-05-13T16:00:12.000   \n",
       "2        2019-05-13T16:00:18.000   \n",
       "3        2019-05-13T10:28:58.000   \n",
       "4        2019-05-13T17:00:39.000   \n",
       "\n",
       "                              resolution_description    status street_name  \\\n",
       "0  The Department of Transportation will inspect ...  Assigned         NaN   \n",
       "1  The Department of Parks and Recreation has ins...  Assigned  260 STREET   \n",
       "2  The Department of Parks and Recreation visited...    Closed  260 STREET   \n",
       "3  The Department of Transportation inspected the...  Assigned         NaN   \n",
       "4  The Department of Parks and Recreation inspect...    Closed  267 STREET   \n",
       "\n",
       "  taxi_pick_up_location unique_key x_coordinate_state_plane  \\\n",
       "0                   NaN   42649512                  1064048   \n",
       "1                   NaN   42646495                  1064925   \n",
       "2                   NaN   42644569                  1064576   \n",
       "3                   NaN   42629285                  1061862   \n",
       "4                   NaN   42627253                  1065766   \n",
       "\n",
       "  y_coordinate_state_plane  \n",
       "0                   210710  \n",
       "1                   208582  \n",
       "2                   209801  \n",
       "3                   212416  \n",
       "4                   212363  \n",
       "\n",
       "[5 rows x 34 columns]"
      ]
     },
     "execution_count": 34,
     "metadata": {},
     "output_type": "execute_result"
    }
   ],
   "source": [
    "df_2 = pd.DataFrame(data)\n",
    "\n",
    "print(len(df_2))\n",
    "print(df_2.columns)\n",
    "df_2.head()"
   ]
  },
  {
   "cell_type": "markdown",
   "metadata": {
    "slideshow": {
     "slide_type": "slide"
    }
   },
   "source": [
    "## Create a Histogram of the Complaint Types From Your Dataset"
   ]
  },
  {
   "cell_type": "code",
   "execution_count": 35,
   "metadata": {
    "ExecuteTime": {
     "end_time": "2019-05-15T19:17:12.482466Z",
     "start_time": "2019-05-15T19:17:12.474691Z"
    },
    "slideshow": {
     "slide_type": "fragment"
    }
   },
   "outputs": [],
   "source": [
    "import matplotlib.pyplot as plt\n",
    "%matplotlib inline"
   ]
  },
  {
   "cell_type": "code",
   "execution_count": 36,
   "metadata": {
    "ExecuteTime": {
     "end_time": "2019-05-15T19:17:14.520504Z",
     "start_time": "2019-05-15T19:17:12.865414Z"
    },
    "scrolled": true,
    "slideshow": {
     "slide_type": "fragment"
    }
   },
   "outputs": [
    {
     "data": {
      "text/plain": [
       "<matplotlib.axes._subplots.AxesSubplot at 0x114e1a550>"
      ]
     },
     "execution_count": 36,
     "metadata": {},
     "output_type": "execute_result"
    },
    {
     "data": {
      "image/png": "[encoded data removed]",
      "text/plain": [
       "<Figure size 576x864 with 1 Axes>"
      ]
     },
     "metadata": {
      "needs_background": "light"
     },
     "output_type": "display_data"
    }
   ],
   "source": [
    "df_2.complaint_type.value_counts().plot(kind='barh', figsize=(8,12))"
   ]
  },
  {
   "cell_type": "markdown",
   "metadata": {
    "slideshow": {
     "slide_type": "slide"
    }
   },
   "source": [
    "## If we have time:\n",
    "\n",
    "https://github.com/toddmotto/public-apis\n",
    "\n",
    "\n",
    "find a buddy, find a free api, get the key, and do a get. Try to transform the response into a df."
   ]
  },
  {
   "cell_type": "code",
   "execution_count": null,
   "metadata": {},
   "outputs": [],
   "source": []
  }
 ],
 "metadata": {
  "kernelspec": {
   "display_name": "Python 3",
   "language": "python",
   "name": "python3"
  },
  "language_info": {
   "codemirror_mode": {
    "name": "ipython",
    "version": 3
   },
   "file_extension": ".py",
   "mimetype": "text/x-python",
   "name": "python",
   "nbconvert_exporter": "python",
   "pygments_lexer": "ipython3",
   "version": "3.7.1"
  },
  "toc": {
   "base_numbering": 1,
   "nav_menu": {},
   "number_sections": true,
   "sideBar": true,
   "skip_h1_title": false,
   "title_cell": "Table of Contents",
   "title_sidebar": "Contents",
   "toc_cell": false,
   "toc_position": {},
   "toc_section_display": true,
   "toc_window_display": true
  },
  "varInspector": {
   "cols": {
    "lenName": 16,
    "lenType": 16,
    "lenVar": 40
   },
   "kernels_config": {
    "python": {
     "delete_cmd_postfix": "",
     "delete_cmd_prefix": "del ",
     "library": "var_list.py",
     "varRefreshCmd": "print(var_dic_list())"
    },
    "r": {
     "delete_cmd_postfix": ") ",
     "delete_cmd_prefix": "rm(",
     "library": "var_list.r",
     "varRefreshCmd": "cat(var_dic_list()) "
    }
   },
   "types_to_exclude": [
    "module",
    "function",
    "builtin_function_or_method",
    "instance",
    "_Feature"
   ],
   "window_display": false
  }
 },
 "nbformat": 4,
 "nbformat_minor": 2
}

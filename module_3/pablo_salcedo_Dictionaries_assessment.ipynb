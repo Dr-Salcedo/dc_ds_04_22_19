{
 "cells": [
  {
   "cell_type": "markdown",
   "metadata": {},
   "source": [
    "# Dictionaries check in"
   ]
  },
  {
   "cell_type": "markdown",
   "metadata": {},
   "source": [
    "### Import packages"
   ]
  },
  {
   "cell_type": "markdown",
   "metadata": {},
   "source": [
    "dictionary.keys()\n"
   ]
  },
  {
   "cell_type": "code",
   "execution_count": 6,
   "metadata": {
    "ExecuteTime": {
     "end_time": "2019-06-13T19:46:41.293154Z",
     "start_time": "2019-06-13T19:46:40.374823Z"
    }
   },
   "outputs": [],
   "source": [
    "import requests\n",
    "import pandas as pd"
   ]
  },
  {
   "cell_type": "markdown",
   "metadata": {},
   "source": [
    "### API call - we will use google books to query for a Harry Potter book "
   ]
  },
  {
   "cell_type": "code",
   "execution_count": 7,
   "metadata": {
    "ExecuteTime": {
     "end_time": "2019-06-13T19:46:41.595057Z",
     "start_time": "2019-06-13T19:46:41.307790Z"
    }
   },
   "outputs": [],
   "source": [
    "response = requests.get('https://www.googleapis.com/books/v1/volumes?q=isbn:0747532699')"
   ]
  },
  {
   "cell_type": "code",
   "execution_count": 8,
   "metadata": {
    "ExecuteTime": {
     "end_time": "2019-06-13T19:46:41.617397Z",
     "start_time": "2019-06-13T19:46:41.610682Z"
    }
   },
   "outputs": [],
   "source": [
    "harry_dict = response.json()"
   ]
  },
  {
   "cell_type": "code",
   "execution_count": 9,
   "metadata": {
    "ExecuteTime": {
     "end_time": "2019-06-13T19:46:41.779946Z",
     "start_time": "2019-06-13T19:46:41.767285Z"
    }
   },
   "outputs": [],
   "source": [
    "df=pd.DataFrame(harry_dict)"
   ]
  },
  {
   "cell_type": "code",
   "execution_count": 10,
   "metadata": {
    "ExecuteTime": {
     "end_time": "2019-06-13T19:46:42.053372Z",
     "start_time": "2019-06-13T19:46:42.038921Z"
    }
   },
   "outputs": [
    {
     "data": {
      "text/plain": [
       "Index(['kind', 'totalItems', 'items'], dtype='object')"
      ]
     },
     "execution_count": 10,
     "metadata": {},
     "output_type": "execute_result"
    }
   ],
   "source": [
    "df.keys()"
   ]
  },
  {
   "cell_type": "code",
   "execution_count": 11,
   "metadata": {
    "ExecuteTime": {
     "end_time": "2019-06-13T19:46:42.315847Z",
     "start_time": "2019-06-13T19:46:42.308640Z"
    }
   },
   "outputs": [
    {
     "data": {
      "text/plain": [
       "dict_keys(['title', 'authors', 'publisher', 'publishedDate', 'description', 'industryIdentifiers', 'readingModes', 'pageCount', 'printType', 'categories', 'averageRating', 'ratingsCount', 'maturityRating', 'allowAnonLogging', 'contentVersion', 'imageLinks', 'language', 'previewLink', 'infoLink', 'canonicalVolumeLink'])"
      ]
     },
     "execution_count": 11,
     "metadata": {},
     "output_type": "execute_result"
    }
   ],
   "source": [
    "df[\"items\"][0][\"volumeInfo\"].keys()"
   ]
  },
  {
   "cell_type": "code",
   "execution_count": 12,
   "metadata": {
    "ExecuteTime": {
     "end_time": "2019-06-13T19:46:42.587723Z",
     "start_time": "2019-06-13T19:46:42.580217Z"
    }
   },
   "outputs": [
    {
     "data": {
      "text/plain": [
       "dict_keys(['title', 'authors', 'publisher', 'publishedDate', 'description', 'industryIdentifiers', 'readingModes', 'pageCount', 'printType', 'categories', 'averageRating', 'ratingsCount', 'maturityRating', 'allowAnonLogging', 'contentVersion', 'imageLinks', 'language', 'previewLink', 'infoLink', 'canonicalVolumeLink'])"
      ]
     },
     "execution_count": 12,
     "metadata": {},
     "output_type": "execute_result"
    }
   ],
   "source": [
    "df[\"items\"][0][\"volumeInfo\"].keys()"
   ]
  },
  {
   "cell_type": "code",
   "execution_count": 13,
   "metadata": {
    "ExecuteTime": {
     "end_time": "2019-06-13T19:46:42.920332Z",
     "start_time": "2019-06-13T19:46:42.912400Z"
    }
   },
   "outputs": [
    {
     "data": {
      "text/plain": [
       "{'title': \"Harry Potter 1 and the Philosopher's Stone\",\n",
       " 'authors': ['J. K. Rowling'],\n",
       " 'publisher': 'Bloomsbury Pub Limited',\n",
       " 'publishedDate': '1997',\n",
       " 'description': \"Harry Potter is an ordinary boy who lives in a cupboard under the stairs at his Aunt Petunia and Uncle Vernon's house, which he thinks is normal for someone like him who's parents have been killed in a 'car crash'. He is bullied by them and his fat, spoilt cousin Dudley, and lives a very unremarkable life with only the odd hiccup (like his hair growing back overnight!) to cause him much to think about. That is until an owl turns up with a letter addressed to Harry and all hell breaks loose! He is literally rescued by a world where nothing is as it seems and magic lessons are the order of the day. Read and find out how Harry discovers his true heritage at Hogwarts School of Wizardry and Witchcraft, the reason behind his parents mysterious death, who is out to kill him, and how he uncovers the most amazing secret of all time, the fabled Philosopher's Stone! All this and muggles too. Now, what are they?\",\n",
       " 'industryIdentifiers': [{'type': 'ISBN_10', 'identifier': '0747532699'},\n",
       "  {'type': 'ISBN_13', 'identifier': '9780747532699'}],\n",
       " 'readingModes': {'text': False, 'image': False},\n",
       " 'pageCount': 223,\n",
       " 'printType': 'BOOK',\n",
       " 'categories': ['Juvenile Fiction'],\n",
       " 'averageRating': 4.5,\n",
       " 'ratingsCount': 19,\n",
       " 'maturityRating': 'NOT_MATURE',\n",
       " 'allowAnonLogging': False,\n",
       " 'contentVersion': 'preview-1.0.0',\n",
       " 'imageLinks': {'smallThumbnail': 'http://books.google.com/books/content?id=yZ1APgAACAAJ&printsec=frontcover&img=1&zoom=5&source=gbs_api',\n",
       "  'thumbnail': 'http://books.google.com/books/content?id=yZ1APgAACAAJ&printsec=frontcover&img=1&zoom=1&source=gbs_api'},\n",
       " 'language': 'en',\n",
       " 'previewLink': 'http://books.google.com/books?id=yZ1APgAACAAJ&dq=isbn:0747532699&hl=&cd=1&source=gbs_api',\n",
       " 'infoLink': 'http://books.google.com/books?id=yZ1APgAACAAJ&dq=isbn:0747532699&hl=&source=gbs_api',\n",
       " 'canonicalVolumeLink': 'https://books.google.com/books/about/Harry_Potter_1_and_the_Philosopher_s_Sto.html?hl=&id=yZ1APgAACAAJ'}"
      ]
     },
     "execution_count": 13,
     "metadata": {},
     "output_type": "execute_result"
    }
   ],
   "source": [
    "items=df[\"items\"]\n",
    "volumeInfo=items[0][\"volumeInfo\"]\n",
    "volumeInfo"
   ]
  },
  {
   "cell_type": "code",
   "execution_count": 14,
   "metadata": {
    "ExecuteTime": {
     "end_time": "2019-06-13T19:46:43.215600Z",
     "start_time": "2019-06-13T19:46:43.210287Z"
    }
   },
   "outputs": [],
   "source": [
    "df[\"items\"][0][\"volumeInfo\"][\"authors\"]=['J. K. Rowling', \"Pablo Salcedo\"]"
   ]
  },
  {
   "cell_type": "code",
   "execution_count": 15,
   "metadata": {
    "ExecuteTime": {
     "end_time": "2019-06-13T19:46:43.679202Z",
     "start_time": "2019-06-13T19:46:43.672376Z"
    }
   },
   "outputs": [
    {
     "data": {
      "text/plain": [
       "['J. K. Rowling', 'Pablo Salcedo']"
      ]
     },
     "execution_count": 15,
     "metadata": {},
     "output_type": "execute_result"
    }
   ],
   "source": [
    "df[\"items\"][0][\"volumeInfo\"][\"authors\"]"
   ]
  },
  {
   "cell_type": "code",
   "execution_count": 16,
   "metadata": {
    "ExecuteTime": {
     "end_time": "2019-06-13T19:46:44.279422Z",
     "start_time": "2019-06-13T19:46:44.273435Z"
    }
   },
   "outputs": [
    {
     "name": "stdout",
     "output_type": "stream",
     "text": [
      "{'kind': 'books#volume', 'id': 'yZ1APgAACAAJ', 'etag': 'Wd66FTmnj2I', 'selfLink': 'https://www.googleapis.com/books/v1/volumes/yZ1APgAACAAJ', 'volumeInfo': {'title': \"Harry Potter 1 and the Philosopher's Stone\", 'authors': ['J. K. Rowling', 'Pablo Salcedo'], 'publisher': 'Bloomsbury Pub Limited', 'publishedDate': '1997', 'description': \"Harry Potter is an ordinary boy who lives in a cupboard under the stairs at his Aunt Petunia and Uncle Vernon's house, which he thinks is normal for someone like him who's parents have been killed in a 'car crash'. He is bullied by them and his fat, spoilt cousin Dudley, and lives a very unremarkable life with only the odd hiccup (like his hair growing back overnight!) to cause him much to think about. That is until an owl turns up with a letter addressed to Harry and all hell breaks loose! He is literally rescued by a world where nothing is as it seems and magic lessons are the order of the day. Read and find out how Harry discovers his true heritage at Hogwarts School of Wizardry and Witchcraft, the reason behind his parents mysterious death, who is out to kill him, and how he uncovers the most amazing secret of all time, the fabled Philosopher's Stone! All this and muggles too. Now, what are they?\", 'industryIdentifiers': [{'type': 'ISBN_10', 'identifier': '0747532699'}, {'type': 'ISBN_13', 'identifier': '9780747532699'}], 'readingModes': {'text': False, 'image': False}, 'pageCount': 223, 'printType': 'BOOK', 'categories': ['Juvenile Fiction'], 'averageRating': 4.5, 'ratingsCount': 19, 'maturityRating': 'NOT_MATURE', 'allowAnonLogging': False, 'contentVersion': 'preview-1.0.0', 'imageLinks': {'smallThumbnail': 'http://books.google.com/books/content?id=yZ1APgAACAAJ&printsec=frontcover&img=1&zoom=5&source=gbs_api', 'thumbnail': 'http://books.google.com/books/content?id=yZ1APgAACAAJ&printsec=frontcover&img=1&zoom=1&source=gbs_api'}, 'language': 'en', 'previewLink': 'http://books.google.com/books?id=yZ1APgAACAAJ&dq=isbn:0747532699&hl=&cd=1&source=gbs_api', 'infoLink': 'http://books.google.com/books?id=yZ1APgAACAAJ&dq=isbn:0747532699&hl=&source=gbs_api', 'canonicalVolumeLink': 'https://books.google.com/books/about/Harry_Potter_1_and_the_Philosopher_s_Sto.html?hl=&id=yZ1APgAACAAJ'}, 'saleInfo': {'country': 'US', 'saleability': 'NOT_FOR_SALE', 'isEbook': False}, 'accessInfo': {'country': 'US', 'viewability': 'NO_PAGES', 'embeddable': False, 'publicDomain': False, 'textToSpeechPermission': 'ALLOWED', 'epub': {'isAvailable': False}, 'pdf': {'isAvailable': False}, 'webReaderLink': 'http://play.google.com/books/reader?id=yZ1APgAACAAJ&hl=&printsec=frontcover&source=gbs_api', 'accessViewStatus': 'NONE', 'quoteSharingAllowed': False}, 'searchInfo': {'textSnippet': 'Harry Potter is an ordinary boy who lives in a cupboard under the stairs at his Aunt Petunia and Uncle Vernon&#39;s house, which he thinks is normal for someone like him who&#39;s parents have been killed in a &#39;car crash&#39;.'}}\n"
     ]
    }
   ],
   "source": [
    "for x in df[\"items\"]:\n",
    "    print(x)"
   ]
  },
  {
   "cell_type": "markdown",
   "metadata": {},
   "source": [
    "### Questions:"
   ]
  },
  {
   "cell_type": "markdown",
   "metadata": {},
   "source": [
    "1. Add yourself to the authors list"
   ]
  },
  {
   "cell_type": "markdown",
   "metadata": {},
   "source": [
    "2. Access the description key and replace all mentions of the name Harry Potter with Barry Manilow"
   ]
  },
  {
   "cell_type": "code",
   "execution_count": 17,
   "metadata": {
    "ExecuteTime": {
     "end_time": "2019-06-13T19:46:45.609369Z",
     "start_time": "2019-06-13T19:46:45.603702Z"
    }
   },
   "outputs": [],
   "source": [
    "for name in df[\"items\"][0][\"volumeInfo\"][\"description\"]:\n",
    "    if name== \"Harry Potter\":\n",
    "        name==\"Barry Manilow\"\n",
    "        print(name)\n",
    "\n",
    "        "
   ]
  },
  {
   "cell_type": "code",
   "execution_count": 18,
   "metadata": {
    "ExecuteTime": {
     "end_time": "2019-06-13T19:46:46.643953Z",
     "start_time": "2019-06-13T19:46:45.919232Z"
    }
   },
   "outputs": [
    {
     "ename": "AttributeError",
     "evalue": "'str' object has no attribute 'items'",
     "output_type": "error",
     "traceback": [
      "\u001b[0;31m---------------------------------------------------------------------------\u001b[0m",
      "\u001b[0;31mAttributeError\u001b[0m                            Traceback (most recent call last)",
      "\u001b[0;32m<ipython-input-18-ffbaa7edecfb>\u001b[0m in \u001b[0;36m<module>\u001b[0;34m\u001b[0m\n\u001b[0;32m----> 1\u001b[0;31m \u001b[0;32mfor\u001b[0m \u001b[0mkey\u001b[0m\u001b[0;34m,\u001b[0m \u001b[0mvalue\u001b[0m \u001b[0;32min\u001b[0m \u001b[0mdf\u001b[0m\u001b[0;34m[\u001b[0m\u001b[0;34m\"items\"\u001b[0m\u001b[0;34m]\u001b[0m\u001b[0;34m[\u001b[0m\u001b[0;36m0\u001b[0m\u001b[0;34m]\u001b[0m\u001b[0;34m[\u001b[0m\u001b[0;34m\"volumeInfo\"\u001b[0m\u001b[0;34m]\u001b[0m\u001b[0;34m[\u001b[0m\u001b[0;34m\"description\"\u001b[0m\u001b[0;34m]\u001b[0m\u001b[0;34m.\u001b[0m\u001b[0mitems\u001b[0m\u001b[0;34m(\u001b[0m\u001b[0;34m)\u001b[0m\u001b[0;34m:\u001b[0m\u001b[0;34m\u001b[0m\u001b[0;34m\u001b[0m\u001b[0m\n\u001b[0m\u001b[1;32m      2\u001b[0m     \u001b[0;31m# do something with value\u001b[0m\u001b[0;34m\u001b[0m\u001b[0;34m\u001b[0m\u001b[0;34m\u001b[0m\u001b[0m\n\u001b[1;32m      3\u001b[0m     \u001b[0minputdict\u001b[0m\u001b[0;34m[\u001b[0m\u001b[0mkey\u001b[0m\u001b[0;34m]\u001b[0m \u001b[0;34m=\u001b[0m \u001b[0mnewvalue\u001b[0m\u001b[0;34m\u001b[0m\u001b[0;34m\u001b[0m\u001b[0m\n",
      "\u001b[0;31mAttributeError\u001b[0m: 'str' object has no attribute 'items'"
     ]
    }
   ],
   "source": [
    "for key, value in df[\"items\"][0][\"volumeInfo\"][\"description\"].items():\n",
    "    # do something with value\n",
    "    inputdict[key] = newvalue"
   ]
  },
  {
   "cell_type": "code",
   "execution_count": null,
   "metadata": {
    "ExecuteTime": {
     "end_time": "2019-06-13T19:46:46.650410Z",
     "start_time": "2019-06-13T19:46:46.193Z"
    }
   },
   "outputs": [],
   "source": [
    "print(harry_dict['description'])"
   ]
  },
  {
   "cell_type": "markdown",
   "metadata": {},
   "source": [
    "3. Print the industryIdentifiers in the following way:\n",
    "\n",
    "```\n",
    "     \"The type is ISBN 10 with crazy identifier: 0747532699. The second type is ISBN 13 with even longer identifier: 9780747532699\" \n",
    "   ```\n",
    "   \n",
    "Do this by indexing into the dictionary, don't just copy and paste the number"
   ]
  },
  {
   "cell_type": "code",
   "execution_count": null,
   "metadata": {
    "ExecuteTime": {
     "end_time": "2019-06-13T14:03:06.398992Z",
     "start_time": "2019-06-13T14:03:06.366366Z"
    }
   },
   "outputs": [],
   "source": []
  },
  {
   "cell_type": "markdown",
   "metadata": {},
   "source": [
    "4. Wrap it all in a function that can do the same steps (1-3) to any book with a similar Json file. \n",
    "\n",
    "Use the following parameters: dictionary, name_of_author (your name), name_to_replace (e.g. Harry Potter), replacement_name (e.g Barry Manilow)\n",
    "\n",
    "Return the dictionary with the added author name and with Harry Potter replaced. You only need to print out the ISBN numbers the same way as before (don't worry about returning them)"
   ]
  },
  {
   "cell_type": "code",
   "execution_count": 19,
   "metadata": {
    "ExecuteTime": {
     "end_time": "2019-06-13T19:46:47.961890Z",
     "start_time": "2019-06-13T19:46:47.953996Z"
    },
    "scrolled": true
   },
   "outputs": [
    {
     "data": {
      "text/plain": [
       "list"
      ]
     },
     "execution_count": 19,
     "metadata": {},
     "output_type": "execute_result"
    }
   ],
   "source": [
    "industryIdentifiers=df[\"items\"][0][\"volumeInfo\"][\"industryIdentifiers\"]\n",
    "type(industryIdentifiers)"
   ]
  },
  {
   "cell_type": "code",
   "execution_count": 20,
   "metadata": {
    "ExecuteTime": {
     "end_time": "2019-06-13T19:46:48.268736Z",
     "start_time": "2019-06-13T19:46:48.261551Z"
    }
   },
   "outputs": [
    {
     "data": {
      "text/plain": [
       "'ISBN_10'"
      ]
     },
     "execution_count": 20,
     "metadata": {},
     "output_type": "execute_result"
    }
   ],
   "source": [
    "type_10=industryIdentifiers[0][\"type\"]\n",
    "type_10"
   ]
  },
  {
   "cell_type": "code",
   "execution_count": 21,
   "metadata": {
    "ExecuteTime": {
     "end_time": "2019-06-13T19:46:48.697802Z",
     "start_time": "2019-06-13T19:46:48.693015Z"
    }
   },
   "outputs": [],
   "source": [
    "type_13=industryIdentifiers[1][\"type\"]"
   ]
  },
  {
   "cell_type": "code",
   "execution_count": 22,
   "metadata": {
    "ExecuteTime": {
     "end_time": "2019-06-13T19:46:49.007568Z",
     "start_time": "2019-06-13T19:46:49.002876Z"
    }
   },
   "outputs": [],
   "source": [
    "identifier_10=industryIdentifiers[0][\"identifier\"]\n",
    "identifier_13=industryIdentifiers[1][\"identifier\"]"
   ]
  },
  {
   "cell_type": "code",
   "execution_count": 23,
   "metadata": {
    "ExecuteTime": {
     "end_time": "2019-06-13T19:46:49.271022Z",
     "start_time": "2019-06-13T19:46:49.263779Z"
    }
   },
   "outputs": [
    {
     "name": "stdout",
     "output_type": "stream",
     "text": [
      "The type is type_10 with crazy identifier: identifier_10. The second type is type_13 with even longer identifier: identifier_13\n"
     ]
    }
   ],
   "source": [
    "print(\"The type is type_10 with crazy identifier: identifier_10. The second type is type_13 with even longer identifier: identifier_13\" )"
   ]
  },
  {
   "cell_type": "markdown",
   "metadata": {},
   "source": [
    "[Stretch]\n",
    "5. Create a data frame with the following columns: author, id, publisher, title.\n",
    "Insert to the data frame multiple rows (one for each author). \n",
    "\n",
    "You are supposed to have multiple rows since you added yourself as an author. Insert to the other columns the appropriate data from the harry_dict dictionary."
   ]
  },
  {
   "cell_type": "code",
   "execution_count": 32,
   "metadata": {
    "ExecuteTime": {
     "end_time": "2019-06-13T19:47:39.274048Z",
     "start_time": "2019-06-13T19:47:39.269643Z"
    }
   },
   "outputs": [],
   "source": [
    "listo = [\"J. K. Rowling\", \"Pablo\"]\n",
    "des=\"Potter is here\"\n",
    "# list_of_identifiers=df[\"items\"][0][\"volumeInfo\"]"
   ]
  },
  {
   "cell_type": "code",
   "execution_count": 33,
   "metadata": {
    "ExecuteTime": {
     "end_time": "2019-06-13T19:47:39.769512Z",
     "start_time": "2019-06-13T19:47:39.764349Z"
    }
   },
   "outputs": [],
   "source": [
    "def add_author_to_list(listo, author_name_to_add):\n",
    "    return listo.append(author_name_to_add) \n",
    "    \n",
    "def change_des_string(des, character_to_replace, replace_by):\n",
    "    return des.replace(character_to_replace, replace_by)"
   ]
  },
  {
   "cell_type": "code",
   "execution_count": 34,
   "metadata": {
    "ExecuteTime": {
     "end_time": "2019-06-13T19:47:40.210246Z",
     "start_time": "2019-06-13T19:47:40.205597Z"
    }
   },
   "outputs": [],
   "source": [
    "def change_vol_info(author_name_to_add, character_to_replace, replace_by):\n",
    "    #func 1 =add author\n",
    "    #func 2 = change description\n",
    "    \n",
    "    return  add_author_to_list(listo, author_name_to_add), change_des_string(des, character_to_replace, replace_by)          "
   ]
  },
  {
   "cell_type": "code",
   "execution_count": 35,
   "metadata": {
    "ExecuteTime": {
     "end_time": "2019-06-13T19:47:40.699654Z",
     "start_time": "2019-06-13T19:47:40.692459Z"
    }
   },
   "outputs": [
    {
     "data": {
      "text/plain": [
       "(None, 'Manisha is here')"
      ]
     },
     "execution_count": 35,
     "metadata": {},
     "output_type": "execute_result"
    }
   ],
   "source": [
    "change_vol_info(\"Filis\", \"Potter\", \"Manisha\")"
   ]
  },
  {
   "cell_type": "code",
   "execution_count": 36,
   "metadata": {
    "ExecuteTime": {
     "end_time": "2019-06-13T19:47:41.958062Z",
     "start_time": "2019-06-13T19:47:41.952258Z"
    }
   },
   "outputs": [
    {
     "name": "stdout",
     "output_type": "stream",
     "text": [
      "None\n"
     ]
    }
   ],
   "source": [
    "print(x)"
   ]
  },
  {
   "cell_type": "code",
   "execution_count": null,
   "metadata": {
    "ExecuteTime": {
     "end_time": "2019-06-13T15:03:25.509348Z",
     "start_time": "2019-06-13T15:03:25.502148Z"
    }
   },
   "outputs": [],
   "source": []
  },
  {
   "cell_type": "code",
   "execution_count": 298,
   "metadata": {
    "ExecuteTime": {
     "end_time": "2019-06-13T15:11:19.851922Z",
     "start_time": "2019-06-13T15:11:19.847367Z"
    }
   },
   "outputs": [],
   "source": [
    "mood=[\"confused\"]"
   ]
  },
  {
   "cell_type": "code",
   "execution_count": 299,
   "metadata": {
    "ExecuteTime": {
     "end_time": "2019-06-13T15:11:20.354680Z",
     "start_time": "2019-06-13T15:11:20.349930Z"
    }
   },
   "outputs": [],
   "source": [
    "def change_mood(emotion):\n",
    "    mood.append(emotion)\n",
    "    print(mood)\n",
    "    return mood\n",
    "    "
   ]
  },
  {
   "cell_type": "code",
   "execution_count": 300,
   "metadata": {
    "ExecuteTime": {
     "end_time": "2019-06-13T15:11:21.052510Z",
     "start_time": "2019-06-13T15:11:21.044385Z"
    }
   },
   "outputs": [
    {
     "name": "stdout",
     "output_type": "stream",
     "text": [
      "['confused', 'sad']\n"
     ]
    },
    {
     "data": {
      "text/plain": [
       "['confused', 'sad']"
      ]
     },
     "execution_count": 300,
     "metadata": {},
     "output_type": "execute_result"
    }
   ],
   "source": [
    "change_mood(\"sad\")"
   ]
  },
  {
   "cell_type": "code",
   "execution_count": null,
   "metadata": {},
   "outputs": [],
   "source": []
  },
  {
   "cell_type": "code",
   "execution_count": null,
   "metadata": {},
   "outputs": [],
   "source": []
  }
 ],
 "metadata": {
  "kernelspec": {
   "display_name": "Python 3",
   "language": "python",
   "name": "python3"
  },
  "language_info": {
   "codemirror_mode": {
    "name": "ipython",
    "version": 3
   },
   "file_extension": ".py",
   "mimetype": "text/x-python",
   "name": "python",
   "nbconvert_exporter": "python",
   "pygments_lexer": "ipython3",
   "version": "3.7.1"
  },
  "toc": {
   "base_numbering": 1,
   "nav_menu": {},
   "number_sections": true,
   "sideBar": true,
   "skip_h1_title": false,
   "title_cell": "Table of Contents",
   "title_sidebar": "Contents",
   "toc_cell": false,
   "toc_position": {},
   "toc_section_display": true,
   "toc_window_display": false
  },
  "varInspector": {
   "cols": {
    "lenName": 16,
    "lenType": 16,
    "lenVar": 40
   },
   "kernels_config": {
    "python": {
     "delete_cmd_postfix": "",
     "delete_cmd_prefix": "del ",
     "library": "var_list.py",
     "varRefreshCmd": "print(var_dic_list())"
    },
    "r": {
     "delete_cmd_postfix": ") ",
     "delete_cmd_prefix": "rm(",
     "library": "var_list.r",
     "varRefreshCmd": "cat(var_dic_list()) "
    }
   },
   "types_to_exclude": [
    "module",
    "function",
    "builtin_function_or_method",
    "instance",
    "_Feature"
   ],
   "window_display": false
  }
 },
 "nbformat": 4,
 "nbformat_minor": 2
}

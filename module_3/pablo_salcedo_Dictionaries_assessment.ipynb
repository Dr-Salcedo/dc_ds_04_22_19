{
 "cells": [
  {
   "cell_type": "markdown",
   "metadata": {},
   "source": [
    "# Dictionaries check in"
   ]
  },
  {
   "cell_type": "markdown",
   "metadata": {},
   "source": [
    "### Import packages"
   ]
  },
  {
   "cell_type": "code",
   "execution_count": 59,
   "metadata": {
    "ExecuteTime": {
     "end_time": "2019-06-10T13:39:15.769612Z",
     "start_time": "2019-06-10T13:39:15.042052Z"
    }
   },
   "outputs": [],
   "source": [
    "import requests\n",
    "import pandas as pd"
   ]
  },
  {
   "cell_type": "markdown",
   "metadata": {},
   "source": [
    "### API call - we will use google books to query for a Harry Potter book "
   ]
  },
  {
   "cell_type": "code",
   "execution_count": 60,
   "metadata": {
    "ExecuteTime": {
     "end_time": "2019-06-10T13:39:16.533082Z",
     "start_time": "2019-06-10T13:39:16.301256Z"
    }
   },
   "outputs": [],
   "source": [
    "response = requests.get('https://www.googleapis.com/books/v1/volumes?q=isbn:0747532699')"
   ]
  },
  {
   "cell_type": "code",
   "execution_count": 61,
   "metadata": {
    "ExecuteTime": {
     "end_time": "2019-06-10T13:39:16.752382Z",
     "start_time": "2019-06-10T13:39:16.747156Z"
    }
   },
   "outputs": [],
   "source": [
    "harry_dict = response.json()"
   ]
  },
  {
   "cell_type": "code",
   "execution_count": 63,
   "metadata": {
    "ExecuteTime": {
     "end_time": "2019-06-10T13:39:26.843621Z",
     "start_time": "2019-06-10T13:39:26.821550Z"
    }
   },
   "outputs": [],
   "source": [
    "df=pd.DataFrame(harry_dict)"
   ]
  },
  {
   "cell_type": "code",
   "execution_count": 97,
   "metadata": {
    "ExecuteTime": {
     "end_time": "2019-06-10T13:46:42.062783Z",
     "start_time": "2019-06-10T13:46:42.057549Z"
    }
   },
   "outputs": [],
   "source": [
    "df[\"items\"][0][\"volumeInfo\"][\"authors\"]=['J. K. Rowling', \"Pablo Salcedo\"]"
   ]
  },
  {
   "cell_type": "code",
   "execution_count": 98,
   "metadata": {
    "ExecuteTime": {
     "end_time": "2019-06-10T13:46:50.921443Z",
     "start_time": "2019-06-10T13:46:50.912954Z"
    }
   },
   "outputs": [
    {
     "data": {
      "text/plain": [
       "['J. K. Rowling', 'Pablo Salcedo']"
      ]
     },
     "execution_count": 98,
     "metadata": {},
     "output_type": "execute_result"
    }
   ],
   "source": [
    "df[\"items\"][0][\"volumeInfo\"][\"authors\"]"
   ]
  },
  {
   "cell_type": "code",
   "execution_count": 99,
   "metadata": {
    "ExecuteTime": {
     "end_time": "2019-06-10T13:47:42.616964Z",
     "start_time": "2019-06-10T13:47:42.608732Z"
    }
   },
   "outputs": [
    {
     "name": "stdout",
     "output_type": "stream",
     "text": [
      "{'kind': 'books#volume', 'id': 'yZ1APgAACAAJ', 'etag': 'Wd66FTmnj2I', 'selfLink': 'https://www.googleapis.com/books/v1/volumes/yZ1APgAACAAJ', 'volumeInfo': {'title': \"Harry Potter 1 and the Philosopher's Stone\", 'authors': ['J. K. Rowling', 'Pablo Salcedo'], 'publisher': 'Bloomsbury Pub Limited', 'publishedDate': '1997', 'description': \"Harry Potter is an ordinary boy who lives in a cupboard under the stairs at his Aunt Petunia and Uncle Vernon's house, which he thinks is normal for someone like him who's parents have been killed in a 'car crash'. He is bullied by them and his fat, spoilt cousin Dudley, and lives a very unremarkable life with only the odd hiccup (like his hair growing back overnight!) to cause him much to think about. That is until an owl turns up with a letter addressed to Harry and all hell breaks loose! He is literally rescued by a world where nothing is as it seems and magic lessons are the order of the day. Read and find out how Harry discovers his true heritage at Hogwarts School of Wizardry and Witchcraft, the reason behind his parents mysterious death, who is out to kill him, and how he uncovers the most amazing secret of all time, the fabled Philosopher's Stone! All this and muggles too. Now, what are they?\", 'industryIdentifiers': [{'type': 'ISBN_10', 'identifier': '0747532699'}, {'type': 'ISBN_13', 'identifier': '9780747532699'}], 'readingModes': {'text': False, 'image': False}, 'pageCount': 223, 'printType': 'BOOK', 'categories': ['Juvenile Fiction'], 'averageRating': 4.5, 'ratingsCount': 19, 'maturityRating': 'NOT_MATURE', 'allowAnonLogging': False, 'contentVersion': 'preview-1.0.0', 'imageLinks': {'smallThumbnail': 'http://books.google.com/books/content?id=yZ1APgAACAAJ&printsec=frontcover&img=1&zoom=5&source=gbs_api', 'thumbnail': 'http://books.google.com/books/content?id=yZ1APgAACAAJ&printsec=frontcover&img=1&zoom=1&source=gbs_api'}, 'language': 'en', 'previewLink': 'http://books.google.com/books?id=yZ1APgAACAAJ&dq=isbn:0747532699&hl=&cd=1&source=gbs_api', 'infoLink': 'http://books.google.com/books?id=yZ1APgAACAAJ&dq=isbn:0747532699&hl=&source=gbs_api', 'canonicalVolumeLink': 'https://books.google.com/books/about/Harry_Potter_1_and_the_Philosopher_s_Sto.html?hl=&id=yZ1APgAACAAJ'}, 'saleInfo': {'country': 'US', 'saleability': 'NOT_FOR_SALE', 'isEbook': False}, 'accessInfo': {'country': 'US', 'viewability': 'NO_PAGES', 'embeddable': False, 'publicDomain': False, 'textToSpeechPermission': 'ALLOWED', 'epub': {'isAvailable': False}, 'pdf': {'isAvailable': False}, 'webReaderLink': 'http://play.google.com/books/reader?id=yZ1APgAACAAJ&hl=&printsec=frontcover&source=gbs_api', 'accessViewStatus': 'NONE', 'quoteSharingAllowed': False}, 'searchInfo': {'textSnippet': 'Harry Potter is an ordinary boy who lives in a cupboard under the stairs at his Aunt Petunia and Uncle Vernon&#39;s house, which he thinks is normal for someone like him who&#39;s parents have been killed in a &#39;car crash&#39;.'}}\n"
     ]
    }
   ],
   "source": [
    "for x in df[\"items\"]:\n",
    "    print(x)"
   ]
  },
  {
   "cell_type": "markdown",
   "metadata": {},
   "source": [
    "### Questions:"
   ]
  },
  {
   "cell_type": "markdown",
   "metadata": {},
   "source": [
    "1. Add yourself to the authors list"
   ]
  },
  {
   "cell_type": "markdown",
   "metadata": {},
   "source": [
    "2. Access the description key and replace all mentions of the name Harry Potter with Barry Manilow"
   ]
  },
  {
   "cell_type": "code",
   "execution_count": 125,
   "metadata": {
    "ExecuteTime": {
     "end_time": "2019-06-10T15:25:12.328085Z",
     "start_time": "2019-06-10T15:25:12.319474Z"
    }
   },
   "outputs": [
    {
     "ename": "SyntaxError",
     "evalue": "'return' outside function (<ipython-input-125-8839f45404c8>, line 3)",
     "output_type": "error",
     "traceback": [
      "\u001b[0;36m  File \u001b[0;32m\"<ipython-input-125-8839f45404c8>\"\u001b[0;36m, line \u001b[0;32m3\u001b[0m\n\u001b[0;31m    return True\u001b[0m\n\u001b[0m    ^\u001b[0m\n\u001b[0;31mSyntaxError\u001b[0m\u001b[0;31m:\u001b[0m 'return' outside function\n"
     ]
    }
   ],
   "source": [
    "for name in df[\"items\"][0][\"volumeInfo\"][\"description\"]:\n",
    "    if name== \"Harry Potter\":\n",
    "        name==\"Barry Manilow\"\n",
    "        print(name)\n",
    "\n",
    "        "
   ]
  },
  {
   "cell_type": "code",
   "execution_count": null,
   "metadata": {},
   "outputs": [],
   "source": [
    "for key, value in df[\"items\"][0][\"volumeInfo\"][\"description\"].items():\n",
    "    # do something with value\n",
    "    inputdict[key] = newvalue"
   ]
  },
  {
   "cell_type": "code",
   "execution_count": 112,
   "metadata": {
    "ExecuteTime": {
     "end_time": "2019-06-10T15:13:35.890200Z",
     "start_time": "2019-06-10T15:13:35.795516Z"
    }
   },
   "outputs": [
    {
     "ename": "KeyError",
     "evalue": "'description'",
     "output_type": "error",
     "traceback": [
      "\u001b[0;31m---------------------------------------------------------------------------\u001b[0m",
      "\u001b[0;31mKeyError\u001b[0m                                  Traceback (most recent call last)",
      "\u001b[0;32m<ipython-input-112-b67eaa380d0e>\u001b[0m in \u001b[0;36m<module>\u001b[0;34m\u001b[0m\n\u001b[0;32m----> 1\u001b[0;31m \u001b[0mprint\u001b[0m\u001b[0;34m(\u001b[0m\u001b[0mharry_dict\u001b[0m\u001b[0;34m[\u001b[0m\u001b[0;34m'description'\u001b[0m\u001b[0;34m]\u001b[0m\u001b[0;34m)\u001b[0m\u001b[0;34m\u001b[0m\u001b[0;34m\u001b[0m\u001b[0m\n\u001b[0m",
      "\u001b[0;31mKeyError\u001b[0m: 'description'"
     ]
    }
   ],
   "source": [
    "print(harry_dict['description'])"
   ]
  },
  {
   "cell_type": "markdown",
   "metadata": {},
   "source": [
    "3. Print the industryIdentifiers in the following way:\n",
    "\n",
    "```\n",
    "     \"The type is ISBN 10 with crazy identifier: 0747532699. The second type is ISBN 13 with even longer identifier: 9780747532699\" \n",
    "   ```\n",
    "   \n",
    "Do this by indexing into the dictionary, don't just copy and paste the number"
   ]
  },
  {
   "cell_type": "code",
   "execution_count": null,
   "metadata": {},
   "outputs": [],
   "source": []
  },
  {
   "cell_type": "markdown",
   "metadata": {},
   "source": [
    "4. Wrap it all in a function that can do the same steps (1-3) to any book with a similar Json file. \n",
    "\n",
    "Use the following parameters: dictionary, name_of_author (your name), name_to_replace (e.g. Harry Potter), replacement_name (e.g Barry Manilow)\n",
    "\n",
    "Return the dictionary with the added author name and with Harry Potter replaced. You only need to print out the ISBN numbers the same way as before (don't worry about returning them)"
   ]
  },
  {
   "cell_type": "code",
   "execution_count": 126,
   "metadata": {
    "ExecuteTime": {
     "end_time": "2019-06-10T15:31:37.407686Z",
     "start_time": "2019-06-10T15:31:37.361963Z"
    }
   },
   "outputs": [
    {
     "data": {
      "text/plain": [
       "[{'type': 'ISBN_10', 'identifier': '0747532699'},\n",
       " {'type': 'ISBN_13', 'identifier': '9780747532699'}]"
      ]
     },
     "execution_count": 126,
     "metadata": {},
     "output_type": "execute_result"
    }
   ],
   "source": [
    "df[\"items\"][0][\"volumeInfo\"][\"industryIdentifiers\"]"
   ]
  },
  {
   "cell_type": "markdown",
   "metadata": {},
   "source": [
    "[Stretch]\n",
    "5. Create a data frame with the following columns: author, id, publisher, title.\n",
    "Insert to the data frame multiple rows (one for each author). \n",
    "\n",
    "You are supposed to have multiple rows since you added yourself as an author. Insert to the other columns the appropriate data from the harry_dict dictionary."
   ]
  },
  {
   "cell_type": "code",
   "execution_count": null,
   "metadata": {},
   "outputs": [],
   "source": []
  }
 ],
 "metadata": {
  "kernelspec": {
   "display_name": "Python 3",
   "language": "python",
   "name": "python3"
  },
  "language_info": {
   "codemirror_mode": {
    "name": "ipython",
    "version": 3
   },
   "file_extension": ".py",
   "mimetype": "text/x-python",
   "name": "python",
   "nbconvert_exporter": "python",
   "pygments_lexer": "ipython3",
   "version": "3.7.1"
  },
  "toc": {
   "base_numbering": 1,
   "nav_menu": {},
   "number_sections": true,
   "sideBar": true,
   "skip_h1_title": false,
   "title_cell": "Table of Contents",
   "title_sidebar": "Contents",
   "toc_cell": false,
   "toc_position": {},
   "toc_section_display": true,
   "toc_window_display": false
  },
  "varInspector": {
   "cols": {
    "lenName": 16,
    "lenType": 16,
    "lenVar": 40
   },
   "kernels_config": {
    "python": {
     "delete_cmd_postfix": "",
     "delete_cmd_prefix": "del ",
     "library": "var_list.py",
     "varRefreshCmd": "print(var_dic_list())"
    },
    "r": {
     "delete_cmd_postfix": ") ",
     "delete_cmd_prefix": "rm(",
     "library": "var_list.r",
     "varRefreshCmd": "cat(var_dic_list()) "
    }
   },
   "types_to_exclude": [
    "module",
    "function",
    "builtin_function_or_method",
    "instance",
    "_Feature"
   ],
   "window_display": false
  }
 },
 "nbformat": 4,
 "nbformat_minor": 2
}
